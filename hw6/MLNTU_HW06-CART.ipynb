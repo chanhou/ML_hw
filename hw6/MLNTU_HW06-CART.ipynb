{
 "metadata": {
  "name": "",
  "signature": "sha256:60f29578cd237982f88f936c305f9f80ca80d154faf1d15b7ccd8697aed3c9ba"
 },
 "nbformat": 3,
 "nbformat_minor": 0,
 "worksheets": [
  {
   "cells": [
    {
     "cell_type": "markdown",
     "metadata": {},
     "source": [
      "## ML HW 06 + CART + random forest\n",
      "\n",
      "insert data"
     ]
    },
    {
     "cell_type": "code",
     "collapsed": false,
     "input": [
      "import numpy as np\n",
      "import math\n",
      "import scipy.linalg as sp"
     ],
     "language": "python",
     "metadata": {},
     "outputs": [],
     "prompt_number": 1
    },
    {
     "cell_type": "code",
     "collapsed": false,
     "input": [
      "data_train = np.genfromtxt(\"./hw6_train.dat.txt\", dtype=float, delimiter='') \n",
      "# data_train = np.insert(data_train, 0, 1, axis=1)\n",
      "data_test = np.genfromtxt(\"./hw6_test.dat.txt\", dtype=float, delimiter='') \n",
      "# data_test = np.insert(data_test, 0, 1, axis=1)\n",
      "# data_train[:,0:3].shape\n",
      "\n"
     ],
     "language": "python",
     "metadata": {},
     "outputs": [],
     "prompt_number": 2
    },
    {
     "cell_type": "code",
     "collapsed": false,
     "input": [
      "# x_train = data_train[:,0:3]\n",
      "# y_train = data_train[:,-1]\n",
      "# x_test = data_test\n",
      "# len(data_train[0])\n",
      "# u = np.ones(data_train[:,0:3].shape[0])*(1./data_train[:,0:3].shape[0])\n",
      "# u.dot(data_train[:,0:3])\n",
      "# u.shape\n",
      "# 1./data_train[:,0:3].shape[0]\n",
      "data_train[0]\n",
      "# data_test[:,0:2]"
     ],
     "language": "python",
     "metadata": {},
     "outputs": [
      {
       "metadata": {},
       "output_type": "pyout",
       "prompt_number": 3,
       "text": [
        "array([ 0.757222,  0.633831, -1.      ])"
       ]
      }
     ],
     "prompt_number": 3
    },
    {
     "cell_type": "code",
     "collapsed": false,
     "input": [
      "# x_train.shape[0]\n",
      "# np.ones(x_train.shape[0])*(1./x_train.shape[0])\n",
      "# (data_train[:,0:2].T*(np.ones(x_train.shape[0])*(1./x_train.shape[0])))\n",
      "## d1 = data_train[:,0:2][data_train[:,-1]==1]*0.1\n",
      "## d_1 = data_train[:,0:2][data_train[:,-1]==-1]*0.1\n",
      "# data_train[:,0:3][data_train[:,-1]==1] = data_train[:,0:3][data_train[:,-1]==1]*0.1\n",
      "##dd = data_train[:,0:2]*0.1\n",
      "# data_train[0,0:2]\n",
      "## dd[0][0] = dd[0][0]*2\n",
      "## dd[0][1]\n",
      "## math.copysign(1,2.0)"
     ],
     "language": "python",
     "metadata": {},
     "outputs": [
      {
       "metadata": {},
       "output_type": "pyout",
       "prompt_number": 78,
       "text": [
        "1.0"
       ]
      }
     ],
     "prompt_number": 78
    },
    {
     "cell_type": "code",
     "collapsed": false,
     "input": [
      "# data_train[:,0:2][data_train[:,-1]==1][0] = data_train[:,0:2][data_train[:,-1]==1][0]*0.1\n",
      "# data_train[:,0:2][data_train[:,-1]==1][0]"
     ],
     "language": "python",
     "metadata": {},
     "outputs": [
      {
       "metadata": {},
       "output_type": "pyout",
       "prompt_number": 58,
       "text": [
        "array([ 0.24931 ,  0.618635])"
       ]
      }
     ],
     "prompt_number": 58
    },
    {
     "cell_type": "code",
     "collapsed": false,
     "input": [
      "arr = [5,3,7,2,6,34,46,344,545,32,5,22]\n",
      "add=np.argsort(arr)\n",
      "print arr\n",
      "arr = np.array(arr)\n",
      "print arr[add][0]"
     ],
     "language": "python",
     "metadata": {},
     "outputs": [
      {
       "output_type": "stream",
       "stream": "stdout",
       "text": [
        "[5, 3, 7, 2, 6, 34, 46, 344, 545, 32, 5, 22]\n",
        "2\n"
       ]
      }
     ],
     "prompt_number": 4
    },
    {
     "cell_type": "markdown",
     "metadata": {},
     "source": [
      "## CART implement Q16-18"
     ]
    },
    {
     "cell_type": "code",
     "collapsed": false,
     "input": [
      "def split(arr, cond):\n",
      "  return [arr[cond], arr[~cond]]\n",
      "\n",
      "x = np.copy(data_train)\n",
      "index_sort = np.argsort(x[:, 1])\n",
      "x = x[index_sort]\n",
      "# x\n",
      "\n",
      "xx = x[:,0] # select x by dimension\n",
      "# xx\n",
      "f = x[:,-1] # select label\n",
      "\n",
      "\n",
      "# a = np.array([1,3,5,7,2,4,6,8])\n",
      "dd,gg = split(x, x[:,0]<0.5)\n",
      "x[:,-1][0:dd.shape[0]]\n",
      "print dd\n",
      "# print gg\n",
      "# print gg.shape\n",
      "# print f\n",
      "# print f[0:dd.shape[0]].shape\n",
      "# print f[dd.shape[0]:].shape\n",
      "# print x[:,0]"
     ],
     "language": "python",
     "metadata": {},
     "outputs": [
      {
       "output_type": "stream",
       "stream": "stdout",
       "text": [
        "[[ 0.374151   0.0120482  1.       ]\n",
        " [ 0.366818   0.0135169  1.       ]\n",
        " [ 0.123521   0.0516625  1.       ]\n",
        " [ 0.304777   0.0529649  1.       ]\n",
        " [ 0.249529   0.0709084  1.       ]\n",
        " [ 0.296033   0.0885163  1.       ]\n",
        " [ 0.432404   0.0901487  1.       ]\n",
        " [ 0.243625   0.106277   1.       ]\n",
        " [ 0.43615    0.136922   1.       ]\n",
        " [ 0.464724   0.159682   1.       ]\n",
        " [ 0.0123539  0.178643  -1.       ]\n",
        " [ 0.284148   0.182427   1.       ]\n",
        " [ 0.435715   0.190071   1.       ]\n",
        " [ 0.45893    0.227062   1.       ]\n",
        " [ 0.160755   0.238718  -1.       ]\n",
        " [ 0.172211   0.254331  -1.       ]\n",
        " [ 0.03183    0.289761  -1.       ]\n",
        " [ 0.391575   0.291076   1.       ]\n",
        " [ 0.0254967  0.300503  -1.       ]\n",
        " [ 0.421563   0.302683   1.       ]\n",
        " [ 0.0529041  0.338461  -1.       ]\n",
        " [ 0.104584   0.357892  -1.       ]\n",
        " [ 0.145192   0.377728  -1.       ]\n",
        " [ 0.116866   0.378804  -1.       ]\n",
        " [ 0.205254   0.404956  -1.       ]\n",
        " [ 0.204973   0.406648  -1.       ]\n",
        " [ 0.474435   0.414558  -1.       ]\n",
        " [ 0.275732   0.43115   -1.       ]\n",
        " [ 0.312109   0.442938  -1.       ]\n",
        " [ 0.171491   0.50076   -1.       ]\n",
        " [ 0.420638   0.503567  -1.       ]\n",
        " [ 0.375914   0.505747  -1.       ]\n",
        " [ 0.0748025  0.568699  -1.       ]\n",
        " [ 0.272193   0.587396  -1.       ]\n",
        " [ 0.124333   0.611515  -1.       ]\n",
        " [ 0.24931    0.618635   1.       ]\n",
        " [ 0.248985   0.646083  -1.       ]\n",
        " [ 0.0435908  0.646312  -1.       ]\n",
        " [ 0.358618   0.651613  -1.       ]\n",
        " [ 0.265266   0.65833   -1.       ]\n",
        " [ 0.385435   0.68299   -1.       ]\n",
        " [ 0.158561   0.690295  -1.       ]\n",
        " [ 0.328701   0.721918  -1.       ]\n",
        " [ 0.032359   0.778401  -1.       ]\n",
        " [ 0.369345   0.781697  -1.       ]\n",
        " [ 0.395407   0.791184  -1.       ]\n",
        " [ 0.0323543  0.830701  -1.       ]\n",
        " [ 0.310117   0.857713  -1.       ]\n",
        " [ 0.296852   0.868018  -1.       ]\n",
        " [ 0.312939   0.871275  -1.       ]\n",
        " [ 0.466137   0.877674  -1.       ]\n",
        " [ 0.475398   0.920203  -1.       ]]\n"
       ]
      }
     ],
     "prompt_number": 6
    },
    {
     "cell_type": "code",
     "collapsed": false,
     "input": [
      "best_index = 5\n",
      "tree = {best_index:{}}\n",
      "tree[5]=[1,2,3]\n",
      "tree[6]=1\n",
      "tree\n"
     ],
     "language": "python",
     "metadata": {},
     "outputs": [
      {
       "metadata": {},
       "output_type": "pyout",
       "prompt_number": 5,
       "text": [
        "{5: [1, 2, 3], 6: 1}"
       ]
      }
     ],
     "prompt_number": 5
    },
    {
     "cell_type": "code",
     "collapsed": false,
     "input": [
      "c = 2.\n",
      "\n",
      "def split(arr, cond):\n",
      "  return [arr[cond], arr[~cond]]\n",
      "\n",
      "def decision(train_data):\n",
      "    \n",
      "    x = np.copy(train_data[:])\n",
      "    x = np.array(x)\n",
      "    s = [-1,1]\n",
      "    \n",
      "    E_in_record = 0\n",
      "    \n",
      "    theta_record = 0\n",
      "    s_record = 0\n",
      "    theta_collect = 0\n",
      "    s_collect = 0\n",
      "    dim = 0\n",
      "    \n",
      "    err_record = 100000 # initiaite guess of error\n",
      "    for theta_count in range(0,(len(x[0])-1)): # theta_count: 0->2\n",
      "        # x = x[np.argsort(x[:, theta_count])] # sorting data by column\n",
      "        \n",
      "        index_sort = np.argsort(x[:, theta_count])\n",
      "        x = x[index_sort]\n",
      "        \n",
      "#         xx = x[:,theta_count] # select x by dimension\n",
      "#         f = x[:,-1] # select label\n",
      "\n",
      "        # print 'theta count',theta_count\n",
      "        \n",
      "        for the_theta in range(0,len(x)+1):    # gg: 0->101\n",
      "            if the_theta == 0: # from minus infinity to xx[0]\n",
      "                # theta = (xx[the_theta]+(-1))/2\n",
      "                theta = (x[:,theta_count][the_theta]+(-1))/2\n",
      "            elif the_theta == (len(x)):# from xx[last] to infinity\n",
      "                # theta = (xx[the_theta-1]+(1))/2\n",
      "                theta = (x[:,theta_count][the_theta-1]+(1))/2\n",
      "            else : # take average position between 2 nodes\n",
      "                # theta = (xx[the_theta] + xx[the_theta-1])/2\n",
      "                theta = (x[:,theta_count][the_theta] + x[:,theta_count][the_theta-1])/2\n",
      "            for ii in s: # try both side\n",
      "                # print 'sign',ii\n",
      "                count = 0\n",
      "                # err = 100\n",
      "                \n",
      "                # use theta to cut data to 2 set x[:,0]<0.5\n",
      "                # D_c = split(xx, xx < theta )\n",
      "#                 print 'original',x.shape\n",
      "                \n",
      "                D_c = split(x, x[:,theta_count] < theta )\n",
      "                err = 0\n",
      "#                 print 'D_c havent split',D_c[0].shape,D_c[1].shape\n",
      "                for d_c in D_c:\n",
      "#                     print 'dc split', dc.shape\n",
      "#                     print 'try'\n",
      "#                     print theta\n",
      "#                     print d_c[:,theta_count]\n",
      "                    err += d_c.shape[0]*impurity(d_c, ii,theta_count, theta)\n",
      "                                        \n",
      "                if err < err_record:  # record the best error\n",
      "                    err_record = err\n",
      "                    theta_record = theta\n",
      "                    s_record = ii\n",
      "                    dim = theta_count\n",
      "#                     print 's_record,  dim,  theta_record, err_record'\n",
      "#                     print s_record,dim,theta_record,err_record\n",
      "\n",
      "    E_in = err_record/len(x)\n",
      "    D_c = split(x, x[:,dim] < theta_record )\n",
      "    #print 'error', E_in\n",
      "    #print 'hypo',s_record,dim,theta_record\n",
      "    #print 'validation data'\n",
      "    #print 'length data1',len(D_c[0])\n",
      "    #print 'length data2',len(D_c[1])\n",
      "    #print ''\n",
      "\n",
      "    return s_record, dim, theta_record\n",
      "\n",
      "def impurity(data, sign,dim,theta):\n",
      "    record_correct = 0.\n",
      "    record_fault = 0.\n",
      "    \n",
      "#     print data.shape\n",
      "    \n",
      "    if data.shape[0] == 0:\n",
      "        return 0\n",
      "    \n",
      "\n",
      "    y = data[:,-1]\n",
      "#     print y.shape\n",
      "    \n",
      "    for i in range(data.shape[0]): # N of its number\n",
      "        hypo = sign*math.copysign(1,(data[:,dim][i]-theta))\n",
      "\n",
      "        if y[i] == hypo:\n",
      "            record_correct +=1.\n",
      "        else:\n",
      "            record_fault +=1.\n",
      "        \n",
      "    ## bug of gini index???? need devide by 2?? no need devide\n",
      "    gini = 1- ( (record_correct/data.shape[0])**2 + (record_fault/data.shape[0])**2 )\n",
      "    return gini\n",
      "\n",
      "def check_impurity(data, sign,dim,theta):\n",
      "    record_correct = 0.\n",
      "    record_fault = 0.\n",
      "        \n",
      "    if data.shape[0] == 0:\n",
      "        return 0\n",
      "\n",
      "    y = data[:,-1]\n",
      "    \n",
      "    for i in range(data.shape[0]): # N of its number\n",
      "        hypo = sign*math.copysign(1,(data[:,dim][i]-theta))\n",
      "        if y[i] == hypo:\n",
      "            record_correct +=1.\n",
      "        else:\n",
      "            record_fault +=1.\n",
      "        \n",
      "    ## bug of gini index???? need devide by 2?? no need \n",
      "    #print ''\n",
      "    #print 'check impurity'\n",
      "    #print 'record_correct', record_correct\n",
      "    #print 'record_fault', record_fault\n",
      "    gini = 1- ( (record_correct/data.shape[0])**2 + (record_fault/data.shape[0])**2 )\n",
      "    \n",
      "    base = 0.\n",
      "    if gini == 0:\n",
      "\n",
      "        #print 'check done!! '\n",
      "        if record_correct == 0:\n",
      "            sign *= -1\n",
      "        base = sign*math.copysign(1,(data[:,dim][0]-theta)) # arbitrary data since gini = 0\n",
      "        #print 'final y::',y,'base::',base\n",
      "        # print '## breakdown criteria meet::', base\n",
      "    #else:\n",
      "        #print ''\n",
      "        #print 'check failed'\n",
      "    \n",
      "    return [gini,base]\n",
      "\n",
      "def cart(Data, sign=1,dim=0,theta=0.5):\n",
      "    \n",
      "    checkk = check_impurity(Data,sign,dim,theta)\n",
      "    if checkk[0] == 0 :\n",
      "        answer = checkk[1] \n",
      "#         print '---- no more tree generate'\n",
      "#         print '---- predict--', answer\n",
      "        return answer\n",
      "    \n",
      "    else:\n",
      "        sign, dim, theta = decision(Data)\n",
      "\n",
      "        tree = []\n",
      "        tree.append([sign, dim, theta])\n",
      "        \n",
      "        #tree_stru = {'start':{}}\n",
      "        #tree_stru['start'] = [sign, dim, theta]\n",
      "\n",
      "        D_c = split(Data, Data[:,dim] < theta )\n",
      "    \n",
      "        for d_c in D_c:\n",
      "#             print 'building subtree'\n",
      "            \n",
      "            subtree = cart(d_c,sign,dim,theta)\n",
      "            if type(subtree) == list:\n",
      "                tree.append(subtree)\n",
      "                #tree_stru['start'].append(subtree)\n",
      "            else:\n",
      "                tree.append(subtree)\n",
      "                #tree_stru['start'].append(subtree)\n",
      "#             tree[best_index][attribute_value] = subtree\n",
      "#             print '*****************************'\n",
      "#             print 'tree---building--process',tree\n",
      "            \n",
      "    return tree\n",
      "        "
     ],
     "language": "python",
     "metadata": {},
     "outputs": [],
     "prompt_number": 44
    },
    {
     "cell_type": "code",
     "collapsed": false,
     "input": [
      "# tree = {}\n",
      "# tree['g'] = {}\n",
      "# tree['g']['g']= [1,2,3]\n",
      "# tree['g']['pre']= 1\n",
      "# tree\n",
      "# type([1])==list\n",
      "type('1') == str"
     ],
     "language": "python",
     "metadata": {},
     "outputs": [
      {
       "metadata": {},
       "output_type": "pyout",
       "prompt_number": 27,
       "text": [
        "True"
       ]
      }
     ],
     "prompt_number": 27
    },
    {
     "cell_type": "code",
     "collapsed": false,
     "input": [
      "xxxx = np.copy(data_train)\n",
      "\n",
      "tree = cart(xxxx)\n",
      "print ''\n",
      "print tree"
     ],
     "language": "python",
     "metadata": {},
     "outputs": [
      {
       "output_type": "stream",
       "stream": "stdout",
       "text": [
        "\n",
        "check impurity\n",
        "record_correct 68.0\n",
        "record_fault 32.0\n",
        "\n",
        "check failed\n",
        "error"
       ]
      },
      {
       "output_type": "stream",
       "stream": "stdout",
       "text": [
        " 0.350067842605\n",
        "hypo -1 1 0.626233\n",
        "validation data\n",
        "length data1 67\n",
        "length data2 33\n",
        "\n",
        "\n",
        "check impurity\n",
        "record_correct 45.0\n",
        "record_fault 22.0\n",
        "\n",
        "check failed\n",
        "error"
       ]
      },
      {
       "output_type": "stream",
       "stream": "stdout",
       "text": [
        " 0.229927286644\n",
        "hypo -1 0 0.2244395\n",
        "validation data\n",
        "length data1 15\n",
        "length data2 52\n",
        "\n",
        "\n",
        "check impurity\n",
        "record_correct 1.0\n",
        "record_fault 14.0\n",
        "\n",
        "check failed\n",
        "error 0.0\n",
        "hypo -1 1 0.11515275\n",
        "validation data\n",
        "length data1 1\n",
        "length data2 14\n",
        "\n",
        "\n",
        "check impurity\n",
        "record_correct 1.0\n",
        "record_fault 0.0\n",
        "check done!! \n",
        "final y:: [ 1.] base:: 1.0\n",
        "\n",
        "check impurity\n",
        "record_correct 14.0\n",
        "record_fault 0.0\n",
        "check done!! \n",
        "final y:: [-1. -1. -1. -1. -1. -1. -1. -1. -1. -1. -1. -1. -1. -1.] base:: -1.0\n",
        "\n",
        "check impurity\n",
        "record_correct 8.0\n",
        "record_fault 44.0\n",
        "\n",
        "check failed\n",
        "error"
       ]
      },
      {
       "output_type": "stream",
       "stream": "stdout",
       "text": [
        " 0.220745920746\n",
        "hypo -1 0 0.541508\n",
        "validation data\n",
        "length data1 22\n",
        "length data2 30\n",
        "\n",
        "\n",
        "check impurity\n",
        "record_correct 15.0\n",
        "record_fault 7.0\n",
        "\n",
        "check failed\n",
        "error 0.162770562771\n",
        "hypo -1 1 0.3586205\n",
        "validation data\n",
        "length data1 15\n",
        "length data2 7\n",
        "\n",
        "\n",
        "check impurity\n",
        "record_correct 14.0\n",
        "record_fault 1.0\n",
        "\n",
        "check failed\n",
        "error 0.0\n",
        "hypo -1 0 0.501625\n",
        "validation data\n",
        "length data1 14\n",
        "length data2 1\n",
        "\n",
        "\n",
        "check impurity\n",
        "record_correct 14.0\n",
        "record_fault 0.0\n",
        "check done!! \n",
        "final y:: [ 1.  1.  1.  1.  1.  1.  1.  1.  1.  1.  1.  1.  1.  1.] base:: 1.0\n",
        "\n",
        "check impurity\n",
        "record_correct 1.0\n",
        "record_fault 0.0\n",
        "check done!! \n",
        "final y:: [-1.] base:: -1.0\n",
        "\n",
        "check impurity\n",
        "record_correct 6.0\n",
        "record_fault 1.0\n",
        "\n",
        "check failed\n",
        "error 0.0\n",
        "hypo -1 0 0.2607515\n",
        "validation data\n",
        "length data1 1\n",
        "length data2 6\n",
        "\n",
        "\n",
        "check impurity\n",
        "record_correct 1.0\n",
        "record_fault 0.0\n",
        "check done!! \n",
        "final y:: [ 1.] base:: 1.0\n",
        "\n",
        "check impurity\n",
        "record_correct 6.0\n",
        "record_fault 0.0\n",
        "check done!! \n",
        "final y:: [-1. -1. -1. -1. -1. -1.] base:: -1.0\n",
        "\n",
        "check impurity\n",
        "record_correct 1.0\n",
        "record_fault 29.0\n",
        "\n",
        "check failed\n",
        "error 0.06\n",
        "hypo -1 1 0.285925\n",
        "validation data\n",
        "length data1 10\n",
        "length data2 20\n",
        "\n",
        "\n",
        "check impurity\n",
        "record_correct 9.0\n",
        "record_fault 1.0\n",
        "\n",
        "check failed\n",
        "error 0.0\n",
        "hypo -1 1 0.2660385\n",
        "validation data\n",
        "length data1 9\n",
        "length data2 1\n",
        "\n",
        "\n",
        "check impurity\n",
        "record_correct 9.0\n",
        "record_fault 0.0\n",
        "check done!! \n",
        "final y:: [ 1.  1.  1.  1.  1.  1.  1.  1.  1.] base:: 1.0\n",
        "\n",
        "check impurity\n",
        "record_correct 1.0\n",
        "record_fault 0.0\n",
        "check done!! \n",
        "final y:: [-1.] base:: -1.0\n",
        "\n",
        "check impurity\n",
        "record_correct 0.0\n",
        "record_fault 20.0\n",
        "check done!! \n",
        "final y:: [ 1.  1.  1.  1.  1.  1.  1.  1.  1.  1.  1.  1.  1.  1.  1.  1.  1.  1.\n",
        "  1.  1.] base:: 1.0\n",
        "\n",
        "check impurity\n",
        "record_correct 30.0\n",
        "record_fault 3.0\n",
        "\n",
        "check failed\n",
        "error"
       ]
      },
      {
       "output_type": "stream",
       "stream": "stdout",
       "text": [
        " 0.0\n",
        "hypo -1 0 0.8781715\n",
        "validation data\n",
        "length data1 30\n",
        "length data2 3\n",
        "\n",
        "\n",
        "check impurity\n",
        "record_correct 0.0\n",
        "record_fault 30.0\n",
        "check done!! \n",
        "final y:: [-1. -1. -1. -1. -1. -1. -1. -1. -1. -1. -1. -1. -1. -1. -1. -1. -1. -1.\n",
        " -1. -1. -1. -1. -1. -1. -1. -1. -1. -1. -1. -1.] base:: -1.0\n",
        "\n",
        "check impurity\n",
        "record_correct 0.0\n",
        "record_fault 3.0\n",
        "check done!! \n",
        "final y:: [ 1.  1.  1.] base:: 1.0\n",
        "\n",
        "[[-1, 1, 0.62623300000000004], [[-1, 0, 0.22443950000000001], [[-1, 1, 0.11515275], 1.0, -1.0], [[-1, 0, 0.54150799999999999], [[-1, 1, 0.35862050000000001], [[-1, 0, 0.50162499999999999], 1.0, -1.0], [[-1, 0, 0.26075150000000002], 1.0, -1.0]], [[-1, 1, 0.28592499999999998], [[-1, 1, 0.26603850000000001], 1.0, -1.0], 1.0]]], [[-1, 0, 0.87817149999999999], -1.0, 1.0]]\n"
       ]
      }
     ],
     "prompt_number": 32
    },
    {
     "cell_type": "code",
     "collapsed": false,
     "input": [
      "# def print_tree(tree):\n",
      "#     for i in tree:\n",
      "#         print 'root',i[0]\n",
      "#         if len(i) == 1:\n",
      "#             break\n",
      "#         else :\n",
      "            \n",
      "\n",
      "# print len(tree)\n",
      "# for i in tree:\n",
      "#     print i\n",
      "# print len(tree[1])\n",
      "# for i in tree[1]:\n",
      "#     print i\n",
      "# for i in tree[1][2]:\n",
      "#     print i\n",
      "    \n",
      "print tree[0]\n",
      "print ''\n",
      "print tree[1]\n",
      "print ''\n",
      "print tree[2]"
     ],
     "language": "python",
     "metadata": {},
     "outputs": [
      {
       "output_type": "stream",
       "stream": "stdout",
       "text": [
        "[-1, 1, 0.62623300000000004]\n",
        "\n",
        "[[-1, 0, 0.22443950000000001], [[-1, 1, 0.11515275], '1', '-1'], [[-1, 0, 0.54150799999999999], [[-1, 1, 0.35862050000000001], [[-1, 0, 0.50162499999999999], '1', '-1'], [[-1, 0, 0.26075150000000002], '1', '-1']], [[-1, 1, 0.28592499999999998], [[-1, 1, 0.26603850000000001], '1', '-1'], '1']]]\n",
        "\n",
        "[[-1, 0, 0.87817149999999999], '-1', '1']\n"
       ]
      }
     ],
     "prompt_number": 181
    },
    {
     "cell_type": "code",
     "collapsed": false,
     "input": [
      "from pprint import pprint\n",
      "pprint(tree)\n",
      "\n",
      "# len([[1,2,3])"
     ],
     "language": "python",
     "metadata": {},
     "outputs": [
      {
       "output_type": "stream",
       "stream": "stdout",
       "text": [
        "[[-1, 1, 0.62623300000000004],\n",
        " [[-1, 0, 0.22443950000000001],\n",
        "  [[-1, 1, 0.11515275], '1.0', '-1.0'],\n",
        "  [[-1, 0, 0.54150799999999999],\n",
        "   [[-1, 1, 0.35862050000000001],\n",
        "    [[-1, 0, 0.50162499999999999], '1.0', '-1.0'],\n",
        "    [[-1, 0, 0.26075150000000002], '1.0', '-1.0']],\n",
        "   [[-1, 1, 0.28592499999999998],\n",
        "    [[-1, 1, 0.26603850000000001], '1.0', '-1.0'],\n",
        "    '-1.0']]],\n",
        " [[-1, 0, 0.87817149999999999], '1.0', '-1.0']]\n"
       ]
      }
     ],
     "prompt_number": 10
    },
    {
     "cell_type": "code",
     "collapsed": false,
     "input": [
      "## dont use sign split\n",
      "from pprint import pprint\n",
      "pprint(tree)\n"
     ],
     "language": "python",
     "metadata": {},
     "outputs": [
      {
       "output_type": "stream",
       "stream": "stdout",
       "text": [
        "[[-1, 1, 0.62623300000000004],\n",
        " [[-1, 0, 0.22443950000000001],\n",
        "  [[-1, 1, 0.11515275], '1', '-1'],\n",
        "  [[-1, 0, 0.54150799999999999],\n",
        "   [[-1, 1, 0.35862050000000001],\n",
        "    [[-1, 0, 0.50162499999999999], '1', '-1'],\n",
        "    [[-1, 0, 0.26075150000000002], '1', '-1']],\n",
        "   [[-1, 1, 0.28592499999999998],\n",
        "    [[-1, 1, 0.26603850000000001], '1', '-1'],\n",
        "    '1']]],\n",
        " [[-1, 0, 0.87817149999999999], '-1', '1']]\n"
       ]
      }
     ],
     "prompt_number": 115
    },
    {
     "cell_type": "code",
     "collapsed": false,
     "input": [
      "def classify(tree, data, last_tree):\n",
      "    '''Returns a classification label for instance, given a decision tree'''\n",
      "    \n",
      "    if type(tree) != list:\n",
      "        # pred = last_tree[0]*math.copysign(1,(data[last_tree[1]]-last_tree[2]))\n",
      "        pred = tree\n",
      "        return pred\n",
      "    else:\n",
      "        sign = tree[0][0]\n",
      "        dim = tree[0][1]\n",
      "        theta = tree[0][2]\n",
      "        \n",
      "#         hypo = math.copysign(1,(data[dim]-theta))\n",
      "        if data[dim]<theta:\n",
      "            return classify(tree[1],data,tree[0])\n",
      "        else:\n",
      "            return classify(tree[2],data,tree[0])\n",
      "        "
     ],
     "language": "python",
     "metadata": {},
     "outputs": [],
     "prompt_number": 39
    },
    {
     "cell_type": "code",
     "collapsed": false,
     "input": [
      "a = classify(tree,data_train[0,0:2],[1,1,1])\n",
      "print a"
     ],
     "language": "python",
     "metadata": {},
     "outputs": [
      {
       "output_type": "stream",
       "stream": "stdout",
       "text": [
        "-1.0\n"
       ]
      }
     ],
     "prompt_number": 211
    },
    {
     "cell_type": "code",
     "collapsed": false,
     "input": [
      "train_x[0][0]"
     ],
     "language": "python",
     "metadata": {},
     "outputs": [
      {
       "metadata": {},
       "output_type": "pyout",
       "prompt_number": 36,
       "text": [
        "0.75722199999999995"
       ]
      }
     ],
     "prompt_number": 36
    },
    {
     "cell_type": "code",
     "collapsed": false,
     "input": [
      "#####################  E in of sample   #####################\n",
      "train_x = data_train[:,0:2]\n",
      "train_y = data_train[:,-1]\n",
      "#     test = np.array(test)\n",
      "E_in_record_ = []\n",
      "\n",
      "E_in_record = 0\n",
      "for data in range(train_x.shape[0]):\n",
      "    \n",
      "    G = classify(tree,train_x[data],[1,1,1])\n",
      "#     print G\n",
      "    if G != train_y[data]:\n",
      "        E_in_record += 1.\n",
      "        \n",
      "E_in_record_.append(E_in_record/train_x.shape[0])\n",
      "    \n",
      "#     E_in_record_ = E_in_record_/train_x.shape[0]\n",
      "print 'E_in::',E_in_record_\n",
      "\n",
      "#####################  E out of sample   #####################\n",
      "test_x = data_test[:,0:2]\n",
      "test_y = data_test[:,-1]\n",
      "#     test = np.array(test)\n",
      "E_out_record_ = []\n",
      "\n",
      "E_out_record = 0\n",
      "for data in range(test_x.shape[0]):\n",
      "\n",
      "    G = classify(tree,test_x[data],[1,1,1])\n",
      "    # print G\n",
      "    if G != test_y[data]:\n",
      "        E_out_record += 1.\n",
      "E_out_record_.append(E_out_record/test_x.shape[0])\n",
      "    \n",
      "#     E_out_record = E_out_record/test_x.shape[0]\n",
      "print 'E_out::',E_out_record_"
     ],
     "language": "python",
     "metadata": {},
     "outputs": [
      {
       "output_type": "stream",
       "stream": "stdout",
       "text": [
        "E_in:: [0]\n",
        "E_out:: [0.126]\n"
       ]
      }
     ],
     "prompt_number": 40
    },
    {
     "cell_type": "markdown",
     "metadata": {},
     "source": [
      "## Random forest\n",
      "\n",
      "### Q 19,20"
     ]
    },
    {
     "cell_type": "code",
     "collapsed": false,
     "input": [
      "def RF(data,exp_times,tree_times,sample_n):\n",
      "    \n",
      "    ## training\n",
      "    train_x = data_train[:,0:2]\n",
      "    train_y = data_train[:,-1]\n",
      "    #     test = np.array(test)\n",
      "    E_in_record_ = []\n",
      "    \n",
      "    ## test\n",
      "    test_x = data_test[:,0:2]\n",
      "    test_y = data_test[:,-1]\n",
      "    #     test = np.array(test)\n",
      "    E_out_record_ = []\n",
      "    \n",
      "#     E_in_gt_record = []\n",
      "#     E_out_gt_record = []\n",
      "#     E_out_Gt_record = []\n",
      "    \n",
      "    sample = int(data.shape[0]*sample_n)\n",
      "    \n",
      "    for exp in range(exp_times):\n",
      "        print 'this is ', exp,' times'\n",
      "        tree_record = []\n",
      "        # dat = np.copy(data)\n",
      "#         print 'original',data.shape\n",
      "        for t in range(tree_times):\n",
      "            datt = np.random.permutation(data)\n",
      "            da = datt[0:sample]\n",
      "#             print datt.shape\n",
      "#             print da.shape\n",
      "            tree_record.append(cart(da))\n",
      "            \n",
      "        #####################  E in of sample   #####################\n",
      "        \n",
      "        E_in_record = 0\n",
      "        for dataa in range(train_x.shape[0]):\n",
      "            \n",
      "            G = 0\n",
      "#             g = 0\n",
      "            for forest in range(len(tree_record)):\n",
      "                G += classify(tree_record[forest], train_x[dataa] ,[1,1,1])\n",
      "#                 g = \n",
      "                \n",
      "            G = math.copysign(1, G )\n",
      "            if G != train_y[dataa]:\n",
      "                E_in_record += 1.\n",
      "                \n",
      "        E_in_record_.append(E_in_record/train_x.shape[0])\n",
      "\n",
      "        #####################  E out of sample   #####################\n",
      "        \n",
      "        E_out_record = 0\n",
      "        for dataa in range(test_x.shape[0]):\n",
      "            \n",
      "            G = 0\n",
      "            for forest in range(len(tree_record)):\n",
      "                G += classify(tree_record[forest], test_x[dataa] ,[1,1,1])\n",
      "                \n",
      "            G = math.copysign(1, G )\n",
      "            if G != test_y[dataa]:\n",
      "                E_out_record += 1.\n",
      "        E_out_record_.append(E_out_record/test_x.shape[0])\n",
      "        \n",
      "        print 'E_in', E_in_record/train_x.shape[0], 'E_out', E_out_record/test_x.shape[0]\n",
      "        \n",
      "    E_in = np.array(E_in_record_)\n",
      "    E_out = np.array(E_out_record_)\n",
      "    \n",
      "    print ''\n",
      "    print 'Final:: E_in_G', E_in.mean(),'E_out_G',E_out.mean()\n",
      "    print E_in\n",
      "    print E_out\n",
      "        "
     ],
     "language": "python",
     "metadata": {},
     "outputs": [],
     "prompt_number": 49
    },
    {
     "cell_type": "code",
     "collapsed": false,
     "input": [
      "# data, experiment time, tree number,sample size\n",
      "%time RF(data_train,10,100,0.8)"
     ],
     "language": "python",
     "metadata": {},
     "outputs": [
      {
       "output_type": "stream",
       "stream": "stdout",
       "text": [
        "this is  0  times\n",
        "E_in"
       ]
      },
      {
       "output_type": "stream",
       "stream": "stdout",
       "text": [
        " 0 E_out 0.098\n",
        "this is  1  times\n",
        "E_in"
       ]
      },
      {
       "output_type": "stream",
       "stream": "stdout",
       "text": [
        " 0 E_out 0.111\n",
        "this is  2  times\n",
        "E_in"
       ]
      },
      {
       "output_type": "stream",
       "stream": "stdout",
       "text": [
        " 0 E_out 0.117\n",
        "this is  3  times\n",
        "E_in"
       ]
      },
      {
       "output_type": "stream",
       "stream": "stdout",
       "text": [
        " 0 E_out 0.107\n",
        "this is  4  times\n",
        "E_in"
       ]
      },
      {
       "output_type": "stream",
       "stream": "stdout",
       "text": [
        " 0 E_out 0.117\n",
        "this is  5  times\n",
        "E_in"
       ]
      },
      {
       "output_type": "stream",
       "stream": "stdout",
       "text": [
        " 0 E_out 0.09\n",
        "this is  6  times\n",
        "E_in"
       ]
      },
      {
       "output_type": "stream",
       "stream": "stdout",
       "text": [
        " 0 E_out 0.121\n",
        "this is  7  times\n",
        "E_in"
       ]
      },
      {
       "output_type": "stream",
       "stream": "stdout",
       "text": [
        " 0 E_out 0.109\n",
        "this is  8  times\n",
        "E_in"
       ]
      },
      {
       "output_type": "stream",
       "stream": "stdout",
       "text": [
        " 0 E_out 0.108\n",
        "this is  9  times\n",
        "E_in"
       ]
      },
      {
       "output_type": "stream",
       "stream": "stdout",
       "text": [
        " 0 E_out 0.111\n",
        "Final:: E_in_G 0.0 E_out_G 0.1089\n",
        "[0 0 0 0 0 0 0 0 0 0]\n",
        "[ 0.098  0.111  0.117  0.107  0.117  0.09   0.121  0.109  0.108  0.111]\n",
        "CPU times: user 4min 12s, sys: 835 ms, total: 4min 13s\n",
        "Wall time: 4min 14s\n"
       ]
      }
     ],
     "prompt_number": 48
    },
    {
     "cell_type": "code",
     "collapsed": false,
     "input": [
      "# data, experiment time, tree number,sample size\n",
      "%time RF(data_train,10,300,0.8)"
     ],
     "language": "python",
     "metadata": {},
     "outputs": [
      {
       "output_type": "stream",
       "stream": "stdout",
       "text": [
        "this is  0  times\n",
        "E_in"
       ]
      },
      {
       "output_type": "stream",
       "stream": "stdout",
       "text": [
        " 0 E_out 0.117\n",
        "this is  1  times\n",
        "E_in"
       ]
      },
      {
       "output_type": "stream",
       "stream": "stdout",
       "text": [
        " 0 E_out 0.107\n",
        "this is  2  times\n",
        "E_in"
       ]
      },
      {
       "output_type": "stream",
       "stream": "stdout",
       "text": [
        " 0 E_out 0.116\n",
        "this is  3  times\n",
        "E_in"
       ]
      },
      {
       "output_type": "stream",
       "stream": "stdout",
       "text": [
        " 0 E_out 0.12\n",
        "this is  4  times\n",
        "E_in"
       ]
      },
      {
       "output_type": "stream",
       "stream": "stdout",
       "text": [
        " 0 E_out 0.115\n",
        "this is  5  times\n",
        "E_in"
       ]
      },
      {
       "output_type": "stream",
       "stream": "stdout",
       "text": [
        " 0 E_out 0.102\n",
        "this is  6  times\n",
        "E_in"
       ]
      },
      {
       "output_type": "stream",
       "stream": "stdout",
       "text": [
        " 0 E_out 0.106\n",
        "this is  7  times\n",
        "E_in"
       ]
      },
      {
       "output_type": "stream",
       "stream": "stdout",
       "text": [
        " 0 E_out 0.109\n",
        "this is  8  times\n",
        "E_in"
       ]
      },
      {
       "output_type": "stream",
       "stream": "stdout",
       "text": [
        " 0 E_out 0.103\n",
        "this is  9  times\n",
        "E_in"
       ]
      },
      {
       "output_type": "stream",
       "stream": "stdout",
       "text": [
        " 0 E_out 0.116\n",
        "\n",
        "Final:: E_in_G 0.0 E_out_G 0.1111\n",
        "[0 0 0 0 0 0 0 0 0 0]\n",
        "[ 0.117  0.107  0.116  0.12   0.115  0.102  0.106  0.109  0.103  0.116]\n",
        "CPU times: user 12min 21s, sys: 3.64 s, total: 12min 24s\n",
        "Wall time: 12min 27s\n"
       ]
      }
     ],
     "prompt_number": 50
    },
    {
     "cell_type": "code",
     "collapsed": false,
     "input": [
      "# data, experiment time, tree number,sample size\n",
      "%time RF(data_train,10,300,0.7)"
     ],
     "language": "python",
     "metadata": {},
     "outputs": [
      {
       "output_type": "stream",
       "stream": "stdout",
       "text": [
        "this is  0  times\n",
        "E_in"
       ]
      },
      {
       "output_type": "stream",
       "stream": "stdout",
       "text": [
        " 0 E_out 0.086\n",
        "this is  1  times\n",
        "E_in"
       ]
      },
      {
       "output_type": "stream",
       "stream": "stdout",
       "text": [
        " 0 E_out 0.089\n",
        "this is  2  times\n",
        "E_in"
       ]
      },
      {
       "output_type": "stream",
       "stream": "stdout",
       "text": [
        " 0 E_out 0.087\n",
        "this is  3  times\n",
        "E_in"
       ]
      },
      {
       "output_type": "stream",
       "stream": "stdout",
       "text": [
        " 0 E_out 0.086\n",
        "this is  4  times\n",
        "E_in"
       ]
      },
      {
       "output_type": "stream",
       "stream": "stdout",
       "text": [
        " 0 E_out 0.09\n",
        "this is  5  times\n",
        "E_in"
       ]
      },
      {
       "output_type": "stream",
       "stream": "stdout",
       "text": [
        " 0 E_out 0.083\n",
        "this is  6  times\n",
        "E_in"
       ]
      },
      {
       "output_type": "stream",
       "stream": "stdout",
       "text": [
        " 0 E_out 0.089\n",
        "this is  7  times\n",
        "E_in"
       ]
      },
      {
       "output_type": "stream",
       "stream": "stdout",
       "text": [
        " 0 E_out 0.094\n",
        "this is  8  times\n",
        "E_in"
       ]
      },
      {
       "output_type": "stream",
       "stream": "stdout",
       "text": [
        " 0 E_out 0.094\n",
        "this is  9  times\n",
        "E_in"
       ]
      },
      {
       "output_type": "stream",
       "stream": "stdout",
       "text": [
        " 0 E_out 0.091\n",
        "\n",
        "Final:: E_in_G 0.0 E_out_G 0.0889\n",
        "[0 0 0 0 0 0 0 0 0 0]\n",
        "[ 0.086  0.089  0.087  0.086  0.09   0.083  0.089  0.094  0.094  0.091]\n",
        "CPU times: user 9min 28s, sys: 860 ms, total: 9min 29s\n",
        "Wall time: 9min 30s\n"
       ]
      }
     ],
     "prompt_number": 51
    },
    {
     "cell_type": "code",
     "collapsed": false,
     "input": [
      "# data, experiment time, tree number,sample size\n",
      "%time RF(data_train,10,300,0.6)"
     ],
     "language": "python",
     "metadata": {},
     "outputs": [
      {
       "output_type": "stream",
       "stream": "stdout",
       "text": [
        "this is  0  times\n",
        "E_in"
       ]
      },
      {
       "output_type": "stream",
       "stream": "stdout",
       "text": [
        " 0 E_out 0.075\n",
        "this is  1  times\n",
        "E_in"
       ]
      },
      {
       "output_type": "stream",
       "stream": "stdout",
       "text": [
        " 0 E_out 0.072\n",
        "this is  2  times\n",
        "E_in"
       ]
      },
      {
       "output_type": "stream",
       "stream": "stdout",
       "text": [
        " 0 E_out 0.091\n",
        "this is  3  times\n",
        "E_in"
       ]
      },
      {
       "output_type": "stream",
       "stream": "stdout",
       "text": [
        " 0 E_out 0.078\n",
        "this is  4  times\n",
        "E_in"
       ]
      },
      {
       "output_type": "stream",
       "stream": "stdout",
       "text": [
        " 0 E_out 0.085\n",
        "this is  5  times\n",
        "E_in"
       ]
      },
      {
       "output_type": "stream",
       "stream": "stdout",
       "text": [
        " 0 E_out 0.074\n",
        "this is  6  times\n",
        "E_in"
       ]
      },
      {
       "output_type": "stream",
       "stream": "stdout",
       "text": [
        " 0 E_out 0.072\n",
        "this is  7  times\n",
        "E_in"
       ]
      },
      {
       "output_type": "stream",
       "stream": "stdout",
       "text": [
        " 0 E_out 0.075\n",
        "this is  8  times\n",
        "E_in"
       ]
      },
      {
       "output_type": "stream",
       "stream": "stdout",
       "text": [
        " 0 E_out 0.072\n",
        "this is  9  times\n",
        "E_in"
       ]
      },
      {
       "output_type": "stream",
       "stream": "stdout",
       "text": [
        " 0 E_out 0.075\n",
        "\n",
        "Final:: E_in_G 0.0 E_out_G 0.0769\n",
        "[0 0 0 0 0 0 0 0 0 0]\n",
        "[ 0.075  0.072  0.091  0.078  0.085  0.074  0.072  0.075  0.072  0.075]\n",
        "CPU times: user 6min 56s, sys: 705 ms, total: 6min 57s\n",
        "Wall time: 6min 57s\n"
       ]
      }
     ],
     "prompt_number": 52
    },
    {
     "cell_type": "code",
     "collapsed": false,
     "input": [
      "# data, experiment time, tree number,sample size\n",
      "%time RF(data_train,10,300,0.5)"
     ],
     "language": "python",
     "metadata": {},
     "outputs": [
      {
       "output_type": "stream",
       "stream": "stdout",
       "text": [
        "this is  0  times\n",
        "E_in"
       ]
      },
      {
       "output_type": "stream",
       "stream": "stdout",
       "text": [
        " 0.02 E_out 0.072\n",
        "this is  1  times\n",
        "E_in"
       ]
      },
      {
       "output_type": "stream",
       "stream": "stdout",
       "text": [
        " 0.01 E_out 0.07\n",
        "this is  2  times\n",
        "E_in"
       ]
      },
      {
       "output_type": "stream",
       "stream": "stdout",
       "text": [
        " 0 E_out 0.072\n",
        "this is  3  times\n",
        "E_in"
       ]
      },
      {
       "output_type": "stream",
       "stream": "stdout",
       "text": [
        " 0.02 E_out 0.073\n",
        "this is  4  times\n",
        "E_in"
       ]
      },
      {
       "output_type": "stream",
       "stream": "stdout",
       "text": [
        " 0.01 E_out 0.071\n",
        "this is  5  times\n",
        "E_in"
       ]
      },
      {
       "output_type": "stream",
       "stream": "stdout",
       "text": [
        " 0.01 E_out 0.07\n",
        "this is  6  times\n",
        "E_in"
       ]
      },
      {
       "output_type": "stream",
       "stream": "stdout",
       "text": [
        " 0.01 E_out 0.071\n",
        "this is  7  times\n",
        "E_in"
       ]
      },
      {
       "output_type": "stream",
       "stream": "stdout",
       "text": [
        " 0.01 E_out 0.072\n",
        "this is  8  times\n",
        "E_in"
       ]
      },
      {
       "output_type": "stream",
       "stream": "stdout",
       "text": [
        " 0.02 E_out 0.072\n",
        "this is  9  times\n",
        "E_in"
       ]
      },
      {
       "output_type": "stream",
       "stream": "stdout",
       "text": [
        " 0.01 E_out 0.071\n",
        "\n",
        "Final:: E_in_G 0.012 E_out_G 0.0714\n",
        "[ 0.02  0.01  0.    0.02  0.01  0.01  0.01  0.01  0.02  0.01]\n",
        "[ 0.072  0.07   0.072  0.073  0.071  0.07   0.071  0.072  0.072  0.071]\n",
        "CPU times: user 4min 55s, sys: 284 ms, total: 4min 55s\n",
        "Wall time: 4min 55s\n"
       ]
      }
     ],
     "prompt_number": 53
    },
    {
     "cell_type": "code",
     "collapsed": false,
     "input": [
      "# data, experiment time, tree number,sample size\n",
      "%time RF(data_train,10,300,0.4)"
     ],
     "language": "python",
     "metadata": {},
     "outputs": [
      {
       "output_type": "stream",
       "stream": "stdout",
       "text": [
        "this is  0  times\n",
        "E_in"
       ]
      },
      {
       "output_type": "stream",
       "stream": "stdout",
       "text": [
        " 0.03 E_out 0.072\n",
        "this is  1  times\n",
        "E_in"
       ]
      },
      {
       "output_type": "stream",
       "stream": "stdout",
       "text": [
        " 0.03 E_out 0.069\n",
        "this is  2  times\n",
        "E_in"
       ]
      },
      {
       "output_type": "stream",
       "stream": "stdout",
       "text": [
        " 0.03 E_out 0.068\n",
        "this is  3  times\n",
        "E_in"
       ]
      },
      {
       "output_type": "stream",
       "stream": "stdout",
       "text": [
        " 0.03 E_out 0.077\n",
        "this is  4  times\n",
        "E_in"
       ]
      },
      {
       "output_type": "stream",
       "stream": "stdout",
       "text": [
        " 0.03 E_out 0.071\n",
        "this is  5  times\n",
        "E_in"
       ]
      },
      {
       "output_type": "stream",
       "stream": "stdout",
       "text": [
        " 0.03 E_out 0.069\n",
        "this is  6  times\n",
        "E_in"
       ]
      },
      {
       "output_type": "stream",
       "stream": "stdout",
       "text": [
        " 0.03 E_out 0.074\n",
        "this is  7  times\n",
        "E_in"
       ]
      },
      {
       "output_type": "stream",
       "stream": "stdout",
       "text": [
        " 0.03 E_out 0.071\n",
        "this is  8  times\n",
        "E_in"
       ]
      },
      {
       "output_type": "stream",
       "stream": "stdout",
       "text": [
        " 0.03 E_out 0.072\n",
        "this is  9  times\n",
        "E_in"
       ]
      },
      {
       "output_type": "stream",
       "stream": "stdout",
       "text": [
        " 0.03 E_out 0.068\n",
        "\n",
        "Final:: E_in_G 0.03 E_out_G 0.0711\n",
        "[ 0.03  0.03  0.03  0.03  0.03  0.03  0.03  0.03  0.03  0.03]\n",
        "[ 0.072  0.069  0.068  0.077  0.071  0.069  0.074  0.071  0.072  0.068]\n",
        "CPU times: user 3min 26s, sys: 472 ms, total: 3min 27s\n",
        "Wall time: 3min 27s\n"
       ]
      }
     ],
     "prompt_number": 54
    },
    {
     "cell_type": "code",
     "collapsed": false,
     "input": [
      "# data, experiment time, tree number,sample size\n",
      "%time RF(data_train,10,300,0.3)"
     ],
     "language": "python",
     "metadata": {},
     "outputs": [
      {
       "output_type": "stream",
       "stream": "stdout",
       "text": [
        "this is  0  times\n",
        "E_in"
       ]
      },
      {
       "output_type": "stream",
       "stream": "stdout",
       "text": [
        " 0.03 E_out 0.065\n",
        "this is  1  times\n",
        "E_in"
       ]
      },
      {
       "output_type": "stream",
       "stream": "stdout",
       "text": [
        " 0.04 E_out 0.068\n",
        "this is  2  times\n",
        "E_in"
       ]
      },
      {
       "output_type": "stream",
       "stream": "stdout",
       "text": [
        " 0.06 E_out 0.08\n",
        "this is  3  times\n",
        "E_in"
       ]
      },
      {
       "output_type": "stream",
       "stream": "stdout",
       "text": [
        " 0.03 E_out 0.07\n",
        "this is  4  times\n",
        "E_in"
       ]
      },
      {
       "output_type": "stream",
       "stream": "stdout",
       "text": [
        " 0.04 E_out 0.075\n",
        "this is  5  times\n",
        "E_in"
       ]
      },
      {
       "output_type": "stream",
       "stream": "stdout",
       "text": [
        " 0.03 E_out 0.062\n",
        "this is  6  times\n",
        "E_in"
       ]
      },
      {
       "output_type": "stream",
       "stream": "stdout",
       "text": [
        " 0.04 E_out 0.084\n",
        "this is  7  times\n",
        "E_in"
       ]
      },
      {
       "output_type": "stream",
       "stream": "stdout",
       "text": [
        " 0.03 E_out 0.074\n",
        "this is  8  times\n",
        "E_in"
       ]
      },
      {
       "output_type": "stream",
       "stream": "stdout",
       "text": [
        " 0.04 E_out 0.074\n",
        "this is  9  times\n",
        "E_in"
       ]
      },
      {
       "output_type": "stream",
       "stream": "stdout",
       "text": [
        " 0.04 E_out 0.071\n",
        "\n",
        "Final:: E_in_G 0.038 E_out_G 0.0723\n",
        "[ 0.03  0.04  0.06  0.03  0.04  0.03  0.04  0.03  0.04  0.04]\n",
        "[ 0.065  0.068  0.08   0.07   0.075  0.062  0.084  0.074  0.074  0.071]\n",
        "CPU times: user 2min 6s, sys: 216 ms, total: 2min 6s\n",
        "Wall time: 2min 7s\n"
       ]
      }
     ],
     "prompt_number": 55
    },
    {
     "cell_type": "code",
     "collapsed": false,
     "input": [
      "# data, experiment time, tree number,sample size\n",
      "%time RF(data_train,10,400,0.3)"
     ],
     "language": "python",
     "metadata": {},
     "outputs": [
      {
       "output_type": "stream",
       "stream": "stdout",
       "text": [
        "this is  0  times\n",
        "E_in"
       ]
      },
      {
       "output_type": "stream",
       "stream": "stdout",
       "text": [
        " 0.04 E_out 0.072\n",
        "this is  1  times\n",
        "E_in"
       ]
      },
      {
       "output_type": "stream",
       "stream": "stdout",
       "text": [
        " 0.04 E_out 0.07\n",
        "this is  2  times\n",
        "E_in"
       ]
      },
      {
       "output_type": "stream",
       "stream": "stdout",
       "text": [
        " 0.03 E_out 0.068\n",
        "this is  3  times\n",
        "E_in"
       ]
      },
      {
       "output_type": "stream",
       "stream": "stdout",
       "text": [
        " 0.03 E_out 0.071\n",
        "this is  4  times\n",
        "E_in"
       ]
      },
      {
       "output_type": "stream",
       "stream": "stdout",
       "text": [
        " 0.04 E_out 0.071\n",
        "this is  5  times\n",
        "E_in"
       ]
      },
      {
       "output_type": "stream",
       "stream": "stdout",
       "text": [
        " 0.03 E_out 0.074\n",
        "this is  6  times\n",
        "E_in"
       ]
      },
      {
       "output_type": "stream",
       "stream": "stdout",
       "text": [
        " 0.03 E_out 0.072\n",
        "this is  7  times\n",
        "E_in"
       ]
      },
      {
       "output_type": "stream",
       "stream": "stdout",
       "text": [
        " 0.04 E_out 0.07\n",
        "this is  8  times\n",
        "E_in"
       ]
      },
      {
       "output_type": "stream",
       "stream": "stdout",
       "text": [
        " 0.04 E_out 0.065\n",
        "this is  9  times\n",
        "E_in"
       ]
      },
      {
       "output_type": "stream",
       "stream": "stdout",
       "text": [
        " 0.04 E_out 0.069\n",
        "\n",
        "Final:: E_in_G 0.036 E_out_G 0.0702\n",
        "[ 0.04  0.04  0.03  0.03  0.04  0.03  0.03  0.04  0.04  0.04]\n",
        "[ 0.072  0.07   0.068  0.071  0.071  0.074  0.072  0.07   0.065  0.069]\n",
        "CPU times: user 2min 52s, sys: 400 ms, total: 2min 53s\n",
        "Wall time: 2min 53s\n"
       ]
      }
     ],
     "prompt_number": 56
    },
    {
     "cell_type": "code",
     "collapsed": false,
     "input": [
      "def RF20(data,exp_times,tree_times,sample_n):\n",
      "    \n",
      "    ## training\n",
      "    train_x = data_train[:,0:2]\n",
      "    train_y = data_train[:,-1]\n",
      "    #     test = np.array(test)\n",
      "    E_in_record_ = []\n",
      "    \n",
      "    ## test\n",
      "    test_x = data_test[:,0:2]\n",
      "    test_y = data_test[:,-1]\n",
      "    #     test = np.array(test)\n",
      "    E_out_record_ = []\n",
      "    \n",
      "    gt_record = []\n",
      "    E_in_gt_record = []\n",
      "    E_out_gt_record = []\n",
      "    E_out_Gt_record = []\n",
      "    \n",
      "    sample = int(data.shape[0]*sample_n)\n",
      "    \n",
      "    for exp in range(exp_times):\n",
      "#         print 'this is ', exp,' times'\n",
      "        tree_record = []\n",
      "        # dat = np.copy(data)\n",
      "#         print 'original',data.shape\n",
      "        for t in range(tree_times):\n",
      "            datt = np.random.permutation(data)\n",
      "            da = datt[0:sample]\n",
      "#             print datt.shape\n",
      "#             print da.shape\n",
      "            tree_record.append(cart(da))\n",
      "            \n",
      "        #####################  E in of sample   #####################\n",
      "        \n",
      "        E_in_record = 0\n",
      "        for dataa in range(train_x.shape[0]):\n",
      "            \n",
      "            G = 0\n",
      "#             g = 0\n",
      "            for forest in range(len(tree_record)):\n",
      "                G += classify(tree_record[forest], train_x[dataa] ,[1,1,1])\n",
      "#                 g = \n",
      "                \n",
      "            G = math.copysign(1, G )\n",
      "            if G != train_y[dataa]:\n",
      "                E_in_record += 1.\n",
      "                \n",
      "#         E_in_record_.append(E_in_record/train_x.shape[0])\n",
      "\n",
      "        #####################  E out of sample   #####################\n",
      "        \n",
      "        E_out_record = 0\n",
      "            \n",
      "        \n",
      "        for forest in range(len(tree_record)):\n",
      "            ggg = classify(tree_record[forest], test_x[dataa] ,[1,1,1])\n",
      "#                 G += ggg\n",
      "#                 E_out_gt_record.append(ggg)\n",
      "            gt_record.append(ggg)\n",
      "        \n",
      "        \n",
      "        for gggg in gt_record:\n",
      "            G = 0\n",
      "            for dataa in range(test_x.shape[0]):\n",
      "                G += gggg\n",
      "                G = math.copysign(1, G )\n",
      "                if G != test_y[dataa]:\n",
      "                    E_out_record += 1.\n",
      "            E_out_Gt_record.append(E_out_record/test_x.shape[0])\n",
      "\n",
      "#     E_in = np.array(E_in_record_)\n",
      "#     E_out = np.array(E_out_record_)\n",
      "    E_out_Gt_record = np.array(E_out_Gt_record)\n",
      "    \n",
      "    print E_out_Gt_record\n",
      "    print 'E_in_G', E_in.mean(),'E_out_G',E_out.mean()\n",
      "    print E_in\n",
      "    print E_out\n",
      "        "
     ],
     "language": "python",
     "metadata": {},
     "outputs": []
    }
   ],
   "metadata": {}
  }
 ]
}