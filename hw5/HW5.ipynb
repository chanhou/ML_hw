{
 "metadata": {
  "name": ""
 },
 "nbformat": 3,
 "nbformat_minor": 0,
 "worksheets": [
  {
   "cells": [
    {
     "cell_type": "markdown",
     "metadata": {},
     "source": [
      "# Q2"
     ]
    },
    {
     "cell_type": "code",
     "collapsed": false,
     "input": [
      "from cvxopt import matrix\n",
      "\n",
      "aa = [[1.,0.],\n",
      "      [0.,1.],\n",
      "      [0,-1.],\n",
      "      [-1.,0.],\n",
      "      [0.,2.],\n",
      "      [0.,-2.],\n",
      "      [-2.,0.]]\n",
      "yyy = [-1.,-1.,-1.,1.,1.,1.,1.]\n",
      "\n",
      "z = []\n",
      "for i in range (7):\n",
      "    z1 = aa[i][1]**2-2*aa[i][0]+3\n",
      "    z2 = aa[i][0]**2-2*aa[i][1]-3\n",
      "    z.append([-1*yyy[i],-1*yyy[i]*z1,-1*yyy[i]*z2])\n",
      "    \n",
      "\n",
      "# z = np.append([1.,1.,1.,-1.,-1.,-1.,-1.],z )\n",
      "z = np.array(z)\n",
      "print z\n",
      "\n",
      "# P = matrix([[0.0,0.0,0.0],\n",
      "#             [0.0,1.0,0.0],\n",
      "#             [0.0,0.0,1.0]])\n",
      "# q = matrix([0.0,.0,.0])\n",
      "# G = matrix([[1.0,1.0,1.0,-1.0,-1.0,-1.0,-1.0],\n",
      "#             [1.,-4.,4.,-5.,-7.,-7.,-7.],\n",
      "#             [-2.,-5.,-1.,2.,7.,-1.,-1.]])\n",
      "# h = matrix([-1.,-1.,-1.,-1.,-1.,-1.,-1.])\n",
      "\n",
      "P = matrix(np.array([[0.0,0.0,0.0],\n",
      "            [0.0,1.0,0.0],\n",
      "            [0.0,0.0,1.0]]), tc='d')\n",
      "q = matrix(np.array([0.0,0.0,0.0]), tc='d')\n",
      "G = matrix(np.array(z), tc='d')\n",
      "h = matrix(np.array([-1.,-1.,-1.,-1.,-1.,-1.,-1.]), tc='d')\n",
      "\n",
      "# P = matrix(np.array([[0.0,0.0,0.0],\n",
      "#             [0.0,1.0,0.0],\n",
      "#             [0.0,0.0,1.0]]), tc='d')\n",
      "# q = matrix(np.array([0.0,0.0,0.0]), tc='d')\n",
      "# G = matrix(np.array([[1.,0.,0.],[1.,2.,2.],[-1.,-2.,0.0],[-1.,-3.,0.0]]), tc='d')\n",
      "# h = matrix(np.array([-1.,-1.,-1.,-1.]), tc='d')\n",
      "\n",
      "from cvxopt import solvers\n",
      "sol = solvers.qp(P,q,G,h)\n"
     ],
     "language": "python",
     "metadata": {},
     "outputs": [
      {
       "output_type": "stream",
       "stream": "stdout",
       "text": [
        "[[ 1.  1. -2.]\n",
        " [ 1.  4. -5.]\n",
        " [ 1.  4. -1.]\n",
        " [-1. -5.  2.]\n",
        " [-1. -7.  7.]\n",
        " [-1. -7. -1.]\n",
        " [-1. -7. -1.]]\n",
        "     pcost       dcost       gap    pres   dres\n",
        " 0:  7.3883e-02  5.0898e+00  2e+01  2e+00  2e+01\n",
        " 1:  6.5828e-01  2.5253e+00  4e+00  6e-01  8e+00\n",
        " 2:  2.4742e+00  3.7532e-01  2e+00  2e-15  2e-12\n",
        " 3:  2.0739e+00  1.9347e+00  1e-01  8e-16  1e-13\n",
        " 4:  2.0007e+00  1.9993e+00  1e-03  2e-15  3e-14\n",
        " 5:  2.0000e+00  2.0000e+00  1e-05  2e-15  2e-14\n",
        " 6:  2.0000e+00  2.0000e+00  1e-07  1e-15  2e-14\n",
        "Optimal solution found.\n"
       ]
      }
     ],
     "prompt_number": 102
    },
    {
     "cell_type": "code",
     "collapsed": false,
     "input": [
      "print sol['x']\n",
      "print sol['primal objective']"
     ],
     "language": "python",
     "metadata": {},
     "outputs": [
      {
       "output_type": "stream",
       "stream": "stdout",
       "text": [
        "[-9.00e+00]\n",
        "[ 2.00e+00]\n",
        "[-2.04e-10]\n",
        "\n",
        "2.00000007441\n"
       ]
      }
     ],
     "prompt_number": 103
    },
    {
     "cell_type": "code",
     "collapsed": false,
     "input": [],
     "language": "python",
     "metadata": {},
     "outputs": [],
     "prompt_number": 96
    },
    {
     "cell_type": "markdown",
     "metadata": {},
     "source": [
      "## #5"
     ]
    },
    {
     "cell_type": "code",
     "collapsed": false,
     "input": [
      "import numpy as np\n",
      "dd = [[1.,0.],\n",
      "      [0.,1.],\n",
      "      [0,-1.],\n",
      "      [-1.,0.],\n",
      "      [0.,2.],\n",
      "      [0.,-2.],\n",
      "      [-2.,0.]]\n",
      "yy = [-1.,-1.,-1.,1.,1.,1.,1.]\n",
      "\n",
      "dd = np.array(dd)\n",
      "\n",
      "abc = []\n",
      "for i in range(len(dd)):\n",
      "    ggg = []\n",
      "    for j in range(len(dd)):\n",
      "        # print dd[i].T.dot(dd[j])\n",
      "        kkk = (1+dd[i].T.dot(dd[j]))**2\n",
      "        ggg.append(kkk)\n",
      "\n",
      "    abc.append(ggg)\n",
      "\n",
      "ggg =[]\n",
      "for i in range (7):\n",
      "    for g in range (7):\n",
      "        ggg.append(yy[i]*yy[g]*abc[i][g])\n",
      "        \n",
      "ggg = np.array(ggg)\n",
      "ggg.reshape(7,7)"
     ],
     "language": "python",
     "metadata": {},
     "outputs": [
      {
       "metadata": {},
       "output_type": "pyout",
       "prompt_number": 119,
       "text": [
        "array([[  4.,   1.,   1.,  -0.,  -1.,  -1.,  -1.],\n",
        "       [  1.,   4.,   0.,  -1.,  -9.,  -1.,  -1.],\n",
        "       [  1.,   0.,   4.,  -1.,  -1.,  -9.,  -1.],\n",
        "       [ -0.,  -1.,  -1.,   4.,   1.,   1.,   9.],\n",
        "       [ -1.,  -9.,  -1.,   1.,  25.,   9.,   1.],\n",
        "       [ -1.,  -1.,  -9.,   1.,   9.,  25.,   1.],\n",
        "       [ -1.,  -1.,  -1.,   9.,   1.,   1.,  25.]])"
       ]
      }
     ],
     "prompt_number": 119
    },
    {
     "cell_type": "code",
     "collapsed": false,
     "input": [
      "yy = np.array(yy)\n",
      "# A = [[-1.,-1.,-1.,1.,1.,1.,1.],\n",
      "#      [1.,1.,1.,-1.,-1.,-1.,-1.],\n",
      "#      np.identity(7)]\n",
      "# A = []\n",
      "# A.append([-1.,-1.,-1.,1.,1.,1.,1.])\n",
      "# A.append([1.,1.,1.,-1.,-1.,-1.,-1.])\n",
      "A = (-1*np.identity(7))\n",
      "# print -1*np.identity(7)\n",
      "# A = np.insert(A, [-1.,-1.,-1.,1.,1.,1.,1.], [1.,1.,1.,-1.,-1.,-1.,-1.])\n",
      "\n",
      "A = np.append([-1.,-1.,-1.,1.,1.,1.,1.],A )\n",
      "A = np.append([1.,1.,1.,-1.,-1.,-1.,-1.],A )\n",
      "A = A.reshape(9,7)\n",
      "print A\n",
      "\n",
      "P = matrix(ggg.reshape(7,7), tc='d')\n",
      "q = matrix(np.array([-1.,-1.,-1.,-1.,-1.,-1.,-1.]), tc='d')\n",
      "G = matrix(A, tc='d')\n",
      "h = matrix(np.zeros(9), tc='d')\n",
      "\n",
      "# G\n",
      "sol = solvers.qp(P,q,G,h)\n"
     ],
     "language": "python",
     "metadata": {},
     "outputs": [
      {
       "output_type": "stream",
       "stream": "stdout",
       "text": [
        "[[ 1.  1.  1. -1. -1. -1. -1.]\n",
        " [-1. -1. -1.  1.  1.  1.  1.]\n",
        " [-1. -0. -0. -0. -0. -0. -0.]\n",
        " [-0. -1. -0. -0. -0. -0. -0.]\n",
        " [-0. -0. -1. -0. -0. -0. -0.]\n",
        " [-0. -0. -0. -1. -0. -0. -0.]\n",
        " [-0. -0. -0. -0. -1. -0. -0.]\n",
        " [-0. -0. -0. -0. -0. -1. -0.]\n",
        " [-0. -0. -0. -0. -0. -0. -1.]]\n",
        "     pcost       dcost       gap    pres   dres"
       ]
      },
      {
       "output_type": "stream",
       "stream": "stdout",
       "text": [
        "\n",
        " 0: -2.2094e+00 -4.6670e+00  2e+01  4e+00  2e+00\n",
        " 1: -3.4669e+00 -4.4487e+00  7e+00  1e+00  6e-01\n",
        " 2: -1.2955e+00 -2.1369e+00  1e+00  5e-02  2e-02\n",
        " 3: -1.3959e+00 -1.4567e+00  7e-02  1e-03  6e-04\n",
        " 4: -1.4073e+00 -1.4079e+00  7e-04  1e-05  6e-06\n",
        " 5: -1.4074e+00 -1.4074e+00  7e-06  1e-07  6e-08\n",
        " 6: -1.4074e+00 -1.4074e+00  7e-08  1e-09  6e-10\n",
        "Optimal solution found.\n"
       ]
      }
     ],
     "prompt_number": 117
    },
    {
     "cell_type": "code",
     "collapsed": false,
     "input": [
      "print sol['x']\n",
      "print sol['primal objective']\n"
     ],
     "language": "python",
     "metadata": {},
     "outputs": [
      {
       "output_type": "stream",
       "stream": "stdout",
       "text": [
        "[ 6.69e-09]\n",
        "[ 7.04e-01]\n",
        "[ 7.04e-01]\n",
        "[ 8.89e-01]\n",
        "[ 2.59e-01]\n",
        "[ 2.59e-01]\n",
        "[ 6.39e-10]\n",
        "\n",
        "-1.40740739443\n"
       ]
      }
     ],
     "prompt_number": 118
    },
    {
     "cell_type": "code",
     "collapsed": false,
     "input": [
      "b = 0\n",
      "y = 1\n",
      "x = np.array([0.,2])\n",
      "XX = sol['x']\n",
      "for i in range (7):\n",
      "    if i == 0 or i==6:\n",
      "        continue\n",
      "    ass = yy[i]*XX[i]*(1+dd[i].T.dot(x))**2\n",
      "#     print XX[i]\n",
      "#     print (1+dd[i].T.dot(x))**2\n",
      "    b += ass\n",
      "#     print ass\n",
      "#     print b\n",
      "b = y - b\n",
      "b\n",
      "# # b = -1.4+.9+0.3+0.3-1.7\n",
      "# # b\n",
      "# -6.3-0.7+.89+7.5+2.7"
     ],
     "language": "python",
     "metadata": {},
     "outputs": [
      {
       "metadata": {},
       "output_type": "pyout",
       "prompt_number": 130,
       "text": [
        "-1.6666667409567637"
       ]
      }
     ],
     "prompt_number": 130
    },
    {
     "cell_type": "code",
     "collapsed": false,
     "input": [],
     "language": "python",
     "metadata": {},
     "outputs": [
      {
       "metadata": {},
       "output_type": "pyout",
       "prompt_number": 139,
       "text": [
        "1.6666666666666667"
       ]
      }
     ],
     "prompt_number": 139
    }
   ],
   "metadata": {}
  }
 ]
}