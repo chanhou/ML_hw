{
 "metadata": {
  "name": ""
 },
 "nbformat": 3,
 "nbformat_minor": 0,
 "worksheets": [
  {
   "cells": [
    {
     "cell_type": "markdown",
     "metadata": {},
     "source": [
      "# Q2"
     ]
    },
    {
     "cell_type": "code",
     "collapsed": false,
     "input": [
      "from  import matrix\n",
      "\n",
      "aa = [[1.,0.],\n",
      "      [0.,1.],\n",
      "      [0,-1.],\n",
      "      [-1.,0.],\n",
      "      [0.,2.],\n",
      "      [0.,-2.],\n",
      "      [-2.,0.]]\n",
      "yyy = [-1.,-1.,-1.,1.,1.,1.,1.]\n",
      "\n",
      "z = []\n",
      "for i in range (7):\n",
      "    z1 = aa[i][1]**2-2*aa[i][0]+3\n",
      "    z2 = aa[i][0]**2-2*aa[i][1]-3\n",
      "    z.append([-1*yyy[i],-1*yyy[i]*z1,-1*yyy[i]*z2])\n",
      "    \n",
      "\n",
      "# z = np.append([1.,1.,1.,-1.,-1.,-1.,-1.],z )\n",
      "z = np.array(z)\n",
      "print z\n",
      "\n",
      "# P = matrix([[0.0,0.0,0.0],\n",
      "#             [0.0,1.0,0.0],\n",
      "#             [0.0,0.0,1.0]])\n",
      "# q = matrix([0.0,.0,.0])\n",
      "# G = matrix([[1.0,1.0,1.0,-1.0,-1.0,-1.0,-1.0],\n",
      "#             [1.,-4.,4.,-5.,-7.,-7.,-7.],\n",
      "#             [-2.,-5.,-1.,2.,7.,-1.,-1.]])\n",
      "# h = matrix([-1.,-1.,-1.,-1.,-1.,-1.,-1.])\n",
      "\n",
      "P = matrix(np.array([[0.0,0.0,0.0],\n",
      "            [0.0,1.0,0.0],\n",
      "            [0.0,0.0,1.0]]), tc='d')\n",
      "q = matrix(np.array([0.0,0.0,0.0]), tc='d')\n",
      "G = matrix(np.array(z), tc='d')\n",
      "h = matrix(np.array([-1.,-1.,-1.,-1.,-1.,-1.,-1.]), tc='d')\n",
      "\n",
      "# P = matrix(np.array([[0.0,0.0,0.0],\n",
      "#             [0.0,1.0,0.0],\n",
      "#             [0.0,0.0,1.0]]), tc='d')\n",
      "# q = matrix(np.array([0.0,0.0,0.0]), tc='d')\n",
      "# G = matrix(np.array([[1.,0.,0.],[1.,2.,2.],[-1.,-2.,0.0],[-1.,-3.,0.0]]), tc='d')\n",
      "# h = matrix(np.array([-1.,-1.,-1.,-1.]), tc='d')\n",
      "\n",
      "from cvxopt import solvers\n",
      "sol = solvers.qp(P,q,G,h)\n"
     ],
     "language": "python",
     "metadata": {},
     "outputs": [
      {
       "output_type": "stream",
       "stream": "stdout",
       "text": [
        "[[ 1.  1. -2.]\n",
        " [ 1.  4. -5.]\n",
        " [ 1.  4. -1.]\n",
        " [-1. -5.  2.]\n",
        " [-1. -7.  7.]\n",
        " [-1. -7. -1.]\n",
        " [-1. -7. -1.]]\n",
        "     pcost       dcost       gap    pres   dres\n",
        " 0:  7.3883e-02  5.0898e+00  2e+01  2e+00  2e+01\n",
        " 1:  6.5828e-01  2.5253e+00  4e+00  6e-01  8e+00\n",
        " 2:  2.4742e+00  3.7532e-01  2e+00  2e-15  2e-12\n",
        " 3:  2.0739e+00  1.9347e+00  1e-01  8e-16  1e-13\n",
        " 4:  2.0007e+00  1.9993e+00  1e-03  2e-15  3e-14\n",
        " 5:  2.0000e+00  2.0000e+00  1e-05  2e-15  2e-14\n",
        " 6:  2.0000e+00  2.0000e+00  1e-07  1e-15  2e-14\n",
        "Optimal solution found.\n"
       ]
      }
     ],
     "prompt_number": 102
    },
    {
     "cell_type": "code",
     "collapsed": false,
     "input": [
      "print sol['x']\n",
      "print sol['primal objective']"
     ],
     "language": "python",
     "metadata": {},
     "outputs": [
      {
       "output_type": "stream",
       "stream": "stdout",
       "text": [
        "[-9.00e+00]\n",
        "[ 2.00e+00]\n",
        "[-2.04e-10]\n",
        "\n",
        "2.00000007441\n"
       ]
      }
     ],
     "prompt_number": 103
    },
    {
     "cell_type": "code",
     "collapsed": false,
     "input": [],
     "language": "python",
     "metadata": {},
     "outputs": [],
     "prompt_number": 96
    },
    {
     "cell_type": "markdown",
     "metadata": {},
     "source": [
      "## #5"
     ]
    },
    {
     "cell_type": "code",
     "collapsed": false,
     "input": [
      "import numpy as np\n",
      "dd = [[1.,0.],\n",
      "      [0.,1.],\n",
      "      [0,-1.],\n",
      "      [-1.,0.],\n",
      "      [0.,2.],\n",
      "      [0.,-2.],\n",
      "      [-2.,0.]]\n",
      "yy = [-1.,-1.,-1.,1.,1.,1.,1.]\n",
      "\n",
      "dd = np.array(dd)\n",
      "\n",
      "abc = []\n",
      "for i in range(len(dd)):\n",
      "    ggg = []\n",
      "    for j in range(len(dd)):\n",
      "        # print dd[i].T.dot(dd[j])\n",
      "        kkk = (1+dd[i].T.dot(dd[j]))**2\n",
      "        ggg.append(kkk)\n",
      "\n",
      "    abc.append(ggg)\n",
      "\n",
      "ggg =[]\n",
      "for i in range (7):\n",
      "    for g in range (7):\n",
      "        ggg.append(yy[i]*yy[g]*abc[i][g])\n",
      "        \n",
      "ggg = np.array(ggg)\n",
      "ggg.reshape(7,7)"
     ],
     "language": "python",
     "metadata": {},
     "outputs": [
      {
       "metadata": {},
       "output_type": "pyout",
       "prompt_number": 119,
       "text": [
        "array([[  4.,   1.,   1.,  -0.,  -1.,  -1.,  -1.],\n",
        "       [  1.,   4.,   0.,  -1.,  -9.,  -1.,  -1.],\n",
        "       [  1.,   0.,   4.,  -1.,  -1.,  -9.,  -1.],\n",
        "       [ -0.,  -1.,  -1.,   4.,   1.,   1.,   9.],\n",
        "       [ -1.,  -9.,  -1.,   1.,  25.,   9.,   1.],\n",
        "       [ -1.,  -1.,  -9.,   1.,   9.,  25.,   1.],\n",
        "       [ -1.,  -1.,  -1.,   9.,   1.,   1.,  25.]])"
       ]
      }
     ],
     "prompt_number": 119
    },
    {
     "cell_type": "code",
     "collapsed": false,
     "input": [
      "yy = np.array(yy)\n",
      "# A = [[-1.,-1.,-1.,1.,1.,1.,1.],\n",
      "#      [1.,1.,1.,-1.,-1.,-1.,-1.],\n",
      "#      np.identity(7)]\n",
      "# A = []\n",
      "# A.append([-1.,-1.,-1.,1.,1.,1.,1.])\n",
      "# A.append([1.,1.,1.,-1.,-1.,-1.,-1.])\n",
      "A = (-1*np.identity(7))\n",
      "# print -1*np.identity(7)\n",
      "# A = np.insert(A, [-1.,-1.,-1.,1.,1.,1.,1.], [1.,1.,1.,-1.,-1.,-1.,-1.])\n",
      "\n",
      "A = np.append([-1.,-1.,-1.,1.,1.,1.,1.],A )\n",
      "A = np.append([1.,1.,1.,-1.,-1.,-1.,-1.],A )\n",
      "A = A.reshape(9,7)\n",
      "print A\n",
      "\n",
      "P = matrix(ggg.reshape(7,7), tc='d')\n",
      "q = matrix(np.array([-1.,-1.,-1.,-1.,-1.,-1.,-1.]), tc='d')\n",
      "G = matrix(A, tc='d')\n",
      "h = matrix(np.zeros(9), tc='d')\n",
      "\n",
      "# G\n",
      "sol = solvers.qp(P,q,G,h)\n"
     ],
     "language": "python",
     "metadata": {},
     "outputs": [
      {
       "output_type": "stream",
       "stream": "stdout",
       "text": [
        "[[ 1.  1.  1. -1. -1. -1. -1.]\n",
        " [-1. -1. -1.  1.  1.  1.  1.]\n",
        " [-1. -0. -0. -0. -0. -0. -0.]\n",
        " [-0. -1. -0. -0. -0. -0. -0.]\n",
        " [-0. -0. -1. -0. -0. -0. -0.]\n",
        " [-0. -0. -0. -1. -0. -0. -0.]\n",
        " [-0. -0. -0. -0. -1. -0. -0.]\n",
        " [-0. -0. -0. -0. -0. -1. -0.]\n",
        " [-0. -0. -0. -0. -0. -0. -1.]]\n",
        "     pcost       dcost       gap    pres   dres"
       ]
      },
      {
       "output_type": "stream",
       "stream": "stdout",
       "text": [
        "\n",
        " 0: -2.2094e+00 -4.6670e+00  2e+01  4e+00  2e+00\n",
        " 1: -3.4669e+00 -4.4487e+00  7e+00  1e+00  6e-01\n",
        " 2: -1.2955e+00 -2.1369e+00  1e+00  5e-02  2e-02\n",
        " 3: -1.3959e+00 -1.4567e+00  7e-02  1e-03  6e-04\n",
        " 4: -1.4073e+00 -1.4079e+00  7e-04  1e-05  6e-06\n",
        " 5: -1.4074e+00 -1.4074e+00  7e-06  1e-07  6e-08\n",
        " 6: -1.4074e+00 -1.4074e+00  7e-08  1e-09  6e-10\n",
        "Optimal solution found.\n"
       ]
      }
     ],
     "prompt_number": 117
    },
    {
     "cell_type": "code",
     "collapsed": false,
     "input": [
      "print sol['x']\n",
      "print sol['primal objective']\n"
     ],
     "language": "python",
     "metadata": {},
     "outputs": [
      {
       "output_type": "stream",
       "stream": "stdout",
       "text": [
        "[ 6.69e-09]\n",
        "[ 7.04e-01]\n",
        "[ 7.04e-01]\n",
        "[ 8.89e-01]\n",
        "[ 2.59e-01]\n",
        "[ 2.59e-01]\n",
        "[ 6.39e-10]\n",
        "\n",
        "-1.40740739443\n"
       ]
      }
     ],
     "prompt_number": 118
    },
    {
     "cell_type": "code",
     "collapsed": false,
     "input": [
      "b = 0\n",
      "y = 1\n",
      "x = np.array([0.,2])\n",
      "XX = sol['x']\n",
      "for i in range (7):\n",
      "    if i == 0 or i==6:\n",
      "        continue\n",
      "    ass = yy[i]*XX[i]*(1+dd[i].T.dot(x))**2\n",
      "#     print XX[i]\n",
      "#     print (1+dd[i].T.dot(x))**2\n",
      "    b += ass\n",
      "#     print ass\n",
      "#     print b\n",
      "b = y - b\n",
      "b\n",
      "# # b = -1.4+.9+0.3+0.3-1.7\n",
      "# # b\n",
      "# -6.3-0.7+.89+7.5+2.7"
     ],
     "language": "python",
     "metadata": {},
     "outputs": [
      {
       "metadata": {},
       "output_type": "pyout",
       "prompt_number": 130,
       "text": [
        "-1.6666667409567637"
       ]
      }
     ],
     "prompt_number": 130
    },
    {
     "cell_type": "markdown",
     "metadata": {},
     "source": [
      "# SVM algorithms\n"
     ]
    },
    {
     "cell_type": "code",
     "collapsed": false,
     "input": [
      "import numpy as np\n",
      "import math\n",
      "import scipy.linalg as sp"
     ],
     "language": "python",
     "metadata": {},
     "outputs": [],
     "prompt_number": 1
    },
    {
     "cell_type": "code",
     "collapsed": false,
     "input": [
      "data_train = np.genfromtxt(\"./features.train.txt\", dtype=float, delimiter='') \n",
      "# data_train = np.insert(data_train, 0, 1, axis=1)\n",
      "data_test = np.genfromtxt(\"./features.test.txt\", dtype=float, delimiter='') \n",
      "# data_test = np.insert(data_test, 0, 1, axis=1)\n",
      "# data_train[:,0:3].shape\n",
      "data_train[:,0] = data_train[:,0].astype('int0')\n",
      "data_train"
     ],
     "language": "python",
     "metadata": {},
     "outputs": [
      {
       "metadata": {},
       "output_type": "pyout",
       "prompt_number": 2,
       "text": [
        "array([[ 6.        ,  0.3410918 , -4.5289375 ],\n",
        "       [ 5.        ,  0.44413086, -5.4968125 ],\n",
        "       [ 4.        ,  0.23100195, -2.88675   ],\n",
        "       ..., \n",
        "       [ 3.        ,  0.39370508, -2.9211875 ],\n",
        "       [ 0.        ,  0.59758984, -2.2580625 ],\n",
        "       [ 1.        ,  0.2762207 , -0.91625   ]])"
       ]
      }
     ],
     "prompt_number": 2
    },
    {
     "cell_type": "code",
     "collapsed": false,
     "input": [
      "y_train = (data_train[:,0]).astype('int0')\n",
      "y_test = (data_test[:,0]).astype('int0')\n",
      "\n",
      "x_train = (data_train[:,1:3]).tolist()\n",
      "x_test = (data_test[:,1:3]).tolist()\n",
      "\n",
      "# y_train[y_train!=0]=1\n",
      "# print y_train"
     ],
     "language": "python",
     "metadata": {},
     "outputs": [],
     "prompt_number": 3
    },
    {
     "cell_type": "code",
     "collapsed": false,
     "input": [
      "import sys\n",
      "sys.path.append(\"/home/chan/libsvm-3.20/python\")\n",
      "\n",
      "from svmutil import *\n",
      "import copy\n",
      "\n",
      "y_train15 = copy.copy(y_train)\n",
      "y_train15[y_train15!=0]=1\n",
      "y_test15 = copy.copy(y_test)\n",
      "y_test15[y_test15!=0]=1\n",
      "\n",
      "y_train15 = y_train15.tolist()\n",
      "y_test15 = y_test15.tolist()\n",
      "\n",
      "prob  = svm_problem(y_train15, x_train)\n",
      "param = svm_parameter('-t 0 -s 0 -c 0.01')\n",
      "m = svm_train(prob, param)\n",
      "svm_train(prob, param)\n",
      "svm_save_model('15.model', m)"
     ],
     "language": "python",
     "metadata": {},
     "outputs": [],
     "prompt_number": 4
    },
    {
     "cell_type": "markdown",
     "metadata": {},
     "source": [
      "## Q15 calculate weights by SV and the sv_coeef(alpha)"
     ]
    },
    {
     "cell_type": "code",
     "collapsed": false,
     "input": [
      "model = svm_load_model('15.model')\n",
      "\n",
      "# model.get_svm_type()\n",
      "# model.get_nr_class()\n",
      "# model = toPyModel(model)\n",
      "\n",
      "ww = np.array(model.get_SV())\n",
      "# [0][1]\n",
      "# model.rho\n",
      "alpha = np.array(model.get_sv_coef())\n",
      "alpha = alpha.flatten()\n",
      "print ww[:][-1]\n",
      "print alpha\n",
      "print ww.shape\n",
      "\n",
      "www = []\n",
      "for i in range (len(ww)):\n",
      "    abcccc = []\n",
      "#     abcccc.append(ww[i][-1])\n",
      "    abcccc.append(ww[i][1])\n",
      "    abcccc.append(ww[i][2])\n",
      "    www.append(abcccc)\n",
      "www = np.array(www)\n",
      "print www.shape\n",
      "print www.T.dot(alpha)\n",
      "qq = www.T.dot(alpha)\n",
      "w = (qq[0]**2 + qq[1]**2)**(0.5)\n",
      "print w\n",
      "\n",
      "# model.get_SV()\n",
      "# model.get_nr_sv()\n",
      "# for i in range (len(ww)):\n",
      "#     w1 = ww[i][1]*alpha[i][0]\n",
      "#     w2 = ww[i][2]*alpha[i][0]\n",
      "#     break\n",
      "# print w1,w2\n",
      "\n",
      "# w = (w1**2 + w2**2)**(0.5)\n",
      "# print w\n"
     ],
     "language": "python",
     "metadata": {},
     "outputs": [
      {
       "output_type": "stream",
       "stream": "stdout",
       "text": [
        "{1: 0.59758984, 2: -2.2580625, -1: 1.6649854e-316}\n",
        "[ 0.01  0.01  0.01 ..., -0.01 -0.01 -0.01]\n",
        "(2391,)\n",
        "(2391, 2)\n",
        "[-0.57072734 -0.02595359]\n",
        "0.571317149426\n"
       ]
      }
     ],
     "prompt_number": 165
    },
    {
     "cell_type": "code",
     "collapsed": false,
     "input": [
      "# Other utility functions\n",
      "m = svm_load_model('15.model')\n",
      "p_label, p_acc, p_val = svm_predict(y_test15, x_test, m,'')\n",
      "ACC, MSE, SCC = evaluations(y_test15, p_label)\n",
      "\n",
      "# Getting online help\n",
      "# help(svm_train)"
     ],
     "language": "python",
     "metadata": {},
     "outputs": [
      {
       "output_type": "stream",
       "stream": "stdout",
       "text": [
        "Accuracy = 82.1126% (1648/2007) (classification)\n"
       ]
      }
     ],
     "prompt_number": 104
    },
    {
     "cell_type": "markdown",
     "metadata": {},
     "source": [
      "## Q16"
     ]
    },
    {
     "cell_type": "code",
     "collapsed": false,
     "input": [
      "import copy\n",
      "\n",
      "\n",
      "ttt = [0,2,4,6,8]\n",
      "best_record = 0\n",
      "best_label = 0\n",
      "max_alpha = 0\n",
      "\n",
      "for i in ttt:\n",
      "    y_train16 = copy.copy(y_train)\n",
      "    y_train16[y_train16!=i]=-1\n",
      "    y_train16[y_train16==i]=1\n",
      "\n",
      "#     y_test16 = y_test\n",
      "#     y_test16[y_test16!=i]=1\n",
      "    \n",
      "    y_train16 = y_train16.tolist()\n",
      "#     y_test16 = y_test16.tolist()\n",
      "    \n",
      "    prob  = svm_problem(y_train16, x_train)\n",
      "    param = svm_parameter('-t 1 -s 0 -c 0.01 -d 2 -g 1 -r 1')\n",
      "    m = svm_train(prob, param)\n",
      "    svm_save_model(str(i)+'.model', m)\n",
      "    \n",
      "    p_label, p_acc, p_val = svm_predict(y_train16, x_train, m,'')\n",
      "    # print p_acc[1]\n",
      "    if p_acc[0] > best_record:\n",
      "        best_record = p_acc[1]\n",
      "        best_label = i\n",
      "        # print 'the best classify::',i\n",
      "#     print m.get_labels()\n",
      "\n",
      "    \n",
      "    coee = np.array(m.get_sv_coef())\n",
      "    alpha = np.array(m.get_SV())\n",
      "    alp = 0\n",
      "#     print coee\n",
      "#     x_train.index(alpha[0][1])\n",
      "#     print \n",
      "#     break\n",
      "    for dd in coee.flatten():\n",
      "        if dd <0:\n",
      "            dd *= -1\n",
      "        alp += dd\n",
      "#     for dd in range(len(alpha)):\n",
      "#         alp += alpha[dd][-1]\n",
      "    print alp\n",
      "    if alp > max_alpha:\n",
      "        max_alpha = alp\n",
      "\n",
      "print ''\n",
      "print 'best label:::',best_label\n",
      "print 'max alpha:::',max_alpha"
     ],
     "language": "python",
     "metadata": {},
     "outputs": [
      {
       "output_type": "stream",
       "stream": "stdout",
       "text": [
        "Accuracy = 89.4116% (6519/7291) (classification)\n",
        "21.78\n",
        "Accuracy = 89.9739% (6560/7291) (classification)"
       ]
      },
      {
       "output_type": "stream",
       "stream": "stdout",
       "text": [
        "\n",
        "14.62\n",
        "Accuracy = 91.0575% (6639/7291) (classification)"
       ]
      },
      {
       "output_type": "stream",
       "stream": "stdout",
       "text": [
        "\n",
        "13.04\n",
        "Accuracy = 90.8929% (6627/7291) (classification)"
       ]
      },
      {
       "output_type": "stream",
       "stream": "stdout",
       "text": [
        "\n",
        "13.28\n",
        "Accuracy = 92.5662% (6749/7291) (classification)"
       ]
      },
      {
       "output_type": "stream",
       "stream": "stdout",
       "text": [
        "\n",
        "10.84\n",
        "\n",
        "best label::: 8\n",
        "max alpha::: 21.78\n"
       ]
      }
     ],
     "prompt_number": 198
    },
    {
     "cell_type": "markdown",
     "metadata": {},
     "source": [
      "## Q18::"
     ]
    },
    {
     "cell_type": "code",
     "collapsed": false,
     "input": [
      "C = [10.,1.,0.1,0.01,0.001]\n",
      "best_record = 0\n",
      "best_label = 0\n",
      "max_alpha = 0\n",
      "\n",
      "y_train18 = copy.copy(y_train)\n",
      "y_train18[y_train18!=0]=5\n",
      "# print y_train16\n",
      "y_test18 = copy.copy(y_test)\n",
      "y_test18[y_test18!=0]=5\n",
      "\n",
      "\n",
      "for i in C:\n",
      "    \n",
      "    prob  = svm_problem(y_train18, x_train)\n",
      "    param = svm_parameter('-t 2 -s 0 -d 2 -g 100 -c '+str(i))\n",
      "    m = svm_train(prob, param)\n",
      "    svm_save_model('Q18_C_'+str(i)+'_g_100.model', m)\n",
      "    \n",
      "    p_label, p_acc, p_val = svm_predict(y_test18, x_test, m,'')\n",
      "    \n",
      "    print ''\n",
      "    print 'C: ',i,',error: ',p_acc[0]\n",
      "    print '# of SVs: '+str(m.get_nr_sv())\n",
      "    \n",
      "    if p_acc[0] > best_record:\n",
      "        best_record = p_acc[1]\n",
      "        best_label = i\n",
      "        # print 'the best classify::',i\n",
      "    \n",
      "#     coee = np.array(model.get_sv_coef())\n",
      "#     alpha = np.array(m.get_SV())\n",
      "#     alp = 0\n",
      "#     print coee\n",
      "#     print alpha\n",
      "#     break\n",
      "#     for dd in alpha.flatten():\n",
      "#         alp += dd\n",
      "#     for dd in range(len(alpha)):\n",
      "#         alp += alpha[dd][-1]\n",
      "#     print alp\n",
      "#     if alp > max_alpha:\n",
      "#         max_alpha = alp\n",
      "\n",
      "print ''\n",
      "print 'best label:::',best_label"
     ],
     "language": "python",
     "metadata": {},
     "outputs": [
      {
       "output_type": "stream",
       "stream": "stdout",
       "text": [
        "Accuracy = 89.5366% (1797/2007) (classification)\n",
        "\n",
        "C:  10.0 ,error:  89.5366218236\n",
        "# of SVs: 1675\n",
        "Accuracy = 89.6363% (1799/2007) (classification)"
       ]
      },
      {
       "output_type": "stream",
       "stream": "stdout",
       "text": [
        "\n",
        "\n",
        "C:  1.0 ,error:  89.6362730443\n",
        "# of SVs: 1783\n",
        "Accuracy = 89.4868% (1796/2007) (classification)"
       ]
      },
      {
       "output_type": "stream",
       "stream": "stdout",
       "text": [
        "\n",
        "\n",
        "C:  0.1 ,error:  89.4867962133\n",
        "# of SVs: 2285\n",
        "Accuracy = 82.1126% (1648/2007) (classification)"
       ]
      },
      {
       "output_type": "stream",
       "stream": "stdout",
       "text": [
        "\n",
        "\n",
        "C:  0.01 ,error:  82.1126058794\n",
        "# of SVs: 2520\n",
        "Accuracy = 82.1126% (1648/2007) (classification)"
       ]
      },
      {
       "output_type": "stream",
       "stream": "stdout",
       "text": [
        "\n",
        "\n",
        "C:  0.001 ,error:  82.1126058794\n",
        "# of SVs: 2398\n",
        "\n",
        "best label::: 0.001\n"
       ]
      }
     ],
     "prompt_number": 6
    },
    {
     "cell_type": "markdown",
     "metadata": {},
     "source": [
      "## Q19"
     ]
    },
    {
     "cell_type": "code",
     "collapsed": false,
     "input": [
      "gamma = [1,10,100,1000,10000]\n",
      "best_record = 0\n",
      "best_label = 0\n",
      "max_alpha = 0\n",
      "\n",
      "for i in gamma:\n",
      "    \n",
      "    prob  = svm_problem(y_train18, x_train)\n",
      "    param = svm_parameter('-t 2 -s 0 -d 2 -c 0.1 -g '+str(i))\n",
      "    m = svm_train(prob, param)\n",
      "    svm_save_model('Q18_C_'+str(i)+'_g_100.model', m)\n",
      "    \n",
      "    p_label, p_acc, p_val = svm_predict(y_test18, x_test, m,'')\n",
      "        \n",
      "    if p_acc[0] > best_record:\n",
      "        best_record = p_acc[0]\n",
      "        best_label = i\n",
      "        # print 'the best classify::',i\n",
      "\n",
      "print ''\n",
      "print 'best label:::',best_label"
     ],
     "language": "python",
     "metadata": {},
     "outputs": [
      {
       "output_type": "stream",
       "stream": "stdout",
       "text": [
        "Accuracy = 89.2875% (1792/2007) (classification)\n",
        "Accuracy = 90.0847% (1808/2007) (classification)"
       ]
      },
      {
       "output_type": "stream",
       "stream": "stdout",
       "text": [
        "\n",
        "Accuracy = 89.4868% (1796/2007) (classification)"
       ]
      },
      {
       "output_type": "stream",
       "stream": "stdout",
       "text": [
        "\n",
        "Accuracy = 82.1126% (1648/2007) (classification)"
       ]
      },
      {
       "output_type": "stream",
       "stream": "stdout",
       "text": [
        "\n",
        "Accuracy = 82.1126% (1648/2007) (classification)"
       ]
      },
      {
       "output_type": "stream",
       "stream": "stdout",
       "text": [
        "\n",
        "\n",
        "best label::: 10\n"
       ]
      }
     ],
     "prompt_number": 7
    },
    {
     "cell_type": "code",
     "collapsed": false,
     "input": [
      "a={1:0,2:0}\n",
      "a[1]+=1\n",
      "a\n",
      "# np.random.permutation(data_train)"
     ],
     "language": "python",
     "metadata": {},
     "outputs": [
      {
       "metadata": {},
       "output_type": "pyout",
       "prompt_number": 47,
       "text": [
        "{1: 1, 2: 0}"
       ]
      }
     ],
     "prompt_number": 47
    },
    {
     "cell_type": "markdown",
     "metadata": {},
     "source": [
      "## Q20"
     ]
    },
    {
     "cell_type": "code",
     "collapsed": false,
     "input": [
      "# import sys\n",
      "# sys.path.append(\"/home/chan/libsvm-3.20/tools\")\n",
      "\n",
      "# from subset import *\n",
      "# from grid import *\n",
      "\n",
      "def q20(rangee):\n",
      "    gamma = [1,10,100,1000,10000]\n",
      "    best_label = 0\n",
      "    max_alpha = 0\n",
      "    \n",
      "    rrre = {1:0,10:0,100:0,1000:0,10000:0}\n",
      "    \n",
      "    for tim in range (rangee):\n",
      "        print '**********'\n",
      "        print 'This is the ',tim,' times'\n",
      "        dada_train = np.random.permutation(data_train)\n",
      "        # dada_test = np.random.permutation(data_test)\n",
      "        \n",
      "        y_train20 = (dada_train[1000:len(dada_train)-1,0]).astype('int0')\n",
      "        y_test20 = (dada_train[0:1000,0]).astype('int0')\n",
      "        \n",
      "        x_train20 = (dada_train[1000:len(dada_train)-1,1:3]).tolist()\n",
      "        x_test20 = (dada_train[0:1000,1:3]).tolist()\n",
      "        \n",
      "        y_train20 = copy.copy(y_train20)\n",
      "        y_test20 = copy.copy(y_test20)\n",
      "        \n",
      "        y_train20[y_train20!=0]=5\n",
      "        y_test20[y_test20!=0]=5\n",
      "        \n",
      "        y_train20 = y_train20.tolist()\n",
      "        y_test20 = y_test20.tolist()\n",
      "        \n",
      "        best_record = 0\n",
      "        count = 0\n",
      "        for i in gamma:\n",
      "            \n",
      "            prob  = svm_problem(y_train20, x_train20)\n",
      "            param = svm_parameter('-t 2 -s 0 -d 2 -c 0.1 -q -g '+str(i))\n",
      "            m = svm_train(prob, param)\n",
      "            # svm_save_model('Q18_C_'+str(i)+'_g_100.model', m)\n",
      "        \n",
      "            p_label, p_acc, p_val = svm_predict(y_test20, x_test20, m,'')\n",
      "            \n",
      "            if p_acc[0] > best_record:\n",
      "                best_record = p_acc[0]\n",
      "                best_label = i\n",
      "                \n",
      "            count += 1\n",
      "        \n",
      "        rrre[best_label] += 1\n",
      "        print 'best label:::------',best_label\n",
      "        print rrre\n",
      "        print ''\n",
      "\n"
     ],
     "language": "python",
     "metadata": {},
     "outputs": [],
     "prompt_number": 7
    },
    {
     "cell_type": "code",
     "collapsed": false,
     "input": [
      "%time q20(100)"
     ],
     "language": "python",
     "metadata": {},
     "outputs": [
      {
       "output_type": "stream",
       "stream": "stdout",
       "text": [
        "**********\n",
        "This is the  0  times\n",
        "Accuracy = 88.9% (889/1000) (classification)"
       ]
      },
      {
       "output_type": "stream",
       "stream": "stdout",
       "text": [
        "\n",
        "Accuracy = 90.2% (902/1000) (classification)"
       ]
      },
      {
       "output_type": "stream",
       "stream": "stdout",
       "text": [
        "\n",
        "Accuracy = 88.7% (887/1000) (classification)"
       ]
      },
      {
       "output_type": "stream",
       "stream": "stdout",
       "text": [
        "\n",
        "Accuracy = 83.4% (834/1000) (classification)"
       ]
      },
      {
       "output_type": "stream",
       "stream": "stdout",
       "text": [
        "\n",
        "Accuracy = 83.4% (834/1000) (classification)"
       ]
      },
      {
       "output_type": "stream",
       "stream": "stdout",
       "text": [
        "\n",
        "best label:::------ 10\n",
        "{1000: 0, 1: 0, 10: 1, 100: 0, 10000: 0}\n",
        "\n",
        "**********\n",
        "This is the  1  times\n",
        "Accuracy = 89.8% (898/1000) (classification)"
       ]
      },
      {
       "output_type": "stream",
       "stream": "stdout",
       "text": [
        "\n",
        "Accuracy = 90.7% (907/1000) (classification)"
       ]
      },
      {
       "output_type": "stream",
       "stream": "stdout",
       "text": [
        "\n",
        "Accuracy = 90.3% (903/1000) (classification)"
       ]
      },
      {
       "output_type": "stream",
       "stream": "stdout",
       "text": [
        "\n",
        "Accuracy = 84.1% (841/1000) (classification)"
       ]
      },
      {
       "output_type": "stream",
       "stream": "stdout",
       "text": [
        "\n",
        "Accuracy = 84.1% (841/1000) (classification)"
       ]
      },
      {
       "output_type": "stream",
       "stream": "stdout",
       "text": [
        "\n",
        "best label:::------ 10\n",
        "{1000: 0, 1: 0, 10: 2, 100: 0, 10000: 0}\n",
        "\n",
        "**********\n",
        "This is the  2  times\n",
        "Accuracy = 88.6% (886/1000) (classification)"
       ]
      },
      {
       "output_type": "stream",
       "stream": "stdout",
       "text": [
        "\n",
        "Accuracy = 89.3% (893/1000) (classification)"
       ]
      },
      {
       "output_type": "stream",
       "stream": "stdout",
       "text": [
        "\n",
        "Accuracy = 89.7% (897/1000) (classification)"
       ]
      },
      {
       "output_type": "stream",
       "stream": "stdout",
       "text": [
        "\n",
        "Accuracy = 83.4% (834/1000) (classification)"
       ]
      },
      {
       "output_type": "stream",
       "stream": "stdout",
       "text": [
        "\n",
        "Accuracy = 83.4% (834/1000) (classification)"
       ]
      },
      {
       "output_type": "stream",
       "stream": "stdout",
       "text": [
        "\n",
        "best label:::------ 100\n",
        "{1000: 0, 1: 0, 10: 2, 100: 1, 10000: 0}\n",
        "\n",
        "**********\n",
        "This is the  3  times\n",
        "Accuracy = 89.6% (896/1000) (classification)"
       ]
      },
      {
       "output_type": "stream",
       "stream": "stdout",
       "text": [
        "\n",
        "Accuracy = 90.3% (903/1000) (classification)"
       ]
      },
      {
       "output_type": "stream",
       "stream": "stdout",
       "text": [
        "\n",
        "Accuracy = 90.3% (903/1000) (classification)"
       ]
      },
      {
       "output_type": "stream",
       "stream": "stdout",
       "text": [
        "\n",
        "Accuracy = 84.3% (843/1000) (classification)"
       ]
      },
      {
       "output_type": "stream",
       "stream": "stdout",
       "text": [
        "\n",
        "Accuracy = 84.3% (843/1000) (classification)"
       ]
      },
      {
       "output_type": "stream",
       "stream": "stdout",
       "text": [
        "\n",
        "best label:::------ 10\n",
        "{1000: 0, 1: 0, 10: 3, 100: 1, 10000: 0}\n",
        "\n",
        "**********\n",
        "This is the  4  times\n",
        "Accuracy = 89.6% (896/1000) (classification)"
       ]
      },
      {
       "output_type": "stream",
       "stream": "stdout",
       "text": [
        "\n",
        "Accuracy = 90% (900/1000) (classification)"
       ]
      },
      {
       "output_type": "stream",
       "stream": "stdout",
       "text": [
        "\n",
        "Accuracy = 89.3% (893/1000) (classification)"
       ]
      },
      {
       "output_type": "stream",
       "stream": "stdout",
       "text": [
        "\n",
        "Accuracy = 83.3% (833/1000) (classification)"
       ]
      },
      {
       "output_type": "stream",
       "stream": "stdout",
       "text": [
        "\n",
        "Accuracy = 83.3% (833/1000) (classification)"
       ]
      },
      {
       "output_type": "stream",
       "stream": "stdout",
       "text": [
        "\n",
        "best label:::------ 10\n",
        "{1000: 0, 1: 0, 10: 4, 100: 1, 10000: 0}\n",
        "\n",
        "**********\n",
        "This is the  5  times\n",
        "Accuracy = 89.1% (891/1000) (classification)"
       ]
      },
      {
       "output_type": "stream",
       "stream": "stdout",
       "text": [
        "\n",
        "Accuracy = 90.3% (903/1000) (classification)"
       ]
      },
      {
       "output_type": "stream",
       "stream": "stdout",
       "text": [
        "\n",
        "Accuracy = 89.9% (899/1000) (classification)"
       ]
      },
      {
       "output_type": "stream",
       "stream": "stdout",
       "text": [
        "\n",
        "Accuracy = 82.1% (821/1000) (classification)"
       ]
      },
      {
       "output_type": "stream",
       "stream": "stdout",
       "text": [
        "\n",
        "Accuracy = 82.1% (821/1000) (classification)"
       ]
      },
      {
       "output_type": "stream",
       "stream": "stdout",
       "text": [
        "\n",
        "best label:::------ 10\n",
        "{1000: 0, 1: 0, 10: 5, 100: 1, 10000: 0}\n",
        "\n",
        "**********\n",
        "This is the  6  times\n",
        "Accuracy = 88.7% (887/1000) (classification)"
       ]
      },
      {
       "output_type": "stream",
       "stream": "stdout",
       "text": [
        "\n",
        "Accuracy = 90.3% (903/1000) (classification)"
       ]
      },
      {
       "output_type": "stream",
       "stream": "stdout",
       "text": [
        "\n",
        "Accuracy = 89.7% (897/1000) (classification)"
       ]
      },
      {
       "output_type": "stream",
       "stream": "stdout",
       "text": [
        "\n",
        "Accuracy = 82.6% (826/1000) (classification)"
       ]
      },
      {
       "output_type": "stream",
       "stream": "stdout",
       "text": [
        "\n",
        "Accuracy = 82.6% (826/1000) (classification)"
       ]
      },
      {
       "output_type": "stream",
       "stream": "stdout",
       "text": [
        "\n",
        "best label:::------ 10\n",
        "{1000: 0, 1: 0, 10: 6, 100: 1, 10000: 0}\n",
        "\n",
        "**********\n",
        "This is the  7  times\n",
        "Accuracy = 88.6% (886/1000) (classification)"
       ]
      },
      {
       "output_type": "stream",
       "stream": "stdout",
       "text": [
        "\n",
        "Accuracy = 88.7% (887/1000) (classification)"
       ]
      },
      {
       "output_type": "stream",
       "stream": "stdout",
       "text": [
        "\n",
        "Accuracy = 88.6% (886/1000) (classification)"
       ]
      },
      {
       "output_type": "stream",
       "stream": "stdout",
       "text": [
        "\n",
        "Accuracy = 82.9% (829/1000) (classification)"
       ]
      },
      {
       "output_type": "stream",
       "stream": "stdout",
       "text": [
        "\n",
        "Accuracy = 82.9% (829/1000) (classification)"
       ]
      },
      {
       "output_type": "stream",
       "stream": "stdout",
       "text": [
        "\n",
        "best label:::------ 10\n",
        "{1000: 0, 1: 0, 10: 7, 100: 1, 10000: 0}\n",
        "\n",
        "**********\n",
        "This is the  8  times\n",
        "Accuracy = 89.5% (895/1000) (classification)"
       ]
      },
      {
       "output_type": "stream",
       "stream": "stdout",
       "text": [
        "\n",
        "Accuracy = 90.8% (908/1000) (classification)"
       ]
      },
      {
       "output_type": "stream",
       "stream": "stdout",
       "text": [
        "\n",
        "Accuracy = 90.2% (902/1000) (classification)"
       ]
      },
      {
       "output_type": "stream",
       "stream": "stdout",
       "text": [
        "\n",
        "Accuracy = 82.7% (827/1000) (classification)"
       ]
      },
      {
       "output_type": "stream",
       "stream": "stdout",
       "text": [
        "\n",
        "Accuracy = 82.7% (827/1000) (classification)"
       ]
      },
      {
       "output_type": "stream",
       "stream": "stdout",
       "text": [
        "\n",
        "best label:::------ 10\n",
        "{1000: 0, 1: 0, 10: 8, 100: 1, 10000: 0}\n",
        "\n",
        "**********\n",
        "This is the  9  times\n",
        "Accuracy = 88.5% (885/1000) (classification)"
       ]
      },
      {
       "output_type": "stream",
       "stream": "stdout",
       "text": [
        "\n",
        "Accuracy = 89.7% (897/1000) (classification)"
       ]
      },
      {
       "output_type": "stream",
       "stream": "stdout",
       "text": [
        "\n",
        "Accuracy = 89.3% (893/1000) (classification)"
       ]
      },
      {
       "output_type": "stream",
       "stream": "stdout",
       "text": [
        "\n",
        "Accuracy = 82.3% (823/1000) (classification)"
       ]
      },
      {
       "output_type": "stream",
       "stream": "stdout",
       "text": [
        "\n",
        "Accuracy = 82.3% (823/1000) (classification)"
       ]
      },
      {
       "output_type": "stream",
       "stream": "stdout",
       "text": [
        "\n",
        "best label:::------ 10\n",
        "{1000: 0, 1: 0, 10: 9, 100: 1, 10000: 0}\n",
        "\n",
        "**********\n",
        "This is the  10  times\n",
        "Accuracy = 88.4% (884/1000) (classification)"
       ]
      },
      {
       "output_type": "stream",
       "stream": "stdout",
       "text": [
        "\n",
        "Accuracy = 89.6% (896/1000) (classification)"
       ]
      },
      {
       "output_type": "stream",
       "stream": "stdout",
       "text": [
        "\n",
        "Accuracy = 89.2% (892/1000) (classification)"
       ]
      },
      {
       "output_type": "stream",
       "stream": "stdout",
       "text": [
        "\n",
        "Accuracy = 83.6% (836/1000) (classification)"
       ]
      },
      {
       "output_type": "stream",
       "stream": "stdout",
       "text": [
        "\n",
        "Accuracy = 83.6% (836/1000) (classification)"
       ]
      },
      {
       "output_type": "stream",
       "stream": "stdout",
       "text": [
        "\n",
        "best label:::------ 10\n",
        "{1000: 0, 1: 0, 10: 10, 100: 1, 10000: 0}\n",
        "\n",
        "**********\n",
        "This is the  11  times\n",
        "Accuracy = 89.8% (898/1000) (classification)"
       ]
      },
      {
       "output_type": "stream",
       "stream": "stdout",
       "text": [
        "\n",
        "Accuracy = 91.2% (912/1000) (classification)"
       ]
      },
      {
       "output_type": "stream",
       "stream": "stdout",
       "text": [
        "\n",
        "Accuracy = 90.8% (908/1000) (classification)"
       ]
      },
      {
       "output_type": "stream",
       "stream": "stdout",
       "text": [
        "\n",
        "Accuracy = 84% (840/1000) (classification)"
       ]
      },
      {
       "output_type": "stream",
       "stream": "stdout",
       "text": [
        "\n",
        "Accuracy = 84% (840/1000) (classification)"
       ]
      },
      {
       "output_type": "stream",
       "stream": "stdout",
       "text": [
        "\n",
        "best label:::------ 10\n",
        "{1000: 0, 1: 0, 10: 11, 100: 1, 10000: 0}\n",
        "\n",
        "**********\n",
        "This is the  12  times\n",
        "Accuracy = 90.9% (909/1000) (classification)"
       ]
      },
      {
       "output_type": "stream",
       "stream": "stdout",
       "text": [
        "\n",
        "Accuracy = 91.2% (912/1000) (classification)"
       ]
      },
      {
       "output_type": "stream",
       "stream": "stdout",
       "text": [
        "\n",
        "Accuracy = 91.7% (917/1000) (classification)"
       ]
      },
      {
       "output_type": "stream",
       "stream": "stdout",
       "text": [
        "\n",
        "Accuracy = 85.5% (855/1000) (classification)"
       ]
      },
      {
       "output_type": "stream",
       "stream": "stdout",
       "text": [
        "\n",
        "Accuracy = 85.5% (855/1000) (classification)"
       ]
      },
      {
       "output_type": "stream",
       "stream": "stdout",
       "text": [
        "\n",
        "best label:::------ 100\n",
        "{1000: 0, 1: 0, 10: 11, 100: 2, 10000: 0}\n",
        "\n",
        "**********\n",
        "This is the  13  times\n",
        "Accuracy = 89.4% (894/1000) (classification)"
       ]
      },
      {
       "output_type": "stream",
       "stream": "stdout",
       "text": [
        "\n",
        "Accuracy = 90.4% (904/1000) (classification)"
       ]
      },
      {
       "output_type": "stream",
       "stream": "stdout",
       "text": [
        "\n",
        "Accuracy = 90% (900/1000) (classification)"
       ]
      },
      {
       "output_type": "stream",
       "stream": "stdout",
       "text": [
        "\n",
        "Accuracy = 84.1% (841/1000) (classification)"
       ]
      },
      {
       "output_type": "stream",
       "stream": "stdout",
       "text": [
        "\n",
        "Accuracy = 84.1% (841/1000) (classification)"
       ]
      },
      {
       "output_type": "stream",
       "stream": "stdout",
       "text": [
        "\n",
        "best label:::------ 10\n",
        "{1000: 0, 1: 0, 10: 12, 100: 2, 10000: 0}\n",
        "\n",
        "**********\n",
        "This is the  14  times\n",
        "Accuracy = 90.1% (901/1000) (classification)"
       ]
      },
      {
       "output_type": "stream",
       "stream": "stdout",
       "text": [
        "\n",
        "Accuracy = 89.9% (899/1000) (classification)"
       ]
      },
      {
       "output_type": "stream",
       "stream": "stdout",
       "text": [
        "\n",
        "Accuracy = 90.1% (901/1000) (classification)"
       ]
      },
      {
       "output_type": "stream",
       "stream": "stdout",
       "text": [
        "\n",
        "Accuracy = 84.4% (844/1000) (classification)"
       ]
      },
      {
       "output_type": "stream",
       "stream": "stdout",
       "text": [
        "\n",
        "Accuracy = 84.4% (844/1000) (classification)"
       ]
      },
      {
       "output_type": "stream",
       "stream": "stdout",
       "text": [
        "\n",
        "best label:::------ 1\n",
        "{1000: 0, 1: 1, 10: 12, 100: 2, 10000: 0}\n",
        "\n",
        "**********\n",
        "This is the  15  times\n",
        "Accuracy = 89.2% (892/1000) (classification)"
       ]
      },
      {
       "output_type": "stream",
       "stream": "stdout",
       "text": [
        "\n",
        "Accuracy = 90.4% (904/1000) (classification)"
       ]
      },
      {
       "output_type": "stream",
       "stream": "stdout",
       "text": [
        "\n",
        "Accuracy = 89.7% (897/1000) (classification)"
       ]
      },
      {
       "output_type": "stream",
       "stream": "stdout",
       "text": [
        "\n",
        "Accuracy = 83.6% (836/1000) (classification)"
       ]
      },
      {
       "output_type": "stream",
       "stream": "stdout",
       "text": [
        "\n",
        "Accuracy = 83.6% (836/1000) (classification)"
       ]
      },
      {
       "output_type": "stream",
       "stream": "stdout",
       "text": [
        "\n",
        "best label:::------ 10\n",
        "{1000: 0, 1: 1, 10: 13, 100: 2, 10000: 0}\n",
        "\n",
        "**********\n",
        "This is the  16  times\n",
        "Accuracy = 90% (900/1000) (classification)"
       ]
      },
      {
       "output_type": "stream",
       "stream": "stdout",
       "text": [
        "\n",
        "Accuracy = 90.3% (903/1000) (classification)"
       ]
      },
      {
       "output_type": "stream",
       "stream": "stdout",
       "text": [
        "\n",
        "Accuracy = 89.9% (899/1000) (classification)"
       ]
      },
      {
       "output_type": "stream",
       "stream": "stdout",
       "text": [
        "\n",
        "Accuracy = 84.5% (845/1000) (classification)"
       ]
      },
      {
       "output_type": "stream",
       "stream": "stdout",
       "text": [
        "\n",
        "Accuracy = 84.5% (845/1000) (classification)"
       ]
      },
      {
       "output_type": "stream",
       "stream": "stdout",
       "text": [
        "\n",
        "best label:::------ 10\n",
        "{1000: 0, 1: 1, 10: 14, 100: 2, 10000: 0}\n",
        "\n",
        "**********\n",
        "This is the  17  times\n",
        "Accuracy = 89% (890/1000) (classification)"
       ]
      },
      {
       "output_type": "stream",
       "stream": "stdout",
       "text": [
        "\n",
        "Accuracy = 89.3% (893/1000) (classification)"
       ]
      },
      {
       "output_type": "stream",
       "stream": "stdout",
       "text": [
        "\n",
        "Accuracy = 89% (890/1000) (classification)"
       ]
      },
      {
       "output_type": "stream",
       "stream": "stdout",
       "text": [
        "\n",
        "Accuracy = 83.4% (834/1000) (classification)"
       ]
      },
      {
       "output_type": "stream",
       "stream": "stdout",
       "text": [
        "\n",
        "Accuracy = 83.4% (834/1000) (classification)"
       ]
      },
      {
       "output_type": "stream",
       "stream": "stdout",
       "text": [
        "\n",
        "best label:::------ 10\n",
        "{1000: 0, 1: 1, 10: 15, 100: 2, 10000: 0}\n",
        "\n",
        "**********\n",
        "This is the  18  times\n",
        "Accuracy = 90.4% (904/1000) (classification)"
       ]
      },
      {
       "output_type": "stream",
       "stream": "stdout",
       "text": [
        "\n",
        "Accuracy = 91.5% (915/1000) (classification)"
       ]
      },
      {
       "output_type": "stream",
       "stream": "stdout",
       "text": [
        "\n",
        "Accuracy = 91.3% (913/1000) (classification)"
       ]
      },
      {
       "output_type": "stream",
       "stream": "stdout",
       "text": [
        "\n",
        "Accuracy = 85.3% (853/1000) (classification)"
       ]
      },
      {
       "output_type": "stream",
       "stream": "stdout",
       "text": [
        "\n",
        "Accuracy = 85.3% (853/1000) (classification)"
       ]
      },
      {
       "output_type": "stream",
       "stream": "stdout",
       "text": [
        "\n",
        "best label:::------ 10\n",
        "{1000: 0, 1: 1, 10: 16, 100: 2, 10000: 0}\n",
        "\n",
        "**********\n",
        "This is the  19  times\n",
        "Accuracy = 88.9% (889/1000) (classification)"
       ]
      },
      {
       "output_type": "stream",
       "stream": "stdout",
       "text": [
        "\n",
        "Accuracy = 89.9% (899/1000) (classification)"
       ]
      },
      {
       "output_type": "stream",
       "stream": "stdout",
       "text": [
        "\n",
        "Accuracy = 89.5% (895/1000) (classification)"
       ]
      },
      {
       "output_type": "stream",
       "stream": "stdout",
       "text": [
        "\n",
        "Accuracy = 82.7% (827/1000) (classification)"
       ]
      },
      {
       "output_type": "stream",
       "stream": "stdout",
       "text": [
        "\n",
        "Accuracy = 82.7% (827/1000) (classification)"
       ]
      },
      {
       "output_type": "stream",
       "stream": "stdout",
       "text": [
        "\n",
        "best label:::------ 10\n",
        "{1000: 0, 1: 1, 10: 17, 100: 2, 10000: 0}\n",
        "\n",
        "**********\n",
        "This is the  20  times\n",
        "Accuracy = 89% (890/1000) (classification)"
       ]
      },
      {
       "output_type": "stream",
       "stream": "stdout",
       "text": [
        "\n",
        "Accuracy = 89.8% (898/1000) (classification)"
       ]
      },
      {
       "output_type": "stream",
       "stream": "stdout",
       "text": [
        "\n",
        "Accuracy = 89% (890/1000) (classification)"
       ]
      },
      {
       "output_type": "stream",
       "stream": "stdout",
       "text": [
        "\n",
        "Accuracy = 83.1% (831/1000) (classification)"
       ]
      },
      {
       "output_type": "stream",
       "stream": "stdout",
       "text": [
        "\n",
        "Accuracy = 83.1% (831/1000) (classification)"
       ]
      },
      {
       "output_type": "stream",
       "stream": "stdout",
       "text": [
        "\n",
        "best label:::------ 10\n",
        "{1000: 0, 1: 1, 10: 18, 100: 2, 10000: 0}\n",
        "\n",
        "**********\n",
        "This is the  21  times\n",
        "Accuracy = 87.4% (874/1000) (classification)"
       ]
      },
      {
       "output_type": "stream",
       "stream": "stdout",
       "text": [
        "\n",
        "Accuracy = 89.1% (891/1000) (classification)"
       ]
      },
      {
       "output_type": "stream",
       "stream": "stdout",
       "text": [
        "\n",
        "Accuracy = 88.7% (887/1000) (classification)"
       ]
      },
      {
       "output_type": "stream",
       "stream": "stdout",
       "text": [
        "\n",
        "Accuracy = 82.4% (824/1000) (classification)"
       ]
      },
      {
       "output_type": "stream",
       "stream": "stdout",
       "text": [
        "\n",
        "Accuracy = 82.4% (824/1000) (classification)"
       ]
      },
      {
       "output_type": "stream",
       "stream": "stdout",
       "text": [
        "\n",
        "best label:::------ 10\n",
        "{1000: 0, 1: 1, 10: 19, 100: 2, 10000: 0}\n",
        "\n",
        "**********\n",
        "This is the  22  times\n",
        "Accuracy = 91.3% (913/1000) (classification)"
       ]
      },
      {
       "output_type": "stream",
       "stream": "stdout",
       "text": [
        "\n",
        "Accuracy = 92.2% (922/1000) (classification)"
       ]
      },
      {
       "output_type": "stream",
       "stream": "stdout",
       "text": [
        "\n",
        "Accuracy = 92.2% (922/1000) (classification)"
       ]
      },
      {
       "output_type": "stream",
       "stream": "stdout",
       "text": [
        "\n",
        "Accuracy = 86.4% (864/1000) (classification)"
       ]
      },
      {
       "output_type": "stream",
       "stream": "stdout",
       "text": [
        "\n",
        "Accuracy = 86.4% (864/1000) (classification)"
       ]
      },
      {
       "output_type": "stream",
       "stream": "stdout",
       "text": [
        "\n",
        "best label:::------ 10\n",
        "{1000: 0, 1: 1, 10: 20, 100: 2, 10000: 0}\n",
        "\n",
        "**********\n",
        "This is the  23  times\n",
        "Accuracy = 88.2% (882/1000) (classification)"
       ]
      },
      {
       "output_type": "stream",
       "stream": "stdout",
       "text": [
        "\n",
        "Accuracy = 89.1% (891/1000) (classification)"
       ]
      },
      {
       "output_type": "stream",
       "stream": "stdout",
       "text": [
        "\n",
        "Accuracy = 89.4% (894/1000) (classification)"
       ]
      },
      {
       "output_type": "stream",
       "stream": "stdout",
       "text": [
        "\n",
        "Accuracy = 83.9% (839/1000) (classification)"
       ]
      },
      {
       "output_type": "stream",
       "stream": "stdout",
       "text": [
        "\n",
        "Accuracy = 83.9% (839/1000) (classification)"
       ]
      },
      {
       "output_type": "stream",
       "stream": "stdout",
       "text": [
        "\n",
        "best label:::------ 100\n",
        "{1000: 0, 1: 1, 10: 20, 100: 3, 10000: 0}\n",
        "\n",
        "**********\n",
        "This is the  24  times\n",
        "Accuracy = 90.5% (905/1000) (classification)"
       ]
      },
      {
       "output_type": "stream",
       "stream": "stdout",
       "text": [
        "\n",
        "Accuracy = 91.1% (911/1000) (classification)"
       ]
      },
      {
       "output_type": "stream",
       "stream": "stdout",
       "text": [
        "\n",
        "Accuracy = 90.7% (907/1000) (classification)"
       ]
      },
      {
       "output_type": "stream",
       "stream": "stdout",
       "text": [
        "\n",
        "Accuracy = 85.5% (855/1000) (classification)"
       ]
      },
      {
       "output_type": "stream",
       "stream": "stdout",
       "text": [
        "\n",
        "Accuracy = 85.5% (855/1000) (classification)"
       ]
      },
      {
       "output_type": "stream",
       "stream": "stdout",
       "text": [
        "\n",
        "best label:::------ 10\n",
        "{1000: 0, 1: 1, 10: 21, 100: 3, 10000: 0}\n",
        "\n",
        "**********\n",
        "This is the  25  times\n",
        "Accuracy = 89% (890/1000) (classification)"
       ]
      },
      {
       "output_type": "stream",
       "stream": "stdout",
       "text": [
        "\n",
        "Accuracy = 89.1% (891/1000) (classification)"
       ]
      },
      {
       "output_type": "stream",
       "stream": "stdout",
       "text": [
        "\n",
        "Accuracy = 88.5% (885/1000) (classification)"
       ]
      },
      {
       "output_type": "stream",
       "stream": "stdout",
       "text": [
        "\n",
        "Accuracy = 85.3% (853/1000) (classification)"
       ]
      },
      {
       "output_type": "stream",
       "stream": "stdout",
       "text": [
        "\n",
        "Accuracy = 85.3% (853/1000) (classification)"
       ]
      },
      {
       "output_type": "stream",
       "stream": "stdout",
       "text": [
        "\n",
        "best label:::------ 10\n",
        "{1000: 0, 1: 1, 10: 22, 100: 3, 10000: 0}\n",
        "\n",
        "**********\n",
        "This is the  26  times\n",
        "Accuracy = 88.5% (885/1000) (classification)"
       ]
      },
      {
       "output_type": "stream",
       "stream": "stdout",
       "text": [
        "\n",
        "Accuracy = 89.6% (896/1000) (classification)"
       ]
      },
      {
       "output_type": "stream",
       "stream": "stdout",
       "text": [
        "\n",
        "Accuracy = 88.9% (889/1000) (classification)"
       ]
      },
      {
       "output_type": "stream",
       "stream": "stdout",
       "text": [
        "\n",
        "Accuracy = 84.2% (842/1000) (classification)"
       ]
      },
      {
       "output_type": "stream",
       "stream": "stdout",
       "text": [
        "\n",
        "Accuracy = 84.2% (842/1000) (classification)"
       ]
      },
      {
       "output_type": "stream",
       "stream": "stdout",
       "text": [
        "\n",
        "best label:::------ 10\n",
        "{1000: 0, 1: 1, 10: 23, 100: 3, 10000: 0}\n",
        "\n",
        "**********\n",
        "This is the  27  times\n",
        "Accuracy = 89.6% (896/1000) (classification)"
       ]
      },
      {
       "output_type": "stream",
       "stream": "stdout",
       "text": [
        "\n",
        "Accuracy = 90.4% (904/1000) (classification)"
       ]
      },
      {
       "output_type": "stream",
       "stream": "stdout",
       "text": [
        "\n",
        "Accuracy = 89.9% (899/1000) (classification)"
       ]
      },
      {
       "output_type": "stream",
       "stream": "stdout",
       "text": [
        "\n",
        "Accuracy = 85.4% (854/1000) (classification)"
       ]
      },
      {
       "output_type": "stream",
       "stream": "stdout",
       "text": [
        "\n",
        "Accuracy = 85.4% (854/1000) (classification)"
       ]
      },
      {
       "output_type": "stream",
       "stream": "stdout",
       "text": [
        "\n",
        "best label:::------ 10\n",
        "{1000: 0, 1: 1, 10: 24, 100: 3, 10000: 0}\n",
        "\n",
        "**********\n",
        "This is the  28  times\n",
        "Accuracy = 89% (890/1000) (classification)"
       ]
      },
      {
       "output_type": "stream",
       "stream": "stdout",
       "text": [
        "\n",
        "Accuracy = 90.1% (901/1000) (classification)"
       ]
      },
      {
       "output_type": "stream",
       "stream": "stdout",
       "text": [
        "\n",
        "Accuracy = 90% (900/1000) (classification)"
       ]
      },
      {
       "output_type": "stream",
       "stream": "stdout",
       "text": [
        "\n",
        "Accuracy = 83.8% (838/1000) (classification)"
       ]
      },
      {
       "output_type": "stream",
       "stream": "stdout",
       "text": [
        "\n",
        "Accuracy = 83.8% (838/1000) (classification)"
       ]
      },
      {
       "output_type": "stream",
       "stream": "stdout",
       "text": [
        "\n",
        "best label:::------ 10\n",
        "{1000: 0, 1: 1, 10: 25, 100: 3, 10000: 0}\n",
        "\n",
        "**********\n",
        "This is the  29  times\n",
        "Accuracy = 90.6% (906/1000) (classification)"
       ]
      },
      {
       "output_type": "stream",
       "stream": "stdout",
       "text": [
        "\n",
        "Accuracy = 90.5% (905/1000) (classification)"
       ]
      },
      {
       "output_type": "stream",
       "stream": "stdout",
       "text": [
        "\n",
        "Accuracy = 90.1% (901/1000) (classification)"
       ]
      },
      {
       "output_type": "stream",
       "stream": "stdout",
       "text": [
        "\n",
        "Accuracy = 84.4% (844/1000) (classification)"
       ]
      },
      {
       "output_type": "stream",
       "stream": "stdout",
       "text": [
        "\n",
        "Accuracy = 84.4% (844/1000) (classification)"
       ]
      },
      {
       "output_type": "stream",
       "stream": "stdout",
       "text": [
        "\n",
        "best label:::------ 1\n",
        "{1000: 0, 1: 2, 10: 25, 100: 3, 10000: 0}\n",
        "\n",
        "**********\n",
        "This is the  30  times\n",
        "Accuracy = 89.9% (899/1000) (classification)"
       ]
      },
      {
       "output_type": "stream",
       "stream": "stdout",
       "text": [
        "\n",
        "Accuracy = 91.1% (911/1000) (classification)"
       ]
      },
      {
       "output_type": "stream",
       "stream": "stdout",
       "text": [
        "\n",
        "Accuracy = 91.6% (916/1000) (classification)"
       ]
      },
      {
       "output_type": "stream",
       "stream": "stdout",
       "text": [
        "\n",
        "Accuracy = 83.2% (832/1000) (classification)"
       ]
      },
      {
       "output_type": "stream",
       "stream": "stdout",
       "text": [
        "\n",
        "Accuracy = 83.2% (832/1000) (classification)"
       ]
      },
      {
       "output_type": "stream",
       "stream": "stdout",
       "text": [
        "\n",
        "best label:::------ 100\n",
        "{1000: 0, 1: 2, 10: 25, 100: 4, 10000: 0}\n",
        "\n",
        "**********\n",
        "This is the  31  times\n",
        "Accuracy = 88.9% (889/1000) (classification)"
       ]
      },
      {
       "output_type": "stream",
       "stream": "stdout",
       "text": [
        "\n",
        "Accuracy = 90% (900/1000) (classification)"
       ]
      },
      {
       "output_type": "stream",
       "stream": "stdout",
       "text": [
        "\n",
        "Accuracy = 89.9% (899/1000) (classification)"
       ]
      },
      {
       "output_type": "stream",
       "stream": "stdout",
       "text": [
        "\n",
        "Accuracy = 82.6% (826/1000) (classification)"
       ]
      },
      {
       "output_type": "stream",
       "stream": "stdout",
       "text": [
        "\n",
        "Accuracy = 82.6% (826/1000) (classification)"
       ]
      },
      {
       "output_type": "stream",
       "stream": "stdout",
       "text": [
        "\n",
        "best label:::------ 10\n",
        "{1000: 0, 1: 2, 10: 26, 100: 4, 10000: 0}\n",
        "\n",
        "**********\n",
        "This is the  32  times\n",
        "Accuracy = 90.5% (905/1000) (classification)"
       ]
      },
      {
       "output_type": "stream",
       "stream": "stdout",
       "text": [
        "\n",
        "Accuracy = 90.9% (909/1000) (classification)"
       ]
      },
      {
       "output_type": "stream",
       "stream": "stdout",
       "text": [
        "\n",
        "Accuracy = 91.7% (917/1000) (classification)"
       ]
      },
      {
       "output_type": "stream",
       "stream": "stdout",
       "text": [
        "\n",
        "Accuracy = 83.7% (837/1000) (classification)"
       ]
      },
      {
       "output_type": "stream",
       "stream": "stdout",
       "text": [
        "\n",
        "Accuracy = 83.7% (837/1000) (classification)"
       ]
      },
      {
       "output_type": "stream",
       "stream": "stdout",
       "text": [
        "\n",
        "best label:::------ 100\n",
        "{1000: 0, 1: 2, 10: 26, 100: 5, 10000: 0}\n",
        "\n",
        "**********\n",
        "This is the  33  times\n",
        "Accuracy = 90% (900/1000) (classification)"
       ]
      },
      {
       "output_type": "stream",
       "stream": "stdout",
       "text": [
        "\n",
        "Accuracy = 90.8% (908/1000) (classification)"
       ]
      },
      {
       "output_type": "stream",
       "stream": "stdout",
       "text": [
        "\n",
        "Accuracy = 90.5% (905/1000) (classification)"
       ]
      },
      {
       "output_type": "stream",
       "stream": "stdout",
       "text": [
        "\n",
        "Accuracy = 84.6% (846/1000) (classification)"
       ]
      },
      {
       "output_type": "stream",
       "stream": "stdout",
       "text": [
        "\n",
        "Accuracy = 84.6% (846/1000) (classification)"
       ]
      },
      {
       "output_type": "stream",
       "stream": "stdout",
       "text": [
        "\n",
        "best label:::------ 10\n",
        "{1000: 0, 1: 2, 10: 27, 100: 5, 10000: 0}\n",
        "\n",
        "**********\n",
        "This is the  34  times\n",
        "Accuracy = 89.8% (898/1000) (classification)"
       ]
      },
      {
       "output_type": "stream",
       "stream": "stdout",
       "text": [
        "\n",
        "Accuracy = 90.2% (902/1000) (classification)"
       ]
      },
      {
       "output_type": "stream",
       "stream": "stdout",
       "text": [
        "\n",
        "Accuracy = 90.2% (902/1000) (classification)"
       ]
      },
      {
       "output_type": "stream",
       "stream": "stdout",
       "text": [
        "\n",
        "Accuracy = 83.9% (839/1000) (classification)"
       ]
      },
      {
       "output_type": "stream",
       "stream": "stdout",
       "text": [
        "\n",
        "Accuracy = 83.9% (839/1000) (classification)"
       ]
      },
      {
       "output_type": "stream",
       "stream": "stdout",
       "text": [
        "\n",
        "best label:::------ 10\n",
        "{1000: 0, 1: 2, 10: 28, 100: 5, 10000: 0}\n",
        "\n",
        "**********\n",
        "This is the  35  times\n",
        "Accuracy = 89.2% (892/1000) (classification)"
       ]
      },
      {
       "output_type": "stream",
       "stream": "stdout",
       "text": [
        "\n",
        "Accuracy = 90.2% (902/1000) (classification)"
       ]
      },
      {
       "output_type": "stream",
       "stream": "stdout",
       "text": [
        "\n",
        "Accuracy = 90% (900/1000) (classification)"
       ]
      },
      {
       "output_type": "stream",
       "stream": "stdout",
       "text": [
        "\n",
        "Accuracy = 83.9% (839/1000) (classification)"
       ]
      },
      {
       "output_type": "stream",
       "stream": "stdout",
       "text": [
        "\n",
        "Accuracy = 83.9% (839/1000) (classification)"
       ]
      },
      {
       "output_type": "stream",
       "stream": "stdout",
       "text": [
        "\n",
        "best label:::------ 10\n",
        "{1000: 0, 1: 2, 10: 29, 100: 5, 10000: 0}\n",
        "\n",
        "**********\n",
        "This is the  36  times\n",
        "Accuracy = 91.2% (912/1000) (classification)"
       ]
      },
      {
       "output_type": "stream",
       "stream": "stdout",
       "text": [
        "\n",
        "Accuracy = 91.8% (918/1000) (classification)"
       ]
      },
      {
       "output_type": "stream",
       "stream": "stdout",
       "text": [
        "\n",
        "Accuracy = 92% (920/1000) (classification)"
       ]
      },
      {
       "output_type": "stream",
       "stream": "stdout",
       "text": [
        "\n",
        "Accuracy = 84.6% (846/1000) (classification)"
       ]
      },
      {
       "output_type": "stream",
       "stream": "stdout",
       "text": [
        "\n",
        "Accuracy = 84.6% (846/1000) (classification)"
       ]
      },
      {
       "output_type": "stream",
       "stream": "stdout",
       "text": [
        "\n",
        "best label:::------ 100\n",
        "{1000: 0, 1: 2, 10: 29, 100: 6, 10000: 0}\n",
        "\n",
        "**********\n",
        "This is the  37  times\n",
        "Accuracy = 88.1% (881/1000) (classification)"
       ]
      },
      {
       "output_type": "stream",
       "stream": "stdout",
       "text": [
        "\n",
        "Accuracy = 89.3% (893/1000) (classification)"
       ]
      },
      {
       "output_type": "stream",
       "stream": "stdout",
       "text": [
        "\n",
        "Accuracy = 89.5% (895/1000) (classification)"
       ]
      },
      {
       "output_type": "stream",
       "stream": "stdout",
       "text": [
        "\n",
        "Accuracy = 84.9% (849/1000) (classification)"
       ]
      },
      {
       "output_type": "stream",
       "stream": "stdout",
       "text": [
        "\n",
        "Accuracy = 84.9% (849/1000) (classification)"
       ]
      },
      {
       "output_type": "stream",
       "stream": "stdout",
       "text": [
        "\n",
        "best label:::------ 100\n",
        "{1000: 0, 1: 2, 10: 29, 100: 7, 10000: 0}\n",
        "\n",
        "**********\n",
        "This is the  38  times\n",
        "Accuracy = 88.1% (881/1000) (classification)"
       ]
      },
      {
       "output_type": "stream",
       "stream": "stdout",
       "text": [
        "\n",
        "Accuracy = 89.3% (893/1000) (classification)"
       ]
      },
      {
       "output_type": "stream",
       "stream": "stdout",
       "text": [
        "\n",
        "Accuracy = 89.4% (894/1000) (classification)"
       ]
      },
      {
       "output_type": "stream",
       "stream": "stdout",
       "text": [
        "\n",
        "Accuracy = 81.8% (818/1000) (classification)"
       ]
      },
      {
       "output_type": "stream",
       "stream": "stdout",
       "text": [
        "\n",
        "Accuracy = 81.8% (818/1000) (classification)"
       ]
      },
      {
       "output_type": "stream",
       "stream": "stdout",
       "text": [
        "\n",
        "best label:::------ 100\n",
        "{1000: 0, 1: 2, 10: 29, 100: 8, 10000: 0}\n",
        "\n",
        "**********\n",
        "This is the  39  times\n",
        "Accuracy = 88.8% (888/1000) (classification)"
       ]
      },
      {
       "output_type": "stream",
       "stream": "stdout",
       "text": [
        "\n",
        "Accuracy = 89.7% (897/1000) (classification)"
       ]
      },
      {
       "output_type": "stream",
       "stream": "stdout",
       "text": [
        "\n",
        "Accuracy = 89.6% (896/1000) (classification)"
       ]
      },
      {
       "output_type": "stream",
       "stream": "stdout",
       "text": [
        "\n",
        "Accuracy = 83.8% (838/1000) (classification)"
       ]
      },
      {
       "output_type": "stream",
       "stream": "stdout",
       "text": [
        "\n",
        "Accuracy = 83.8% (838/1000) (classification)"
       ]
      },
      {
       "output_type": "stream",
       "stream": "stdout",
       "text": [
        "\n",
        "best label:::------ 10\n",
        "{1000: 0, 1: 2, 10: 30, 100: 8, 10000: 0}\n",
        "\n",
        "**********\n",
        "This is the  40  times\n",
        "Accuracy = 89.7% (897/1000) (classification)"
       ]
      },
      {
       "output_type": "stream",
       "stream": "stdout",
       "text": [
        "\n",
        "Accuracy = 90.3% (903/1000) (classification)"
       ]
      },
      {
       "output_type": "stream",
       "stream": "stdout",
       "text": [
        "\n",
        "Accuracy = 90.1% (901/1000) (classification)"
       ]
      },
      {
       "output_type": "stream",
       "stream": "stdout",
       "text": [
        "\n",
        "Accuracy = 83.6% (836/1000) (classification)"
       ]
      },
      {
       "output_type": "stream",
       "stream": "stdout",
       "text": [
        "\n",
        "Accuracy = 83.6% (836/1000) (classification)"
       ]
      },
      {
       "output_type": "stream",
       "stream": "stdout",
       "text": [
        "\n",
        "best label:::------ 10\n",
        "{1000: 0, 1: 2, 10: 31, 100: 8, 10000: 0}\n",
        "\n",
        "**********\n",
        "This is the  41  times\n",
        "Accuracy = 88.6% (886/1000) (classification)"
       ]
      },
      {
       "output_type": "stream",
       "stream": "stdout",
       "text": [
        "\n",
        "Accuracy = 89.5% (895/1000) (classification)"
       ]
      },
      {
       "output_type": "stream",
       "stream": "stdout",
       "text": [
        "\n",
        "Accuracy = 89.2% (892/1000) (classification)"
       ]
      },
      {
       "output_type": "stream",
       "stream": "stdout",
       "text": [
        "\n",
        "Accuracy = 82.8% (828/1000) (classification)"
       ]
      },
      {
       "output_type": "stream",
       "stream": "stdout",
       "text": [
        "\n",
        "Accuracy = 82.8% (828/1000) (classification)"
       ]
      },
      {
       "output_type": "stream",
       "stream": "stdout",
       "text": [
        "\n",
        "best label:::------ 10\n",
        "{1000: 0, 1: 2, 10: 32, 100: 8, 10000: 0}\n",
        "\n",
        "**********\n",
        "This is the  42  times\n",
        "Accuracy = 89.2% (892/1000) (classification)"
       ]
      },
      {
       "output_type": "stream",
       "stream": "stdout",
       "text": [
        "\n",
        "Accuracy = 89.8% (898/1000) (classification)"
       ]
      },
      {
       "output_type": "stream",
       "stream": "stdout",
       "text": [
        "\n",
        "Accuracy = 89.6% (896/1000) (classification)"
       ]
      },
      {
       "output_type": "stream",
       "stream": "stdout",
       "text": [
        "\n",
        "Accuracy = 83.5% (835/1000) (classification)"
       ]
      },
      {
       "output_type": "stream",
       "stream": "stdout",
       "text": [
        "\n",
        "Accuracy = 83.5% (835/1000) (classification)"
       ]
      },
      {
       "output_type": "stream",
       "stream": "stdout",
       "text": [
        "\n",
        "best label:::------ 10\n",
        "{1000: 0, 1: 2, 10: 33, 100: 8, 10000: 0}\n",
        "\n",
        "**********\n",
        "This is the  43  times\n",
        "Accuracy = 88.9% (889/1000) (classification)"
       ]
      },
      {
       "output_type": "stream",
       "stream": "stdout",
       "text": [
        "\n",
        "Accuracy = 89.3% (893/1000) (classification)"
       ]
      },
      {
       "output_type": "stream",
       "stream": "stdout",
       "text": [
        "\n",
        "Accuracy = 89.5% (895/1000) (classification)"
       ]
      },
      {
       "output_type": "stream",
       "stream": "stdout",
       "text": [
        "\n",
        "Accuracy = 83.1% (831/1000) (classification)"
       ]
      },
      {
       "output_type": "stream",
       "stream": "stdout",
       "text": [
        "\n",
        "Accuracy = 83.1% (831/1000) (classification)"
       ]
      },
      {
       "output_type": "stream",
       "stream": "stdout",
       "text": [
        "\n",
        "best label:::------ 100\n",
        "{1000: 0, 1: 2, 10: 33, 100: 9, 10000: 0}\n",
        "\n",
        "**********\n",
        "This is the  44  times\n",
        "Accuracy = 89.3% (893/1000) (classification)"
       ]
      },
      {
       "output_type": "stream",
       "stream": "stdout",
       "text": [
        "\n",
        "Accuracy = 89.4% (894/1000) (classification)"
       ]
      },
      {
       "output_type": "stream",
       "stream": "stdout",
       "text": [
        "\n",
        "Accuracy = 89.6% (896/1000) (classification)"
       ]
      },
      {
       "output_type": "stream",
       "stream": "stdout",
       "text": [
        "\n",
        "Accuracy = 83.2% (832/1000) (classification)"
       ]
      },
      {
       "output_type": "stream",
       "stream": "stdout",
       "text": [
        "\n",
        "Accuracy = 83.2% (832/1000) (classification)"
       ]
      },
      {
       "output_type": "stream",
       "stream": "stdout",
       "text": [
        "\n",
        "best label:::------ 100\n",
        "{1000: 0, 1: 2, 10: 33, 100: 10, 10000: 0}\n",
        "\n",
        "**********\n",
        "This is the  45  times\n",
        "Accuracy = 90.2% (902/1000) (classification)"
       ]
      },
      {
       "output_type": "stream",
       "stream": "stdout",
       "text": [
        "\n",
        "Accuracy = 90.6% (906/1000) (classification)"
       ]
      },
      {
       "output_type": "stream",
       "stream": "stdout",
       "text": [
        "\n",
        "Accuracy = 90.4% (904/1000) (classification)"
       ]
      },
      {
       "output_type": "stream",
       "stream": "stdout",
       "text": [
        "\n",
        "Accuracy = 83.8% (838/1000) (classification)"
       ]
      },
      {
       "output_type": "stream",
       "stream": "stdout",
       "text": [
        "\n",
        "Accuracy = 83.8% (838/1000) (classification)"
       ]
      },
      {
       "output_type": "stream",
       "stream": "stdout",
       "text": [
        "\n",
        "best label:::------ 10\n",
        "{1000: 0, 1: 2, 10: 34, 100: 10, 10000: 0}\n",
        "\n",
        "**********\n",
        "This is the  46  times\n",
        "Accuracy = 89.3% (893/1000) (classification)"
       ]
      },
      {
       "output_type": "stream",
       "stream": "stdout",
       "text": [
        "\n",
        "Accuracy = 90.4% (904/1000) (classification)"
       ]
      },
      {
       "output_type": "stream",
       "stream": "stdout",
       "text": [
        "\n",
        "Accuracy = 90.5% (905/1000) (classification)"
       ]
      },
      {
       "output_type": "stream",
       "stream": "stdout",
       "text": [
        "\n",
        "Accuracy = 83% (830/1000) (classification)"
       ]
      },
      {
       "output_type": "stream",
       "stream": "stdout",
       "text": [
        "\n",
        "Accuracy = 83% (830/1000) (classification)"
       ]
      },
      {
       "output_type": "stream",
       "stream": "stdout",
       "text": [
        "\n",
        "best label:::------ 100\n",
        "{1000: 0, 1: 2, 10: 34, 100: 11, 10000: 0}\n",
        "\n",
        "**********\n",
        "This is the  47  times\n",
        "Accuracy = 88.6% (886/1000) (classification)"
       ]
      },
      {
       "output_type": "stream",
       "stream": "stdout",
       "text": [
        "\n",
        "Accuracy = 89.8% (898/1000) (classification)"
       ]
      },
      {
       "output_type": "stream",
       "stream": "stdout",
       "text": [
        "\n",
        "Accuracy = 89.8% (898/1000) (classification)"
       ]
      },
      {
       "output_type": "stream",
       "stream": "stdout",
       "text": [
        "\n",
        "Accuracy = 83.8% (838/1000) (classification)"
       ]
      },
      {
       "output_type": "stream",
       "stream": "stdout",
       "text": [
        "\n",
        "Accuracy = 83.8% (838/1000) (classification)"
       ]
      },
      {
       "output_type": "stream",
       "stream": "stdout",
       "text": [
        "\n",
        "best label:::------ 10\n",
        "{1000: 0, 1: 2, 10: 35, 100: 11, 10000: 0}\n",
        "\n",
        "**********\n",
        "This is the  48  times\n",
        "Accuracy = 91.5% (915/1000) (classification)"
       ]
      },
      {
       "output_type": "stream",
       "stream": "stdout",
       "text": [
        "\n",
        "Accuracy = 91.4% (914/1000) (classification)"
       ]
      },
      {
       "output_type": "stream",
       "stream": "stdout",
       "text": [
        "\n",
        "Accuracy = 91.2% (912/1000) (classification)"
       ]
      },
      {
       "output_type": "stream",
       "stream": "stdout",
       "text": [
        "\n",
        "Accuracy = 86.4% (864/1000) (classification)"
       ]
      },
      {
       "output_type": "stream",
       "stream": "stdout",
       "text": [
        "\n",
        "Accuracy = 86.4% (864/1000) (classification)"
       ]
      },
      {
       "output_type": "stream",
       "stream": "stdout",
       "text": [
        "\n",
        "best label:::------ 1\n",
        "{1000: 0, 1: 3, 10: 35, 100: 11, 10000: 0}\n",
        "\n",
        "**********\n",
        "This is the  49  times\n",
        "Accuracy = 90.5% (905/1000) (classification)"
       ]
      },
      {
       "output_type": "stream",
       "stream": "stdout",
       "text": [
        "\n",
        "Accuracy = 90.8% (908/1000) (classification)"
       ]
      },
      {
       "output_type": "stream",
       "stream": "stdout",
       "text": [
        "\n",
        "Accuracy = 90.6% (906/1000) (classification)"
       ]
      },
      {
       "output_type": "stream",
       "stream": "stdout",
       "text": [
        "\n",
        "Accuracy = 84.2% (842/1000) (classification)"
       ]
      },
      {
       "output_type": "stream",
       "stream": "stdout",
       "text": [
        "\n",
        "Accuracy = 84.2% (842/1000) (classification)"
       ]
      },
      {
       "output_type": "stream",
       "stream": "stdout",
       "text": [
        "\n",
        "best label:::------ 10\n",
        "{1000: 0, 1: 3, 10: 36, 100: 11, 10000: 0}\n",
        "\n",
        "**********\n",
        "This is the  50  times\n",
        "Accuracy = 89.2% (892/1000) (classification)"
       ]
      },
      {
       "output_type": "stream",
       "stream": "stdout",
       "text": [
        "\n",
        "Accuracy = 89.3% (893/1000) (classification)"
       ]
      },
      {
       "output_type": "stream",
       "stream": "stdout",
       "text": [
        "\n",
        "Accuracy = 89.1% (891/1000) (classification)"
       ]
      },
      {
       "output_type": "stream",
       "stream": "stdout",
       "text": [
        "\n",
        "Accuracy = 82.4% (824/1000) (classification)"
       ]
      },
      {
       "output_type": "stream",
       "stream": "stdout",
       "text": [
        "\n",
        "Accuracy = 82.4% (824/1000) (classification)"
       ]
      },
      {
       "output_type": "stream",
       "stream": "stdout",
       "text": [
        "\n",
        "best label:::------ 10\n",
        "{1000: 0, 1: 3, 10: 37, 100: 11, 10000: 0}\n",
        "\n",
        "**********\n",
        "This is the  51  times\n",
        "Accuracy = 89.3% (893/1000) (classification)"
       ]
      },
      {
       "output_type": "stream",
       "stream": "stdout",
       "text": [
        "\n",
        "Accuracy = 90.5% (905/1000) (classification)"
       ]
      },
      {
       "output_type": "stream",
       "stream": "stdout",
       "text": [
        "\n",
        "Accuracy = 90.3% (903/1000) (classification)"
       ]
      },
      {
       "output_type": "stream",
       "stream": "stdout",
       "text": [
        "\n",
        "Accuracy = 83.9% (839/1000) (classification)"
       ]
      },
      {
       "output_type": "stream",
       "stream": "stdout",
       "text": [
        "\n",
        "Accuracy = 83.9% (839/1000) (classification)"
       ]
      },
      {
       "output_type": "stream",
       "stream": "stdout",
       "text": [
        "\n",
        "best label:::------ 10\n",
        "{1000: 0, 1: 3, 10: 38, 100: 11, 10000: 0}\n",
        "\n",
        "**********\n",
        "This is the  52  times\n",
        "Accuracy = 90.2% (902/1000) (classification)"
       ]
      },
      {
       "output_type": "stream",
       "stream": "stdout",
       "text": [
        "\n",
        "Accuracy = 91.1% (911/1000) (classification)"
       ]
      },
      {
       "output_type": "stream",
       "stream": "stdout",
       "text": [
        "\n",
        "Accuracy = 91% (910/1000) (classification)"
       ]
      },
      {
       "output_type": "stream",
       "stream": "stdout",
       "text": [
        "\n",
        "Accuracy = 84.2% (842/1000) (classification)"
       ]
      },
      {
       "output_type": "stream",
       "stream": "stdout",
       "text": [
        "\n",
        "Accuracy = 84.2% (842/1000) (classification)"
       ]
      },
      {
       "output_type": "stream",
       "stream": "stdout",
       "text": [
        "\n",
        "best label:::------ 10\n",
        "{1000: 0, 1: 3, 10: 39, 100: 11, 10000: 0}\n",
        "\n",
        "**********\n",
        "This is the  53  times\n",
        "Accuracy = 90.3% (903/1000) (classification)"
       ]
      },
      {
       "output_type": "stream",
       "stream": "stdout",
       "text": [
        "\n",
        "Accuracy = 90.9% (909/1000) (classification)"
       ]
      },
      {
       "output_type": "stream",
       "stream": "stdout",
       "text": [
        "\n",
        "Accuracy = 90.4% (904/1000) (classification)"
       ]
      },
      {
       "output_type": "stream",
       "stream": "stdout",
       "text": [
        "\n",
        "Accuracy = 84.8% (848/1000) (classification)"
       ]
      },
      {
       "output_type": "stream",
       "stream": "stdout",
       "text": [
        "\n",
        "Accuracy = 84.8% (848/1000) (classification)"
       ]
      },
      {
       "output_type": "stream",
       "stream": "stdout",
       "text": [
        "\n",
        "best label:::------ 10\n",
        "{1000: 0, 1: 3, 10: 40, 100: 11, 10000: 0}\n",
        "\n",
        "**********\n",
        "This is the  54  times\n",
        "Accuracy = 90% (900/1000) (classification)"
       ]
      },
      {
       "output_type": "stream",
       "stream": "stdout",
       "text": [
        "\n",
        "Accuracy = 90.7% (907/1000) (classification)"
       ]
      },
      {
       "output_type": "stream",
       "stream": "stdout",
       "text": [
        "\n",
        "Accuracy = 90.6% (906/1000) (classification)"
       ]
      },
      {
       "output_type": "stream",
       "stream": "stdout",
       "text": [
        "\n",
        "Accuracy = 83.6% (836/1000) (classification)"
       ]
      },
      {
       "output_type": "stream",
       "stream": "stdout",
       "text": [
        "\n",
        "Accuracy = 83.6% (836/1000) (classification)"
       ]
      },
      {
       "output_type": "stream",
       "stream": "stdout",
       "text": [
        "\n",
        "best label:::------ 10\n",
        "{1000: 0, 1: 3, 10: 41, 100: 11, 10000: 0}\n",
        "\n",
        "**********\n",
        "This is the  55  times\n",
        "Accuracy = 89.9% (899/1000) (classification)"
       ]
      },
      {
       "output_type": "stream",
       "stream": "stdout",
       "text": [
        "\n",
        "Accuracy = 89.7% (897/1000) (classification)"
       ]
      },
      {
       "output_type": "stream",
       "stream": "stdout",
       "text": [
        "\n",
        "Accuracy = 89.4% (894/1000) (classification)"
       ]
      },
      {
       "output_type": "stream",
       "stream": "stdout",
       "text": [
        "\n",
        "Accuracy = 85.3% (853/1000) (classification)"
       ]
      },
      {
       "output_type": "stream",
       "stream": "stdout",
       "text": [
        "\n",
        "Accuracy = 85.3% (853/1000) (classification)"
       ]
      },
      {
       "output_type": "stream",
       "stream": "stdout",
       "text": [
        "\n",
        "best label:::------ 1\n",
        "{1000: 0, 1: 4, 10: 41, 100: 11, 10000: 0}\n",
        "\n",
        "**********\n",
        "This is the  56  times\n",
        "Accuracy = 86.9% (869/1000) (classification)"
       ]
      },
      {
       "output_type": "stream",
       "stream": "stdout",
       "text": [
        "\n",
        "Accuracy = 88.5% (885/1000) (classification)"
       ]
      },
      {
       "output_type": "stream",
       "stream": "stdout",
       "text": [
        "\n",
        "Accuracy = 88.5% (885/1000) (classification)"
       ]
      },
      {
       "output_type": "stream",
       "stream": "stdout",
       "text": [
        "\n",
        "Accuracy = 80.9% (809/1000) (classification)"
       ]
      },
      {
       "output_type": "stream",
       "stream": "stdout",
       "text": [
        "\n",
        "Accuracy = 80.9% (809/1000) (classification)"
       ]
      },
      {
       "output_type": "stream",
       "stream": "stdout",
       "text": [
        "\n",
        "best label:::------ 10\n",
        "{1000: 0, 1: 4, 10: 42, 100: 11, 10000: 0}\n",
        "\n",
        "**********\n",
        "This is the  57  times\n",
        "Accuracy = 89.7% (897/1000) (classification)"
       ]
      },
      {
       "output_type": "stream",
       "stream": "stdout",
       "text": [
        "\n",
        "Accuracy = 90.7% (907/1000) (classification)"
       ]
      },
      {
       "output_type": "stream",
       "stream": "stdout",
       "text": [
        "\n",
        "Accuracy = 89.7% (897/1000) (classification)"
       ]
      },
      {
       "output_type": "stream",
       "stream": "stdout",
       "text": [
        "\n",
        "Accuracy = 84% (840/1000) (classification)"
       ]
      },
      {
       "output_type": "stream",
       "stream": "stdout",
       "text": [
        "\n",
        "Accuracy = 84% (840/1000) (classification)"
       ]
      },
      {
       "output_type": "stream",
       "stream": "stdout",
       "text": [
        "\n",
        "best label:::------ 10\n",
        "{1000: 0, 1: 4, 10: 43, 100: 11, 10000: 0}\n",
        "\n",
        "**********\n",
        "This is the  58  times\n",
        "Accuracy = 89.6% (896/1000) (classification)"
       ]
      },
      {
       "output_type": "stream",
       "stream": "stdout",
       "text": [
        "\n",
        "Accuracy = 89.6% (896/1000) (classification)"
       ]
      },
      {
       "output_type": "stream",
       "stream": "stdout",
       "text": [
        "\n",
        "Accuracy = 89.7% (897/1000) (classification)"
       ]
      },
      {
       "output_type": "stream",
       "stream": "stdout",
       "text": [
        "\n",
        "Accuracy = 83% (830/1000) (classification)"
       ]
      },
      {
       "output_type": "stream",
       "stream": "stdout",
       "text": [
        "\n",
        "Accuracy = 83% (830/1000) (classification)"
       ]
      },
      {
       "output_type": "stream",
       "stream": "stdout",
       "text": [
        "\n",
        "best label:::------ 100\n",
        "{1000: 0, 1: 4, 10: 43, 100: 12, 10000: 0}\n",
        "\n",
        "**********\n",
        "This is the  59  times\n",
        "Accuracy = 90% (900/1000) (classification)"
       ]
      },
      {
       "output_type": "stream",
       "stream": "stdout",
       "text": [
        "\n",
        "Accuracy = 90.7% (907/1000) (classification)"
       ]
      },
      {
       "output_type": "stream",
       "stream": "stdout",
       "text": [
        "\n",
        "Accuracy = 90.4% (904/1000) (classification)"
       ]
      },
      {
       "output_type": "stream",
       "stream": "stdout",
       "text": [
        "\n",
        "Accuracy = 82.8% (828/1000) (classification)"
       ]
      },
      {
       "output_type": "stream",
       "stream": "stdout",
       "text": [
        "\n",
        "Accuracy = 82.8% (828/1000) (classification)"
       ]
      },
      {
       "output_type": "stream",
       "stream": "stdout",
       "text": [
        "\n",
        "best label:::------ 10\n",
        "{1000: 0, 1: 4, 10: 44, 100: 12, 10000: 0}\n",
        "\n",
        "**********\n",
        "This is the  60  times\n",
        "Accuracy = 89.3% (893/1000) (classification)"
       ]
      },
      {
       "output_type": "stream",
       "stream": "stdout",
       "text": [
        "\n",
        "Accuracy = 89.6% (896/1000) (classification)"
       ]
      },
      {
       "output_type": "stream",
       "stream": "stdout",
       "text": [
        "\n",
        "Accuracy = 89.7% (897/1000) (classification)"
       ]
      },
      {
       "output_type": "stream",
       "stream": "stdout",
       "text": [
        "\n",
        "Accuracy = 83.9% (839/1000) (classification)"
       ]
      },
      {
       "output_type": "stream",
       "stream": "stdout",
       "text": [
        "\n",
        "Accuracy = 83.9% (839/1000) (classification)"
       ]
      },
      {
       "output_type": "stream",
       "stream": "stdout",
       "text": [
        "\n",
        "best label:::------ 100\n",
        "{1000: 0, 1: 4, 10: 44, 100: 13, 10000: 0}\n",
        "\n",
        "**********\n",
        "This is the  61  times\n",
        "Accuracy = 87.8% (878/1000) (classification)"
       ]
      },
      {
       "output_type": "stream",
       "stream": "stdout",
       "text": [
        "\n",
        "Accuracy = 89.2% (892/1000) (classification)"
       ]
      },
      {
       "output_type": "stream",
       "stream": "stdout",
       "text": [
        "\n",
        "Accuracy = 89.1% (891/1000) (classification)"
       ]
      },
      {
       "output_type": "stream",
       "stream": "stdout",
       "text": [
        "\n",
        "Accuracy = 82.5% (825/1000) (classification)"
       ]
      },
      {
       "output_type": "stream",
       "stream": "stdout",
       "text": [
        "\n",
        "Accuracy = 82.5% (825/1000) (classification)"
       ]
      },
      {
       "output_type": "stream",
       "stream": "stdout",
       "text": [
        "\n",
        "best label:::------ 10\n",
        "{1000: 0, 1: 4, 10: 45, 100: 13, 10000: 0}\n",
        "\n",
        "**********\n",
        "This is the  62  times\n",
        "Accuracy = 90.2% (902/1000) (classification)"
       ]
      },
      {
       "output_type": "stream",
       "stream": "stdout",
       "text": [
        "\n",
        "Accuracy = 90.5% (905/1000) (classification)"
       ]
      },
      {
       "output_type": "stream",
       "stream": "stdout",
       "text": [
        "\n",
        "Accuracy = 89.4% (894/1000) (classification)"
       ]
      },
      {
       "output_type": "stream",
       "stream": "stdout",
       "text": [
        "\n",
        "Accuracy = 84.1% (841/1000) (classification)"
       ]
      },
      {
       "output_type": "stream",
       "stream": "stdout",
       "text": [
        "\n",
        "Accuracy = 84.1% (841/1000) (classification)"
       ]
      },
      {
       "output_type": "stream",
       "stream": "stdout",
       "text": [
        "\n",
        "best label:::------ 10\n",
        "{1000: 0, 1: 4, 10: 46, 100: 13, 10000: 0}\n",
        "\n",
        "**********\n",
        "This is the  63  times\n",
        "Accuracy = 88.9% (889/1000) (classification)"
       ]
      },
      {
       "output_type": "stream",
       "stream": "stdout",
       "text": [
        "\n",
        "Accuracy = 89.3% (893/1000) (classification)"
       ]
      },
      {
       "output_type": "stream",
       "stream": "stdout",
       "text": [
        "\n",
        "Accuracy = 89.4% (894/1000) (classification)"
       ]
      },
      {
       "output_type": "stream",
       "stream": "stdout",
       "text": [
        "\n",
        "Accuracy = 82.5% (825/1000) (classification)"
       ]
      },
      {
       "output_type": "stream",
       "stream": "stdout",
       "text": [
        "\n",
        "Accuracy = 82.5% (825/1000) (classification)"
       ]
      },
      {
       "output_type": "stream",
       "stream": "stdout",
       "text": [
        "\n",
        "best label:::------ 100\n",
        "{1000: 0, 1: 4, 10: 46, 100: 14, 10000: 0}\n",
        "\n",
        "**********\n",
        "This is the  64  times\n",
        "Accuracy = 87.6% (876/1000) (classification)"
       ]
      },
      {
       "output_type": "stream",
       "stream": "stdout",
       "text": [
        "\n",
        "Accuracy = 87.6% (876/1000) (classification)"
       ]
      },
      {
       "output_type": "stream",
       "stream": "stdout",
       "text": [
        "\n",
        "Accuracy = 87.3% (873/1000) (classification)"
       ]
      },
      {
       "output_type": "stream",
       "stream": "stdout",
       "text": [
        "\n",
        "Accuracy = 81.9% (819/1000) (classification)"
       ]
      },
      {
       "output_type": "stream",
       "stream": "stdout",
       "text": [
        "\n",
        "Accuracy = 81.9% (819/1000) (classification)"
       ]
      },
      {
       "output_type": "stream",
       "stream": "stdout",
       "text": [
        "\n",
        "best label:::------ 1\n",
        "{1000: 0, 1: 5, 10: 46, 100: 14, 10000: 0}\n",
        "\n",
        "**********\n",
        "This is the  65  times\n",
        "Accuracy = 90.7% (907/1000) (classification)"
       ]
      },
      {
       "output_type": "stream",
       "stream": "stdout",
       "text": [
        "\n",
        "Accuracy = 92.1% (921/1000) (classification)"
       ]
      },
      {
       "output_type": "stream",
       "stream": "stdout",
       "text": [
        "\n",
        "Accuracy = 91.9% (919/1000) (classification)"
       ]
      },
      {
       "output_type": "stream",
       "stream": "stdout",
       "text": [
        "\n",
        "Accuracy = 84.9% (849/1000) (classification)"
       ]
      },
      {
       "output_type": "stream",
       "stream": "stdout",
       "text": [
        "\n",
        "Accuracy = 84.9% (849/1000) (classification)"
       ]
      },
      {
       "output_type": "stream",
       "stream": "stdout",
       "text": [
        "\n",
        "best label:::------ 10\n",
        "{1000: 0, 1: 5, 10: 47, 100: 14, 10000: 0}\n",
        "\n",
        "**********\n",
        "This is the  66  times\n",
        "Accuracy = 88.7% (887/1000) (classification)"
       ]
      },
      {
       "output_type": "stream",
       "stream": "stdout",
       "text": [
        "\n",
        "Accuracy = 89.3% (893/1000) (classification)"
       ]
      },
      {
       "output_type": "stream",
       "stream": "stdout",
       "text": [
        "\n",
        "Accuracy = 89.3% (893/1000) (classification)"
       ]
      },
      {
       "output_type": "stream",
       "stream": "stdout",
       "text": [
        "\n",
        "Accuracy = 82.8% (828/1000) (classification)"
       ]
      },
      {
       "output_type": "stream",
       "stream": "stdout",
       "text": [
        "\n",
        "Accuracy = 82.8% (828/1000) (classification)"
       ]
      },
      {
       "output_type": "stream",
       "stream": "stdout",
       "text": [
        "\n",
        "best label:::------ 10\n",
        "{1000: 0, 1: 5, 10: 48, 100: 14, 10000: 0}\n",
        "\n",
        "**********\n",
        "This is the  67  times\n",
        "Accuracy = 87.6% (876/1000) (classification)"
       ]
      },
      {
       "output_type": "stream",
       "stream": "stdout",
       "text": [
        "\n",
        "Accuracy = 88.9% (889/1000) (classification)"
       ]
      },
      {
       "output_type": "stream",
       "stream": "stdout",
       "text": [
        "\n",
        "Accuracy = 88.7% (887/1000) (classification)"
       ]
      },
      {
       "output_type": "stream",
       "stream": "stdout",
       "text": [
        "\n",
        "Accuracy = 81.2% (812/1000) (classification)"
       ]
      },
      {
       "output_type": "stream",
       "stream": "stdout",
       "text": [
        "\n",
        "Accuracy = 81.2% (812/1000) (classification)"
       ]
      },
      {
       "output_type": "stream",
       "stream": "stdout",
       "text": [
        "\n",
        "best label:::------ 10\n",
        "{1000: 0, 1: 5, 10: 49, 100: 14, 10000: 0}\n",
        "\n",
        "**********\n",
        "This is the  68  times\n",
        "Accuracy = 89.5% (895/1000) (classification)"
       ]
      },
      {
       "output_type": "stream",
       "stream": "stdout",
       "text": [
        "\n",
        "Accuracy = 91% (910/1000) (classification)"
       ]
      },
      {
       "output_type": "stream",
       "stream": "stdout",
       "text": [
        "\n",
        "Accuracy = 90.3% (903/1000) (classification)"
       ]
      },
      {
       "output_type": "stream",
       "stream": "stdout",
       "text": [
        "\n",
        "Accuracy = 83.5% (835/1000) (classification)"
       ]
      },
      {
       "output_type": "stream",
       "stream": "stdout",
       "text": [
        "\n",
        "Accuracy = 83.5% (835/1000) (classification)"
       ]
      },
      {
       "output_type": "stream",
       "stream": "stdout",
       "text": [
        "\n",
        "best label:::------ 10\n",
        "{1000: 0, 1: 5, 10: 50, 100: 14, 10000: 0}\n",
        "\n",
        "**********\n",
        "This is the  69  times\n",
        "Accuracy = 88.1% (881/1000) (classification)"
       ]
      },
      {
       "output_type": "stream",
       "stream": "stdout",
       "text": [
        "\n",
        "Accuracy = 88.6% (886/1000) (classification)"
       ]
      },
      {
       "output_type": "stream",
       "stream": "stdout",
       "text": [
        "\n",
        "Accuracy = 88.1% (881/1000) (classification)"
       ]
      },
      {
       "output_type": "stream",
       "stream": "stdout",
       "text": [
        "\n",
        "Accuracy = 82.9% (829/1000) (classification)"
       ]
      },
      {
       "output_type": "stream",
       "stream": "stdout",
       "text": [
        "\n",
        "Accuracy = 82.9% (829/1000) (classification)"
       ]
      },
      {
       "output_type": "stream",
       "stream": "stdout",
       "text": [
        "\n",
        "best label:::------ 10\n",
        "{1000: 0, 1: 5, 10: 51, 100: 14, 10000: 0}\n",
        "\n",
        "**********\n",
        "This is the  70  times\n",
        "Accuracy = 88.8% (888/1000) (classification)"
       ]
      },
      {
       "output_type": "stream",
       "stream": "stdout",
       "text": [
        "\n",
        "Accuracy = 89.6% (896/1000) (classification)"
       ]
      },
      {
       "output_type": "stream",
       "stream": "stdout",
       "text": [
        "\n",
        "Accuracy = 89.5% (895/1000) (classification)"
       ]
      },
      {
       "output_type": "stream",
       "stream": "stdout",
       "text": [
        "\n",
        "Accuracy = 83.7% (837/1000) (classification)"
       ]
      },
      {
       "output_type": "stream",
       "stream": "stdout",
       "text": [
        "\n",
        "Accuracy = 83.7% (837/1000) (classification)"
       ]
      },
      {
       "output_type": "stream",
       "stream": "stdout",
       "text": [
        "\n",
        "best label:::------ 10\n",
        "{1000: 0, 1: 5, 10: 52, 100: 14, 10000: 0}\n",
        "\n",
        "**********\n",
        "This is the  71  times\n",
        "Accuracy = 90.6% (906/1000) (classification)"
       ]
      },
      {
       "output_type": "stream",
       "stream": "stdout",
       "text": [
        "\n",
        "Accuracy = 91.6% (916/1000) (classification)"
       ]
      },
      {
       "output_type": "stream",
       "stream": "stdout",
       "text": [
        "\n",
        "Accuracy = 91.8% (918/1000) (classification)"
       ]
      },
      {
       "output_type": "stream",
       "stream": "stdout",
       "text": [
        "\n",
        "Accuracy = 84.8% (848/1000) (classification)"
       ]
      },
      {
       "output_type": "stream",
       "stream": "stdout",
       "text": [
        "\n",
        "Accuracy = 84.8% (848/1000) (classification)"
       ]
      },
      {
       "output_type": "stream",
       "stream": "stdout",
       "text": [
        "\n",
        "best label:::------ 100\n",
        "{1000: 0, 1: 5, 10: 52, 100: 15, 10000: 0}\n",
        "\n",
        "**********\n",
        "This is the  72  times\n",
        "Accuracy = 91.8% (918/1000) (classification)"
       ]
      },
      {
       "output_type": "stream",
       "stream": "stdout",
       "text": [
        "\n",
        "Accuracy = 92.3% (923/1000) (classification)"
       ]
      },
      {
       "output_type": "stream",
       "stream": "stdout",
       "text": [
        "\n",
        "Accuracy = 91.5% (915/1000) (classification)"
       ]
      },
      {
       "output_type": "stream",
       "stream": "stdout",
       "text": [
        "\n",
        "Accuracy = 86.2% (862/1000) (classification)"
       ]
      },
      {
       "output_type": "stream",
       "stream": "stdout",
       "text": [
        "\n",
        "Accuracy = 86.2% (862/1000) (classification)"
       ]
      },
      {
       "output_type": "stream",
       "stream": "stdout",
       "text": [
        "\n",
        "best label:::------ 10\n",
        "{1000: 0, 1: 5, 10: 53, 100: 15, 10000: 0}\n",
        "\n",
        "**********\n",
        "This is the  73  times\n",
        "Accuracy = 89.8% (898/1000) (classification)"
       ]
      },
      {
       "output_type": "stream",
       "stream": "stdout",
       "text": [
        "\n",
        "Accuracy = 90.8% (908/1000) (classification)"
       ]
      },
      {
       "output_type": "stream",
       "stream": "stdout",
       "text": [
        "\n",
        "Accuracy = 90.5% (905/1000) (classification)"
       ]
      },
      {
       "output_type": "stream",
       "stream": "stdout",
       "text": [
        "\n",
        "Accuracy = 84.8% (848/1000) (classification)"
       ]
      },
      {
       "output_type": "stream",
       "stream": "stdout",
       "text": [
        "\n",
        "Accuracy = 84.8% (848/1000) (classification)"
       ]
      },
      {
       "output_type": "stream",
       "stream": "stdout",
       "text": [
        "\n",
        "best label:::------ 10\n",
        "{1000: 0, 1: 5, 10: 54, 100: 15, 10000: 0}\n",
        "\n",
        "**********\n",
        "This is the  74  times\n",
        "Accuracy = 89.2% (892/1000) (classification)"
       ]
      },
      {
       "output_type": "stream",
       "stream": "stdout",
       "text": [
        "\n",
        "Accuracy = 90.6% (906/1000) (classification)"
       ]
      },
      {
       "output_type": "stream",
       "stream": "stdout",
       "text": [
        "\n",
        "Accuracy = 89.8% (898/1000) (classification)"
       ]
      },
      {
       "output_type": "stream",
       "stream": "stdout",
       "text": [
        "\n",
        "Accuracy = 83.9% (839/1000) (classification)"
       ]
      },
      {
       "output_type": "stream",
       "stream": "stdout",
       "text": [
        "\n",
        "Accuracy = 83.9% (839/1000) (classification)"
       ]
      },
      {
       "output_type": "stream",
       "stream": "stdout",
       "text": [
        "\n",
        "best label:::------ 10\n",
        "{1000: 0, 1: 5, 10: 55, 100: 15, 10000: 0}\n",
        "\n",
        "**********\n",
        "This is the  75  times\n",
        "Accuracy = 88% (880/1000) (classification)"
       ]
      },
      {
       "output_type": "stream",
       "stream": "stdout",
       "text": [
        "\n",
        "Accuracy = 88.8% (888/1000) (classification)"
       ]
      },
      {
       "output_type": "stream",
       "stream": "stdout",
       "text": [
        "\n",
        "Accuracy = 88.8% (888/1000) (classification)"
       ]
      },
      {
       "output_type": "stream",
       "stream": "stdout",
       "text": [
        "\n",
        "Accuracy = 83.6% (836/1000) (classification)"
       ]
      },
      {
       "output_type": "stream",
       "stream": "stdout",
       "text": [
        "\n",
        "Accuracy = 83.6% (836/1000) (classification)"
       ]
      },
      {
       "output_type": "stream",
       "stream": "stdout",
       "text": [
        "\n",
        "best label:::------ 10\n",
        "{1000: 0, 1: 5, 10: 56, 100: 15, 10000: 0}\n",
        "\n",
        "**********\n",
        "This is the  76  times\n",
        "Accuracy = 89.5% (895/1000) (classification)"
       ]
      },
      {
       "output_type": "stream",
       "stream": "stdout",
       "text": [
        "\n",
        "Accuracy = 90.6% (906/1000) (classification)"
       ]
      },
      {
       "output_type": "stream",
       "stream": "stdout",
       "text": [
        "\n",
        "Accuracy = 89.7% (897/1000) (classification)"
       ]
      },
      {
       "output_type": "stream",
       "stream": "stdout",
       "text": [
        "\n",
        "Accuracy = 82.8% (828/1000) (classification)"
       ]
      },
      {
       "output_type": "stream",
       "stream": "stdout",
       "text": [
        "\n",
        "Accuracy = 82.8% (828/1000) (classification)"
       ]
      },
      {
       "output_type": "stream",
       "stream": "stdout",
       "text": [
        "\n",
        "best label:::------ 10\n",
        "{1000: 0, 1: 5, 10: 57, 100: 15, 10000: 0}\n",
        "\n",
        "**********\n",
        "This is the  77  times\n",
        "Accuracy = 90.4% (904/1000) (classification)"
       ]
      },
      {
       "output_type": "stream",
       "stream": "stdout",
       "text": [
        "\n",
        "Accuracy = 90.5% (905/1000) (classification)"
       ]
      },
      {
       "output_type": "stream",
       "stream": "stdout",
       "text": [
        "\n",
        "Accuracy = 90.2% (902/1000) (classification)"
       ]
      },
      {
       "output_type": "stream",
       "stream": "stdout",
       "text": [
        "\n",
        "Accuracy = 84.9% (849/1000) (classification)"
       ]
      },
      {
       "output_type": "stream",
       "stream": "stdout",
       "text": [
        "\n",
        "Accuracy = 84.9% (849/1000) (classification)"
       ]
      },
      {
       "output_type": "stream",
       "stream": "stdout",
       "text": [
        "\n",
        "best label:::------ 10\n",
        "{1000: 0, 1: 5, 10: 58, 100: 15, 10000: 0}\n",
        "\n",
        "**********\n",
        "This is the  78  times\n",
        "Accuracy = 88.7% (887/1000) (classification)"
       ]
      },
      {
       "output_type": "stream",
       "stream": "stdout",
       "text": [
        "\n",
        "Accuracy = 89.1% (891/1000) (classification)"
       ]
      },
      {
       "output_type": "stream",
       "stream": "stdout",
       "text": [
        "\n",
        "Accuracy = 89.3% (893/1000) (classification)"
       ]
      },
      {
       "output_type": "stream",
       "stream": "stdout",
       "text": [
        "\n",
        "Accuracy = 82% (820/1000) (classification)"
       ]
      },
      {
       "output_type": "stream",
       "stream": "stdout",
       "text": [
        "\n",
        "Accuracy = 82% (820/1000) (classification)"
       ]
      },
      {
       "output_type": "stream",
       "stream": "stdout",
       "text": [
        "\n",
        "best label:::------ 100\n",
        "{1000: 0, 1: 5, 10: 58, 100: 16, 10000: 0}\n",
        "\n",
        "**********\n",
        "This is the  79  times\n",
        "Accuracy = 89.2% (892/1000) (classification)"
       ]
      },
      {
       "output_type": "stream",
       "stream": "stdout",
       "text": [
        "\n",
        "Accuracy = 90.7% (907/1000) (classification)"
       ]
      },
      {
       "output_type": "stream",
       "stream": "stdout",
       "text": [
        "\n",
        "Accuracy = 89.9% (899/1000) (classification)"
       ]
      },
      {
       "output_type": "stream",
       "stream": "stdout",
       "text": [
        "\n",
        "Accuracy = 83.1% (831/1000) (classification)"
       ]
      },
      {
       "output_type": "stream",
       "stream": "stdout",
       "text": [
        "\n",
        "Accuracy = 83.1% (831/1000) (classification)"
       ]
      },
      {
       "output_type": "stream",
       "stream": "stdout",
       "text": [
        "\n",
        "best label:::------ 10\n",
        "{1000: 0, 1: 5, 10: 59, 100: 16, 10000: 0}\n",
        "\n",
        "**********\n",
        "This is the  80  times\n",
        "Accuracy = 90.9% (909/1000) (classification)"
       ]
      },
      {
       "output_type": "stream",
       "stream": "stdout",
       "text": [
        "\n",
        "Accuracy = 91.6% (916/1000) (classification)"
       ]
      },
      {
       "output_type": "stream",
       "stream": "stdout",
       "text": [
        "\n",
        "Accuracy = 91.2% (912/1000) (classification)"
       ]
      },
      {
       "output_type": "stream",
       "stream": "stdout",
       "text": [
        "\n",
        "Accuracy = 83.2% (832/1000) (classification)"
       ]
      },
      {
       "output_type": "stream",
       "stream": "stdout",
       "text": [
        "\n",
        "Accuracy = 83.2% (832/1000) (classification)"
       ]
      },
      {
       "output_type": "stream",
       "stream": "stdout",
       "text": [
        "\n",
        "best label:::------ 10\n",
        "{1000: 0, 1: 5, 10: 60, 100: 16, 10000: 0}\n",
        "\n",
        "**********\n",
        "This is the  81  times\n",
        "Accuracy = 89.1% (891/1000) (classification)"
       ]
      },
      {
       "output_type": "stream",
       "stream": "stdout",
       "text": [
        "\n",
        "Accuracy = 89.4% (894/1000) (classification)"
       ]
      },
      {
       "output_type": "stream",
       "stream": "stdout",
       "text": [
        "\n",
        "Accuracy = 89.7% (897/1000) (classification)"
       ]
      },
      {
       "output_type": "stream",
       "stream": "stdout",
       "text": [
        "\n",
        "Accuracy = 83% (830/1000) (classification)"
       ]
      },
      {
       "output_type": "stream",
       "stream": "stdout",
       "text": [
        "\n",
        "Accuracy = 83% (830/1000) (classification)"
       ]
      },
      {
       "output_type": "stream",
       "stream": "stdout",
       "text": [
        "\n",
        "best label:::------ 100\n",
        "{1000: 0, 1: 5, 10: 60, 100: 17, 10000: 0}\n",
        "\n",
        "**********\n",
        "This is the  82  times\n",
        "Accuracy = 90.2% (902/1000) (classification)"
       ]
      },
      {
       "output_type": "stream",
       "stream": "stdout",
       "text": [
        "\n",
        "Accuracy = 90.8% (908/1000) (classification)"
       ]
      },
      {
       "output_type": "stream",
       "stream": "stdout",
       "text": [
        "\n",
        "Accuracy = 90% (900/1000) (classification)"
       ]
      },
      {
       "output_type": "stream",
       "stream": "stdout",
       "text": [
        "\n",
        "Accuracy = 84.5% (845/1000) (classification)"
       ]
      },
      {
       "output_type": "stream",
       "stream": "stdout",
       "text": [
        "\n",
        "Accuracy = 84.5% (845/1000) (classification)"
       ]
      },
      {
       "output_type": "stream",
       "stream": "stdout",
       "text": [
        "\n",
        "best label:::------ 10\n",
        "{1000: 0, 1: 5, 10: 61, 100: 17, 10000: 0}\n",
        "\n",
        "**********\n",
        "This is the  83  times\n",
        "Accuracy = 89.5% (895/1000) (classification)"
       ]
      },
      {
       "output_type": "stream",
       "stream": "stdout",
       "text": [
        "\n",
        "Accuracy = 90% (900/1000) (classification)"
       ]
      },
      {
       "output_type": "stream",
       "stream": "stdout",
       "text": [
        "\n",
        "Accuracy = 89.6% (896/1000) (classification)"
       ]
      },
      {
       "output_type": "stream",
       "stream": "stdout",
       "text": [
        "\n",
        "Accuracy = 83.8% (838/1000) (classification)"
       ]
      },
      {
       "output_type": "stream",
       "stream": "stdout",
       "text": [
        "\n",
        "Accuracy = 83.8% (838/1000) (classification)"
       ]
      },
      {
       "output_type": "stream",
       "stream": "stdout",
       "text": [
        "\n",
        "best label:::------ 10\n",
        "{1000: 0, 1: 5, 10: 62, 100: 17, 10000: 0}\n",
        "\n",
        "**********\n",
        "This is the  84  times\n",
        "Accuracy = 89% (890/1000) (classification)"
       ]
      },
      {
       "output_type": "stream",
       "stream": "stdout",
       "text": [
        "\n",
        "Accuracy = 89.8% (898/1000) (classification)"
       ]
      },
      {
       "output_type": "stream",
       "stream": "stdout",
       "text": [
        "\n",
        "Accuracy = 89.6% (896/1000) (classification)"
       ]
      },
      {
       "output_type": "stream",
       "stream": "stdout",
       "text": [
        "\n",
        "Accuracy = 82.4% (824/1000) (classification)"
       ]
      },
      {
       "output_type": "stream",
       "stream": "stdout",
       "text": [
        "\n",
        "Accuracy = 82.4% (824/1000) (classification)"
       ]
      },
      {
       "output_type": "stream",
       "stream": "stdout",
       "text": [
        "\n",
        "best label:::------ 10\n",
        "{1000: 0, 1: 5, 10: 63, 100: 17, 10000: 0}\n",
        "\n",
        "**********\n",
        "This is the  85  times\n",
        "Accuracy = 88.8% (888/1000) (classification)"
       ]
      },
      {
       "output_type": "stream",
       "stream": "stdout",
       "text": [
        "\n",
        "Accuracy = 89.8% (898/1000) (classification)"
       ]
      },
      {
       "output_type": "stream",
       "stream": "stdout",
       "text": [
        "\n",
        "Accuracy = 89.5% (895/1000) (classification)"
       ]
      },
      {
       "output_type": "stream",
       "stream": "stdout",
       "text": [
        "\n",
        "Accuracy = 82.1% (821/1000) (classification)"
       ]
      },
      {
       "output_type": "stream",
       "stream": "stdout",
       "text": [
        "\n",
        "Accuracy = 82.1% (821/1000) (classification)"
       ]
      },
      {
       "output_type": "stream",
       "stream": "stdout",
       "text": [
        "\n",
        "best label:::------ 10\n",
        "{1000: 0, 1: 5, 10: 64, 100: 17, 10000: 0}\n",
        "\n",
        "**********\n",
        "This is the  86  times\n",
        "Accuracy = 88.1% (881/1000) (classification)"
       ]
      },
      {
       "output_type": "stream",
       "stream": "stdout",
       "text": [
        "\n",
        "Accuracy = 89.4% (894/1000) (classification)"
       ]
      },
      {
       "output_type": "stream",
       "stream": "stdout",
       "text": [
        "\n",
        "Accuracy = 88.1% (881/1000) (classification)"
       ]
      },
      {
       "output_type": "stream",
       "stream": "stdout",
       "text": [
        "\n",
        "Accuracy = 82.3% (823/1000) (classification)"
       ]
      },
      {
       "output_type": "stream",
       "stream": "stdout",
       "text": [
        "\n",
        "Accuracy = 82.3% (823/1000) (classification)"
       ]
      },
      {
       "output_type": "stream",
       "stream": "stdout",
       "text": [
        "\n",
        "best label:::------ 10\n",
        "{1000: 0, 1: 5, 10: 65, 100: 17, 10000: 0}\n",
        "\n",
        "**********\n",
        "This is the  87  times\n",
        "Accuracy = 88.3% (883/1000) (classification)"
       ]
      },
      {
       "output_type": "stream",
       "stream": "stdout",
       "text": [
        "\n",
        "Accuracy = 88.5% (885/1000) (classification)"
       ]
      },
      {
       "output_type": "stream",
       "stream": "stdout",
       "text": [
        "\n",
        "Accuracy = 87.9% (879/1000) (classification)"
       ]
      },
      {
       "output_type": "stream",
       "stream": "stdout",
       "text": [
        "\n",
        "Accuracy = 82.5% (825/1000) (classification)"
       ]
      },
      {
       "output_type": "stream",
       "stream": "stdout",
       "text": [
        "\n",
        "Accuracy = 82.5% (825/1000) (classification)"
       ]
      },
      {
       "output_type": "stream",
       "stream": "stdout",
       "text": [
        "\n",
        "best label:::------ 10\n",
        "{1000: 0, 1: 5, 10: 66, 100: 17, 10000: 0}\n",
        "\n",
        "**********\n",
        "This is the  88  times\n",
        "Accuracy = 90.4% (904/1000) (classification)"
       ]
      },
      {
       "output_type": "stream",
       "stream": "stdout",
       "text": [
        "\n",
        "Accuracy = 91.4% (914/1000) (classification)"
       ]
      },
      {
       "output_type": "stream",
       "stream": "stdout",
       "text": [
        "\n",
        "Accuracy = 91.3% (913/1000) (classification)"
       ]
      },
      {
       "output_type": "stream",
       "stream": "stdout",
       "text": [
        "\n",
        "Accuracy = 84.7% (847/1000) (classification)"
       ]
      },
      {
       "output_type": "stream",
       "stream": "stdout",
       "text": [
        "\n",
        "Accuracy = 84.7% (847/1000) (classification)"
       ]
      },
      {
       "output_type": "stream",
       "stream": "stdout",
       "text": [
        "\n",
        "best label:::------ 10\n",
        "{1000: 0, 1: 5, 10: 67, 100: 17, 10000: 0}\n",
        "\n",
        "**********\n",
        "This is the  89  times\n",
        "Accuracy = 90.7% (907/1000) (classification)"
       ]
      },
      {
       "output_type": "stream",
       "stream": "stdout",
       "text": [
        "\n",
        "Accuracy = 91.8% (918/1000) (classification)"
       ]
      },
      {
       "output_type": "stream",
       "stream": "stdout",
       "text": [
        "\n",
        "Accuracy = 91.4% (914/1000) (classification)"
       ]
      },
      {
       "output_type": "stream",
       "stream": "stdout",
       "text": [
        "\n",
        "Accuracy = 84.6% (846/1000) (classification)"
       ]
      },
      {
       "output_type": "stream",
       "stream": "stdout",
       "text": [
        "\n",
        "Accuracy = 84.6% (846/1000) (classification)"
       ]
      },
      {
       "output_type": "stream",
       "stream": "stdout",
       "text": [
        "\n",
        "best label:::------ 10\n",
        "{1000: 0, 1: 5, 10: 68, 100: 17, 10000: 0}\n",
        "\n",
        "**********\n",
        "This is the  90  times\n",
        "Accuracy = 89.5% (895/1000) (classification)"
       ]
      },
      {
       "output_type": "stream",
       "stream": "stdout",
       "text": [
        "\n",
        "Accuracy = 90% (900/1000) (classification)"
       ]
      },
      {
       "output_type": "stream",
       "stream": "stdout",
       "text": [
        "\n",
        "Accuracy = 89.6% (896/1000) (classification)"
       ]
      },
      {
       "output_type": "stream",
       "stream": "stdout",
       "text": [
        "\n",
        "Accuracy = 83.8% (838/1000) (classification)"
       ]
      },
      {
       "output_type": "stream",
       "stream": "stdout",
       "text": [
        "\n",
        "Accuracy = 83.8% (838/1000) (classification)"
       ]
      },
      {
       "output_type": "stream",
       "stream": "stdout",
       "text": [
        "\n",
        "best label:::------ 10\n",
        "{1000: 0, 1: 5, 10: 69, 100: 17, 10000: 0}\n",
        "\n",
        "**********\n",
        "This is the  91  times\n",
        "Accuracy = 90.5% (905/1000) (classification)"
       ]
      },
      {
       "output_type": "stream",
       "stream": "stdout",
       "text": [
        "\n",
        "Accuracy = 90.2% (902/1000) (classification)"
       ]
      },
      {
       "output_type": "stream",
       "stream": "stdout",
       "text": [
        "\n",
        "Accuracy = 89.5% (895/1000) (classification)"
       ]
      },
      {
       "output_type": "stream",
       "stream": "stdout",
       "text": [
        "\n",
        "Accuracy = 84.9% (849/1000) (classification)"
       ]
      },
      {
       "output_type": "stream",
       "stream": "stdout",
       "text": [
        "\n",
        "Accuracy = 84.9% (849/1000) (classification)"
       ]
      },
      {
       "output_type": "stream",
       "stream": "stdout",
       "text": [
        "\n",
        "best label:::------ 1\n",
        "{1000: 0, 1: 6, 10: 69, 100: 17, 10000: 0}\n",
        "\n",
        "**********\n",
        "This is the  92  times\n",
        "Accuracy = 89% (890/1000) (classification)"
       ]
      },
      {
       "output_type": "stream",
       "stream": "stdout",
       "text": [
        "\n",
        "Accuracy = 89.5% (895/1000) (classification)"
       ]
      },
      {
       "output_type": "stream",
       "stream": "stdout",
       "text": [
        "\n",
        "Accuracy = 89.3% (893/1000) (classification)"
       ]
      },
      {
       "output_type": "stream",
       "stream": "stdout",
       "text": [
        "\n",
        "Accuracy = 82.1% (821/1000) (classification)"
       ]
      },
      {
       "output_type": "stream",
       "stream": "stdout",
       "text": [
        "\n",
        "Accuracy = 82.1% (821/1000) (classification)"
       ]
      },
      {
       "output_type": "stream",
       "stream": "stdout",
       "text": [
        "\n",
        "best label:::------ 10\n",
        "{1000: 0, 1: 6, 10: 70, 100: 17, 10000: 0}\n",
        "\n",
        "**********\n",
        "This is the  93  times\n",
        "Accuracy = 88.5% (885/1000) (classification)"
       ]
      },
      {
       "output_type": "stream",
       "stream": "stdout",
       "text": [
        "\n",
        "Accuracy = 89.6% (896/1000) (classification)"
       ]
      },
      {
       "output_type": "stream",
       "stream": "stdout",
       "text": [
        "\n",
        "Accuracy = 89.9% (899/1000) (classification)"
       ]
      },
      {
       "output_type": "stream",
       "stream": "stdout",
       "text": [
        "\n",
        "Accuracy = 83.5% (835/1000) (classification)"
       ]
      },
      {
       "output_type": "stream",
       "stream": "stdout",
       "text": [
        "\n",
        "Accuracy = 83.5% (835/1000) (classification)"
       ]
      },
      {
       "output_type": "stream",
       "stream": "stdout",
       "text": [
        "\n",
        "best label:::------ 100\n",
        "{1000: 0, 1: 6, 10: 70, 100: 18, 10000: 0}\n",
        "\n",
        "**********\n",
        "This is the  94  times\n",
        "Accuracy = 88.4% (884/1000) (classification)"
       ]
      },
      {
       "output_type": "stream",
       "stream": "stdout",
       "text": [
        "\n",
        "Accuracy = 89.5% (895/1000) (classification)"
       ]
      },
      {
       "output_type": "stream",
       "stream": "stdout",
       "text": [
        "\n",
        "Accuracy = 89.4% (894/1000) (classification)"
       ]
      },
      {
       "output_type": "stream",
       "stream": "stdout",
       "text": [
        "\n",
        "Accuracy = 83.8% (838/1000) (classification)"
       ]
      },
      {
       "output_type": "stream",
       "stream": "stdout",
       "text": [
        "\n",
        "Accuracy = 83.8% (838/1000) (classification)"
       ]
      },
      {
       "output_type": "stream",
       "stream": "stdout",
       "text": [
        "\n",
        "best label:::------ 10\n",
        "{1000: 0, 1: 6, 10: 71, 100: 18, 10000: 0}\n",
        "\n",
        "**********\n",
        "This is the  95  times\n",
        "Accuracy = 88.9% (889/1000) (classification)"
       ]
      },
      {
       "output_type": "stream",
       "stream": "stdout",
       "text": [
        "\n",
        "Accuracy = 89.1% (891/1000) (classification)"
       ]
      },
      {
       "output_type": "stream",
       "stream": "stdout",
       "text": [
        "\n",
        "Accuracy = 89.4% (894/1000) (classification)"
       ]
      },
      {
       "output_type": "stream",
       "stream": "stdout",
       "text": [
        "\n",
        "Accuracy = 83% (830/1000) (classification)"
       ]
      },
      {
       "output_type": "stream",
       "stream": "stdout",
       "text": [
        "\n",
        "Accuracy = 83% (830/1000) (classification)"
       ]
      },
      {
       "output_type": "stream",
       "stream": "stdout",
       "text": [
        "\n",
        "best label:::------ 100\n",
        "{1000: 0, 1: 6, 10: 71, 100: 19, 10000: 0}\n",
        "\n",
        "**********\n",
        "This is the  96  times\n",
        "Accuracy = 89.1% (891/1000) (classification)"
       ]
      },
      {
       "output_type": "stream",
       "stream": "stdout",
       "text": [
        "\n",
        "Accuracy = 90% (900/1000) (classification)"
       ]
      },
      {
       "output_type": "stream",
       "stream": "stdout",
       "text": [
        "\n",
        "Accuracy = 90.4% (904/1000) (classification)"
       ]
      },
      {
       "output_type": "stream",
       "stream": "stdout",
       "text": [
        "\n",
        "Accuracy = 83.6% (836/1000) (classification)"
       ]
      },
      {
       "output_type": "stream",
       "stream": "stdout",
       "text": [
        "\n",
        "Accuracy = 83.6% (836/1000) (classification)"
       ]
      },
      {
       "output_type": "stream",
       "stream": "stdout",
       "text": [
        "\n",
        "best label:::------ 100\n",
        "{1000: 0, 1: 6, 10: 71, 100: 20, 10000: 0}\n",
        "\n",
        "**********\n",
        "This is the  97  times\n",
        "Accuracy = 89.6% (896/1000) (classification)"
       ]
      },
      {
       "output_type": "stream",
       "stream": "stdout",
       "text": [
        "\n",
        "Accuracy = 90% (900/1000) (classification)"
       ]
      },
      {
       "output_type": "stream",
       "stream": "stdout",
       "text": [
        "\n",
        "Accuracy = 90.6% (906/1000) (classification)"
       ]
      },
      {
       "output_type": "stream",
       "stream": "stdout",
       "text": [
        "\n",
        "Accuracy = 85.1% (851/1000) (classification)"
       ]
      },
      {
       "output_type": "stream",
       "stream": "stdout",
       "text": [
        "\n",
        "Accuracy = 85.1% (851/1000) (classification)"
       ]
      },
      {
       "output_type": "stream",
       "stream": "stdout",
       "text": [
        "\n",
        "best label:::------ 100\n",
        "{1000: 0, 1: 6, 10: 71, 100: 21, 10000: 0}\n",
        "\n",
        "**********\n",
        "This is the  98  times\n",
        "Accuracy = 90.4% (904/1000) (classification)"
       ]
      },
      {
       "output_type": "stream",
       "stream": "stdout",
       "text": [
        "\n",
        "Accuracy = 91.6% (916/1000) (classification)"
       ]
      },
      {
       "output_type": "stream",
       "stream": "stdout",
       "text": [
        "\n",
        "Accuracy = 91.1% (911/1000) (classification)"
       ]
      },
      {
       "output_type": "stream",
       "stream": "stdout",
       "text": [
        "\n",
        "Accuracy = 85.5% (855/1000) (classification)"
       ]
      },
      {
       "output_type": "stream",
       "stream": "stdout",
       "text": [
        "\n",
        "Accuracy = 85.5% (855/1000) (classification)"
       ]
      },
      {
       "output_type": "stream",
       "stream": "stdout",
       "text": [
        "\n",
        "best label:::------ 10\n",
        "{1000: 0, 1: 6, 10: 72, 100: 21, 10000: 0}\n",
        "\n",
        "**********\n",
        "This is the  99  times\n",
        "Accuracy = 89.5% (895/1000) (classification)"
       ]
      },
      {
       "output_type": "stream",
       "stream": "stdout",
       "text": [
        "\n",
        "Accuracy = 89.9% (899/1000) (classification)"
       ]
      },
      {
       "output_type": "stream",
       "stream": "stdout",
       "text": [
        "\n",
        "Accuracy = 89.3% (893/1000) (classification)"
       ]
      },
      {
       "output_type": "stream",
       "stream": "stdout",
       "text": [
        "\n",
        "Accuracy = 83.7% (837/1000) (classification)"
       ]
      },
      {
       "output_type": "stream",
       "stream": "stdout",
       "text": [
        "\n",
        "Accuracy = 83.7% (837/1000) (classification)"
       ]
      },
      {
       "output_type": "stream",
       "stream": "stdout",
       "text": [
        "\n",
        "best label:::------ 10\n",
        "{1000: 0, 1: 6, 10: 73, 100: 21, 10000: 0}\n",
        "\n",
        "CPU times: user 32min 16s, sys: 24.1 s, total: 32min 40s\n",
        "Wall time: 32min 42s\n"
       ]
      }
     ],
     "prompt_number": 8
    }
   ],
   "metadata": {}
  }
 ]
}